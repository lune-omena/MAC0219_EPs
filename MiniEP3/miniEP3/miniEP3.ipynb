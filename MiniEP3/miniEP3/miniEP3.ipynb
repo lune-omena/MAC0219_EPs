{
 "cells": [
  {
   "cell_type": "markdown",
   "metadata": {},
   "source": [
    "# MiniEP3 - Aproximação de Integrais usando Médias e Amostragem Uniforme, com a biblioteca *pthreads*\n",
    "\n",
    "## Entrega do miniEP3\n",
    "\n",
    "Preencha o nome dos 5 membros do seu grupo na tabela abaixo:\n",
    "\n",
    "| Nome | NUSP |\n",
    "|------|------|\n",
    "| Giulia C. de Nardi | 10692203 |\n",
    "| Vitor D. Tamae | 10705620 |\n",
    "| Lucy Anne de Omena Evangelista | 11221776 |\n",
    "| Leonardo Costa Santos | 10783142 |\n",
    "| Membro5 | 12345789 |\n",
    "\n",
    "**Apenas um dos membros** deverá entregar um **arquivo .tar**, até o dia **29 de Abril**, com:\n",
    "\n",
    "1. **Este arquivo** `.ipynb`, com as soluções do miniEP3 **feitas pelo grupo**\n",
    "    \n",
    "    - Os gráficos e análises devem poder ser produzidos\n",
    "    \n",
    "    \n",
    "2. O **código C escrito** (arquivo `monte_carlo.c`)\n",
    "\n",
    "    - Deve compilar e executar **sem erros**\n",
    "    \n",
    "    \n",
    "    \n",
    "3. Os arquivos `Makefile`, e `Project.toml`\n",
    "4. Um **arquivo .csv** com os resultados das medições feitas neste miniEP\n",
    "\n",
    "    - Entregue os dados de cada repetição, sem processamento (não calcule a média e CI)\n",
    "\n",
    "## Configuração do Ambiente\n",
    "\n",
    "Como no miniEP1&2, a primeira tarefa é instalar e configurar o ambiente.\n",
    "\n",
    "### Compilador C\n",
    "\n",
    "Neste miniEP também vamos usar a linguagem C e a biblioteca *pthreads*. Vocês vão precisar de acesso a um sistema Linux com o compilador GCC e a biblioteca *pthreads*. Caso não consiga instalar o GCC ou tenha dificuldades para acessar um sistema Linux, entre em contato pelo fórum do *Edisciplinas*.\n",
    "\n",
    "### Julia, Jupyter, IJulia\n",
    "\n",
    "Pule essa etapa se já configurou o ambiente Julia no miniEP1&2.\n",
    "Para fazer o miniEP, vocês vão precisar:\n",
    "\n",
    "- [Instalar o Jupyter Notebook](https://jupyter.readthedocs.io/en/latest/install.html)\n",
    "- Instalar Julia 1.3:\n",
    "    - [Baixando o binário](https://julialang.org/downloads/)\n",
    "    - **ou** [usando seu gerenciador de pacotes](https://julialang.org/downloads/platform/)\n",
    "- Instalar o pacote *IJulia*:\n",
    "    - Inicie o interpretador Julia\n",
    "    - Digite `] add IJulia` e pressione `<ENTER>`\n",
    "    \n",
    "Depois disso, vocês vão conseguir iniciar o arquivo `.ipynb` do miniEP.\n",
    "\n",
    "### Pacotes Julia para o miniEP\n",
    "\n",
    "Os pacotes necessários para o miniEP estão listados no arquivo `Project.toml`, mas vocês podem instalar e atualizar os pacotes rodando a célula abaixo:"
   ]
  },
  {
   "cell_type": "code",
   "execution_count": 1,
   "metadata": {},
   "outputs": [
    {
     "name": "stdout",
     "output_type": "stream",
     "text": [
      "\u001b[32m\u001b[1m  Updating\u001b[22m\u001b[39m registry at `~/.julia/registries/General`\n",
      "\u001b[32m\u001b[1m  Updating\u001b[22m\u001b[39m git-repo `https://github.com/JuliaRegistries/General.git`\n",
      "\u001b[?25l\u001b[2K\u001b[?25h\u001b[32m\u001b[1m Resolving\u001b[22m\u001b[39m package versions...\n",
      "\u001b[32m\u001b[1m  Updating\u001b[22m\u001b[39m `~/Documents/Terceiro Semestre/MAC - 0219/MAC0219_MiniEP1/MiniEP3/miniEP3/Project.toml`\n",
      "\u001b[90m [no changes]\u001b[39m\n",
      "\u001b[32m\u001b[1m  Updating\u001b[22m\u001b[39m `~/Documents/Terceiro Semestre/MAC - 0219/MAC0219_MiniEP1/MiniEP3/miniEP3/Manifest.toml`\n",
      "\u001b[90m [no changes]\u001b[39m\n"
     ]
    }
   ],
   "source": [
    "] up"
   ]
  },
  {
   "cell_type": "markdown",
   "metadata": {},
   "source": [
    "Verifique o status dos pacotes, e se há algum problema, com o comando:"
   ]
  },
  {
   "cell_type": "code",
   "execution_count": 2,
   "metadata": {},
   "outputs": [
    {
     "name": "stdout",
     "output_type": "stream",
     "text": [
      "\u001b[32m\u001b[1m    Status\u001b[22m\u001b[39m `~/Documents/Terceiro Semestre/MAC - 0219/MAC0219_MiniEP1/MiniEP3/miniEP3/Project.toml`\n",
      " \u001b[90m [336ed68f]\u001b[39m\u001b[37m CSV v0.6.1\u001b[39m\n",
      " \u001b[90m [a93c6f00]\u001b[39m\u001b[37m DataFrames v0.20.2\u001b[39m\n",
      " \u001b[90m [31c24e10]\u001b[39m\u001b[37m Distributions v0.23.2\u001b[39m\n",
      " \u001b[90m [7073ff75]\u001b[39m\u001b[37m IJulia v1.21.2\u001b[39m\n",
      " \u001b[90m [8314cec4]\u001b[39m\u001b[37m PGFPlotsX v1.2.6\u001b[39m\n",
      " \u001b[90m [1a8c2f83]\u001b[39m\u001b[37m Query v0.12.2\u001b[39m\n",
      " \u001b[90m [f3b207a7]\u001b[39m\u001b[37m StatsPlots v0.14.5\u001b[39m\n"
     ]
    }
   ],
   "source": [
    "] st"
   ]
  },
  {
   "cell_type": "markdown",
   "metadata": {},
   "source": [
    "## Integração por Método de Monte Carlo\n",
    "\n",
    "O objetivo deste miniEP é promover o estudo de programação paralela usando a biblioteca *pthreads*. Vamos utilizar uma versão sequencial em C do código em Julia do miniEP1&2. A tarefa deste miniEP será completar a implementação em C, escrever um programa paralelo usando a biblioteca *pthreads*, e analisar o desempenho do programa escrito com diferentes números de threads.\n",
    "\n",
    "Lembrando o que vimos no miniEP1&2, a intuição por trás do método de Monte Carlo é que a integral de uma função $f$ pode ser estimada pela média do valor de $f$ num conjunto suficientemente grande de pontos obtidos a partir de uma distribuição uniforme. Mais formalmente, para um conjunto de pontos $x_1,\\dots,x_N$ uniformemente amostrados num intervalo $[a,b]$, a integral de $f$ no intervalo $[a,b]$ pode ser aproximada por:\n",
    "\n",
    "$$\n",
    "\\int_{a}^{b} f(x)dx \\approx \\mathbb{E}\\left[\\left(b - a\\right)\\dfrac{1}{N}\\sum\\limits_{i = 1}^{N}{f(x_i)}\\right] \n",
    "$$\n",
    "\n",
    "Para uma representação gráfica da intuição, e para a prova dessa aproximação, veja [esta página](https://www.scratchapixel.com/lessons/mathematics-physics-for-computer-graphics/monte-carlo-methods-in-practice/monte-carlo-integration).\n",
    "\n",
    "A Integração por Método de Monte Carlo é um problema [embaraçosamente paralelo](https://en.wikipedia.org/wiki/Embarrassingly_parallel), isto é, podemos executar todas as iterações envolvidas **em paralelo**, sem nos preocupar com conflitos de acesso à memória. Apesar disso, vamos ver neste miniEP que não basta apenas aumentar a quantidade de recursos computacionais para ganhar desempenho.\n",
    "\n",
    "### Função Alvo\n",
    "\n",
    "Vamos estimar a integral da seguinte função:\n",
    "\n",
    "$$\n",
    "f_1(x) = \\dfrac{2}{\\sqrt{1 - x ^ 2}}\n",
    "$$\n",
    "\n",
    "A integral da função $f_1$, é [dada por](https://en.wikipedia.org/wiki/List_of_definite_integrals#Definite_integrals_involving_rational_or_irrational_expressions):\n",
    "\n",
    "$$\n",
    "\\int_{0}^{1}{f_1(x)dx} = \\int_{0}^{1}{\\dfrac{2}{\\sqrt{1 - x ^ 2}}dx} = \\pi\n",
    "$$\n",
    "\n",
    "## Exercício 1: Implementação Sequencial em C\n",
    "\n",
    "Lembre-se do código em Julia:"
   ]
  },
  {
   "cell_type": "code",
   "execution_count": 3,
   "metadata": {},
   "outputs": [
    {
     "data": {
      "text/plain": [
       "monte_carlo_integrate (generic function with 2 methods)"
      ]
     },
     "execution_count": 3,
     "metadata": {},
     "output_type": "execute_result"
    }
   ],
   "source": [
    "using Distributions\n",
    "\n",
    "function monte_carlo_integrate(f, interval, samples = 100)\n",
    "    xs = rand(Uniform(interval[1], interval[2]), samples)\n",
    "    \n",
    "    # Using for loops:\n",
    "    # accumulator = 0\n",
    "    #\n",
    "    # for x in xs\n",
    "    #     accumulator += f(x)\n",
    "    # end\n",
    "    #\n",
    "    # return accumulator / samples\n",
    "    \n",
    "    # Using vectorized function application:\n",
    "    return sum(f.(xs)) / samples\n",
    "end"
   ]
  },
  {
   "cell_type": "markdown",
   "metadata": {},
   "source": [
    "O primeiro exercício consiste em completar a implementação sequencial em C, fornecida no arquivo `monte_carlo.c`. Baseiem-se na versão Julia, e usem seus editores de código preferidos para modificar e escrever código em C. Se vocês ainda não têm preferência de editor de código, procurem experimentar editores como o Emacs e o Vim. São programas antigos e com uma curva de aprendizado um pouco íngreme, mas são muito poderosos e os esforços se pagam com juros. Esta pode ser uma chance de aprender a usá-los.\n",
    "\n",
    "Vocês devem escrever a função de assinatura:\n",
    "\n",
    "```C\n",
    "long double monte_carlo_integrate(long double (*f)(long double), long double *samples, int size)\n",
    "```\n",
    "\n",
    "Na assinatura acima, o parâmetro `f` é um ponteiro para uma função que recebe um `long double` e devolve um `long double`, `samples` é um ponteiro para um vetor de `long double` onde vamos guardar os valores de `f` que queremos avaliar, e `size` é o tamanho de `samples`.\n",
    "\n",
    "A primeira parte do exercício é ler e compreender o funcionamento do código em C fornecido no enunciado. É um exercício interessante para ver como uma linguagem de alto nível, como Julia, abstrai camadas conceituais e facilita a prototipagem de código complexo ao custo de esconder detalhes de implementação.\n",
    "\n",
    "### Exercício 1a)"
   ]
  },
  {
   "cell_type": "markdown",
   "metadata": {},
   "source": [
    "Vocês podem compilar e executar o programa `monte_carlo.c` através deste notebook acessando o *modo shell* do interpretador Julia com a tecla `;`:"
   ]
  },
  {
   "cell_type": "code",
   "execution_count": 4,
   "metadata": {},
   "outputs": [
    {
     "name": "stdout",
     "output_type": "stream",
     "text": [
      "gcc monte_carlo.c -o monte_carlo -Wall -lpthread -lm -DDEBUG=1\n"
     ]
    }
   ],
   "source": [
    "; make debug"
   ]
  },
  {
   "cell_type": "markdown",
   "metadata": {},
   "source": [
    "Depois, podemos rodar o programa compilado com:"
   ]
  },
  {
   "cell_type": "code",
   "execution_count": 5,
   "metadata": {},
   "outputs": [
    {
     "name": "stdout",
     "output_type": "stream",
     "text": [
      "usage: ./monte_carlo SAMPLES FUNCTION_ID N_THREADS\n"
     ]
    }
   ],
   "source": [
    "; ./monte_carlo"
   ]
  },
  {
   "cell_type": "markdown",
   "metadata": {},
   "source": [
    "Seguindo as instruções de uso, temos:"
   ]
  },
  {
   "cell_type": "code",
   "execution_count": 6,
   "metadata": {},
   "outputs": [
    {
     "name": "stdout",
     "output_type": "stream",
     "text": [
      "Running on: [debug mode]\n",
      "Samples: [10000000]\n",
      "Function id: [0]\n",
      "Threads: [1]\n",
      "Array size on memory: [0.16GB]\n",
      "Running sequential version\n",
      "3.1424592056492130, [0.701448, clock], [0.701828, clock_gettime], [0.701828, gettimeofday]\n"
     ]
    }
   ],
   "source": [
    "; ./monte_carlo 10000000 0 1"
   ]
  },
  {
   "cell_type": "markdown",
   "metadata": {},
   "source": [
    "Como compilamos no modo *debug*, veremos muitas mensagens extras, que coloquei no programa pra ajudar na implementação. Para compilar no modo normal, use o comando `make` sem argumentos. Note que o programa ainda não faz nada além de alocar memória, e que isso já leva algum tempo.\n",
    "\n",
    "Note que escolhi deixar a alocação de memória e o cálculo das amostra a avaliar fora da função `monte_carlo_integrate` na versão C. A geração das amostras aleatórias foi feita com a função `rand()` e com uma função que mapeia um intervalo a outro.\n",
    "\n",
    "\n",
    "Descreva abaixo como o tempo de execução é calculado e impresso pelo programa `monte_carlo`. Por que vocês acham que eu escolhi colocar as medições de tempo onde coloquei?"
   ]
  },
  {
   "cell_type": "markdown",
   "metadata": {},
   "source": []
  },
  {
   "cell_type": "markdown",
   "metadata": {},
   "source": [
    "### Exercício 1b)\n",
    "\n",
    "Agora, a sua tarefa é implementar a função `monte_carlo_integrate`.\n",
    "\n",
    "Quando terminar, rode as células abaixo. A saída deve conter a estimativa para o valor de $\\pi$ e o tempo de execução, produzidos pelo programa `monte_carlo`. Escolha um número de amostras adequado à quantidade de memória disponível em seu computador.\n",
    "\n",
    "Lembre-se de **entregar também o arquivo .c** com suas modificações."
   ]
  },
  {
   "cell_type": "code",
   "execution_count": 7,
   "metadata": {
    "scrolled": true
   },
   "outputs": [
    {
     "name": "stdout",
     "output_type": "stream",
     "text": [
      "gcc monte_carlo.c -o monte_carlo -Wall -lpthread -lm -DDEBUG=1\n"
     ]
    }
   ],
   "source": [
    "; make debug"
   ]
  },
  {
   "cell_type": "code",
   "execution_count": 8,
   "metadata": {
    "scrolled": true
   },
   "outputs": [
    {
     "name": "stdout",
     "output_type": "stream",
     "text": [
      "Running on: [debug mode]\n",
      "Samples: [100000000]\n",
      "Function id: [0]\n",
      "Threads: [1]\n",
      "Array size on memory: [1.60GB]\n",
      "Running sequential version\n",
      "3.1411194304318713, [7.668512, clock], [7.669204, clock_gettime], [7.669203, gettimeofday]\n"
     ]
    }
   ],
   "source": [
    "; ./monte_carlo 100000000 0 1"
   ]
  },
  {
   "cell_type": "markdown",
   "metadata": {},
   "source": [
    "## Exercício 2: Implementação Paralela com *pthreads*\n",
    "\n",
    "Este exercício é mais complexo. Vocês devem escrever a função de assinatura:\n",
    "\n",
    "```C\n",
    "void *monte_carlo_integrate_thread(void *args)\n",
    "```\n",
    "\n",
    "Na assinatura acima, o parâmetro `args` é um ponteiro para uma estrutura de dados contendo dados para cada thread. Para implementar essa estrutura de dados, vocês devem decidir quais informações cada thread deve receber. Algumas ideias:\n",
    "\n",
    "- Um ponteiro para a função a ser avaliada\n",
    "- Um ponteiro para o vetor de amostras gerado\n",
    "- Um inteiro com o id da thread\n",
    "\n",
    "De acordo com a sua estratégia de implementação paralela, vocês vão precisar incluir informações diferentes. Algo de importante está faltando na lista acima. Como as threads poderiam armazenar seus resultados?\n",
    "\n",
    "Precisamos escolher uma dentre as várias formas de implementar esse algoritmo paralelo. Pensei em algumas possibilidades:\n",
    "\n",
    "1. Método \"Criando threads dinamicamente\":\n",
    "  - Lançar $n$ threads, cada uma com $1$ (ou $m$?) unidades de trabalho a fazer\n",
    "  - Usar variáveis de condição ou joins para sinalizar fim de trabalho\n",
    "  - Lançar novas threads conforme threads terminarem\n",
    "  - Usar join para finalizar\n",
    "2. Método \"Divisão Dinâmica do Trabalho\":\n",
    "  - Lançar $n$ threads, cada uma com $1$ (ou $m$?) unidades de trabalho a fazer\n",
    "  - Cada thread busca por trabalho disponível a fazer quando acabar o trabalho dado\n",
    "  - Usar join para finalizar\n",
    "3. Método \"Divisão Estática do Trabalho\":\n",
    "  - Lançar $n$ threads, cada uma com $1/n$ unidades de trabalho a fazer\n",
    "  - Usar join para finalizar\n",
    "  \n",
    "Usando seus conhecimentos sobre *pthreads* e sobre a execução de programas em geral, responda e explique:\n",
    "\n",
    "1. Qual desses métodos é o mais difícil de implementar? E o mais fácil?\n",
    "2. Qual método atingiria o menor tempo de execução?"
   ]
  },
  {
   "cell_type": "markdown",
   "metadata": {},
   "source": []
  },
  {
   "cell_type": "markdown",
   "metadata": {},
   "source": [
    "Escolha um desses, ou um quarto método que preferir, para fazer a implementação paralela do miniEP3. Vocês vão precisar implementar toda a estrutura de suporte à execução das threads.\n",
    "\n",
    "Quando terminar, rode as células abaixo. A saída deve conter a estimativa para o valor de $\\pi$ e o tempo de execução, produzidos pelo programa `monte_carlo`. Escolha um número de amostras e de threads adequado à quantidade de memória e aos núcleos de processamento disponíveis em seu computador.\n",
    "\n",
    "Lembre-se de **entregar também o arquivo .c** com suas modificações."
   ]
  },
  {
   "cell_type": "code",
   "execution_count": 9,
   "metadata": {
    "scrolled": false
   },
   "outputs": [
    {
     "name": "stdout",
     "output_type": "stream",
     "text": [
      "gcc monte_carlo.c -o monte_carlo -Wall -lpthread -lm -DDEBUG=1\n"
     ]
    }
   ],
   "source": [
    "; make debug"
   ]
  },
  {
   "cell_type": "code",
   "execution_count": 10,
   "metadata": {
    "scrolled": true
   },
   "outputs": [
    {
     "name": "stdout",
     "output_type": "stream",
     "text": [
      "Running on: [debug mode]\n",
      "Samples: [100000000]\n",
      "Function id: [0]\n",
      "Threads: [32]\n",
      "Array size on memory: [1.60GB]\n",
      "Running parallel version\n",
      "3.1406149022918636, [10.149123, clock], [8.324577, clock_gettime], [8.324577, gettimeofday]\n"
     ]
    }
   ],
   "source": [
    "; ./monte_carlo 100000000 0 32"
   ]
  },
  {
   "cell_type": "markdown",
   "metadata": {},
   "source": [
    "## Exercício 3: Análise de Desempenho\n",
    "\n",
    "Agora, vamos medir o desempenho do programa que vocês implementaram neste trabalho. Vamos usar funções em Julia, adaptadas do miniEP1&2, e gerar gráficos do tempo de execução e da estimativa da integral para diferentes números de threads.\n",
    "\n",
    "### Funções Úteis\n",
    "\n",
    "A função abaixo recebe parâmetros `size`, com tamanho da amostra, `f`, com a id da função a estimar, e `threads`, com o número de threads do programa paralelo. A função executa o programa `monte_carlo` com os parâmetros dados e devolve um `DataFrame` com os resultados."
   ]
  },
  {
   "cell_type": "code",
   "execution_count": 11,
   "metadata": {},
   "outputs": [
    {
     "data": {
      "text/plain": [
       "measure_monte_carlo (generic function with 1 method)"
      ]
     },
     "execution_count": 11,
     "metadata": {},
     "output_type": "execute_result"
    }
   ],
   "source": [
    "using DataFrames, Query, StatsPlots, Statistics\n",
    "\n",
    "function measure_monte_carlo(size, f, threads)\n",
    "    results = parse.(Float64,\n",
    "        split(chomp(read(`./monte_carlo $size $f $threads`, String)), \",\"))\n",
    "        \n",
    "    return DataFrame(size = size,\n",
    "        f = f,\n",
    "        threads = threads,\n",
    "        estimate = results[1],\n",
    "        duration = results[2])\n",
    "end"
   ]
  },
  {
   "cell_type": "markdown",
   "metadata": {},
   "source": [
    "A função `run_experiments` recebe os mesmos parâmetros `size`, `f`, e `threads`, e um parâmetro adicional `repetitions`, com o número de repetições de cada experimento com um dado número de `threads`. A função devolve um `DataFrame` com todos os experimentos."
   ]
  },
  {
   "cell_type": "code",
   "execution_count": 12,
   "metadata": {},
   "outputs": [
    {
     "data": {
      "text/plain": [
       "run_experiments (generic function with 1 method)"
      ]
     },
     "execution_count": 12,
     "metadata": {},
     "output_type": "execute_result"
    }
   ],
   "source": [
    "function run_experiments(size, f, threads, repetitions)\n",
    "    run(`make`)\n",
    "    \n",
    "    results = DataFrame(size = Int[],\n",
    "        f = Int[],\n",
    "        threads = Int[],\n",
    "        estimate = Float64[],\n",
    "        duration = Float64[])  \n",
    "    \n",
    "    for t in threads\n",
    "        for r in 1:repetitions\n",
    "            append!(results,\n",
    "                measure_monte_carlo(size, f, t))    \n",
    "        end\n",
    "    end\n",
    "    \n",
    "    return results\n",
    "end"
   ]
  },
  {
   "cell_type": "markdown",
   "metadata": {},
   "source": [
    "A função `parse_results` recebe um `DataFrame` de resultados, produzido pela função `run_experiments`, e um parâmetro `target_integral`, com o valor da integral a estimar. A função devolve um `DataFrame` com a média e o intervalo de confiança da média a 95% das estimativas e dos tempos de execução, agrupados por número de threads."
   ]
  },
  {
   "cell_type": "code",
   "execution_count": 13,
   "metadata": {},
   "outputs": [
    {
     "data": {
      "text/plain": [
       "parse_results (generic function with 1 method)"
      ]
     },
     "execution_count": 13,
     "metadata": {},
     "output_type": "execute_result"
    }
   ],
   "source": [
    "function parse_results(results, target_integral)\n",
    "    parsed_results = results |>\n",
    "                    @groupby(_.threads) |>\n",
    "                    @map({threads = key(_),\n",
    "                          mean_estimate = mean(_.estimate),\n",
    "                          ci_estimate = 1.96 * std(_.estimate),\n",
    "                          mean_duration = mean(_.duration),\n",
    "                          ci_duration = 1.96 * std(_.duration),\n",
    "                          target = target_integral}) |>\n",
    "                    DataFrame\n",
    "    \n",
    "    return parsed_results\n",
    "end"
   ]
  },
  {
   "cell_type": "markdown",
   "metadata": {},
   "source": [
    "### Exercício 3a)\n",
    "\n",
    "Realize os experimentos em sua máquina rodando a célula abaixo. Ajuste os valores para a sua máquina. **Não faça menos de 5 repetições**."
   ]
  },
  {
   "cell_type": "code",
   "execution_count": 14,
   "metadata": {},
   "outputs": [
    {
     "name": "stdout",
     "output_type": "stream",
     "text": [
      "gcc monte_carlo.c -o monte_carlo -Wall -lpthread -lm\n"
     ]
    },
    {
     "data": {
      "text/html": [
       "<table class=\"data-frame\"><thead><tr><th></th><th>threads</th><th>mean_estimate</th><th>ci_estimate</th><th>mean_duration</th><th>ci_duration</th><th>target</th></tr><tr><th></th><th>Int64</th><th>Float64</th><th>Float64</th><th>Float64</th><th>Float64</th><th>Irration…</th></tr></thead><tbody><p>12 rows × 6 columns</p><tr><th>1</th><td>1</td><td>3.14206</td><td>0.00338035</td><td>1.55964</td><td>0.140482</td><td>π</td></tr><tr><th>2</th><td>2</td><td>3.14189</td><td>0.0019026</td><td>1.58894</td><td>0.0978752</td><td>π</td></tr><tr><th>3</th><td>4</td><td>3.14074</td><td>0.00332886</td><td>1.61242</td><td>0.0952702</td><td>π</td></tr><tr><th>4</th><td>8</td><td>3.14097</td><td>0.00142859</td><td>1.68214</td><td>0.123585</td><td>π</td></tr><tr><th>5</th><td>16</td><td>3.14165</td><td>0.00134028</td><td>1.68788</td><td>0.0771892</td><td>π</td></tr><tr><th>6</th><td>32</td><td>3.1415</td><td>0.00196241</td><td>1.65859</td><td>0.0746612</td><td>π</td></tr><tr><th>7</th><td>64</td><td>3.14176</td><td>0.0021756</td><td>1.64922</td><td>0.150207</td><td>π</td></tr><tr><th>8</th><td>128</td><td>3.1421</td><td>0.00220135</td><td>1.60417</td><td>0.0720086</td><td>π</td></tr><tr><th>9</th><td>256</td><td>3.14105</td><td>0.00226882</td><td>1.61891</td><td>0.0672363</td><td>π</td></tr><tr><th>10</th><td>512</td><td>3.1414</td><td>0.00262103</td><td>1.6748</td><td>0.0865836</td><td>π</td></tr><tr><th>11</th><td>1024</td><td>3.14189</td><td>0.0038535</td><td>1.63255</td><td>0.0971046</td><td>π</td></tr><tr><th>12</th><td>2048</td><td>3.14092</td><td>0.00241957</td><td>1.60262</td><td>0.0958492</td><td>π</td></tr></tbody></table>"
      ],
      "text/latex": [
       "\\begin{tabular}{r|cccccc}\n",
       "\t& threads & mean\\_estimate & ci\\_estimate & mean\\_duration & ci\\_duration & target\\\\\n",
       "\t\\hline\n",
       "\t& Int64 & Float64 & Float64 & Float64 & Float64 & Irration…\\\\\n",
       "\t\\hline\n",
       "\t1 & 1 & 3.14206 & 0.00338035 & 1.55964 & 0.140482 & π \\\\\n",
       "\t2 & 2 & 3.14189 & 0.0019026 & 1.58894 & 0.0978752 & π \\\\\n",
       "\t3 & 4 & 3.14074 & 0.00332886 & 1.61242 & 0.0952702 & π \\\\\n",
       "\t4 & 8 & 3.14097 & 0.00142859 & 1.68214 & 0.123585 & π \\\\\n",
       "\t5 & 16 & 3.14165 & 0.00134028 & 1.68788 & 0.0771892 & π \\\\\n",
       "\t6 & 32 & 3.1415 & 0.00196241 & 1.65859 & 0.0746612 & π \\\\\n",
       "\t7 & 64 & 3.14176 & 0.0021756 & 1.64922 & 0.150207 & π \\\\\n",
       "\t8 & 128 & 3.1421 & 0.00220135 & 1.60417 & 0.0720086 & π \\\\\n",
       "\t9 & 256 & 3.14105 & 0.00226882 & 1.61891 & 0.0672363 & π \\\\\n",
       "\t10 & 512 & 3.1414 & 0.00262103 & 1.6748 & 0.0865836 & π \\\\\n",
       "\t11 & 1024 & 3.14189 & 0.0038535 & 1.63255 & 0.0971046 & π \\\\\n",
       "\t12 & 2048 & 3.14092 & 0.00241957 & 1.60262 & 0.0958492 & π \\\\\n",
       "\\end{tabular}\n"
      ],
      "text/plain": [
       "12×6 DataFrame. Omitted printing of 1 columns\n",
       "│ Row │ threads │ mean_estimate │ ci_estimate │ mean_duration │ ci_duration │\n",
       "│     │ \u001b[90mInt64\u001b[39m   │ \u001b[90mFloat64\u001b[39m       │ \u001b[90mFloat64\u001b[39m     │ \u001b[90mFloat64\u001b[39m       │ \u001b[90mFloat64\u001b[39m     │\n",
       "├─────┼─────────┼───────────────┼─────────────┼───────────────┼─────────────┤\n",
       "│ 1   │ 1       │ 3.14206       │ 0.00338035  │ 1.55964       │ 0.140482    │\n",
       "│ 2   │ 2       │ 3.14189       │ 0.0019026   │ 1.58894       │ 0.0978752   │\n",
       "│ 3   │ 4       │ 3.14074       │ 0.00332886  │ 1.61242       │ 0.0952702   │\n",
       "│ 4   │ 8       │ 3.14097       │ 0.00142859  │ 1.68214       │ 0.123585    │\n",
       "│ 5   │ 16      │ 3.14165       │ 0.00134028  │ 1.68788       │ 0.0771892   │\n",
       "│ 6   │ 32      │ 3.1415        │ 0.00196241  │ 1.65859       │ 0.0746612   │\n",
       "│ 7   │ 64      │ 3.14176       │ 0.0021756   │ 1.64922       │ 0.150207    │\n",
       "│ 8   │ 128     │ 3.1421        │ 0.00220135  │ 1.60417       │ 0.0720086   │\n",
       "│ 9   │ 256     │ 3.14105       │ 0.00226882  │ 1.61891       │ 0.0672363   │\n",
       "│ 10  │ 512     │ 3.1414        │ 0.00262103  │ 1.6748        │ 0.0865836   │\n",
       "│ 11  │ 1024    │ 3.14189       │ 0.0038535   │ 1.63255       │ 0.0971046   │\n",
       "│ 12  │ 2048    │ 3.14092       │ 0.00241957  │ 1.60262       │ 0.0958492   │"
      ]
     },
     "execution_count": 14,
     "metadata": {},
     "output_type": "execute_result"
    }
   ],
   "source": [
    "size = 20000000\n",
    "f = 0\n",
    "threads = [2 ^ x for x in 0:11]\n",
    "repetitions = 5\n",
    "\n",
    "results = run_experiments(size, f, threads, repetitions)\n",
    "parsed_results = parse_results(results, pi)"
   ]
  },
  {
   "cell_type": "markdown",
   "metadata": {},
   "source": [
    "Agora, escreva uma função **em Julia** chamada `save_csv_results`, que recebe um `DataFrame` e um nome de arquivo, e escreve o `DataFrame` em disco, no formato `.csv`, com o nome passado no argumento.\n",
    "\n",
    "Utilize a biblioteca [CSV](https://juliadata.github.io/CSV.jl/stable/), já instalada no ambiente deste notebook."
   ]
  },
  {
   "cell_type": "code",
   "execution_count": 15,
   "metadata": {},
   "outputs": [
    {
     "data": {
      "text/plain": [
       "save_csv_results (generic function with 1 method)"
      ]
     },
     "execution_count": 15,
     "metadata": {},
     "output_type": "execute_result"
    }
   ],
   "source": [
    "using CSV\n",
    "\n",
    "function save_csv_results(results,filename)\n",
    "    println(filename)\n",
    "    CSV.write(filename+\".csv\", results)\n",
    "end"
   ]
  },
  {
   "cell_type": "markdown",
   "metadata": {},
   "source": [
    "Escreva uma função **em Julia** chamada `read_csv_results`, que recebe um nome de arquivo e lê o arquivo correspondente, devolvendo um `DataFrame`."
   ]
  },
  {
   "cell_type": "code",
   "execution_count": 16,
   "metadata": {},
   "outputs": [
    {
     "data": {
      "text/plain": [
       "read_csv_results (generic function with 1 method)"
      ]
     },
     "execution_count": 16,
     "metadata": {},
     "output_type": "execute_result"
    }
   ],
   "source": [
    "using CSV\n",
    "\n",
    "function read_csv_results(filename)\n",
    "    results=CSV.read(filename+\".csv\")\n",
    "    return results\n",
    "end"
   ]
  },
  {
   "cell_type": "markdown",
   "metadata": {},
   "source": [
    "Salve o DataFrame `results` em disco. **Vocês devem entregar o .csv também**."
   ]
  },
  {
   "cell_type": "markdown",
   "metadata": {},
   "source": [
    "### Exercício 3b)\n",
    "\n",
    "Como vocês já se familiarizaram um pouco com funções para geração de gráficos no miniEP1&2, explique o que faz a função `plot_results` abaixo. Ela é uma generalização das funções usadas no miniEP anterior. Para ajudar, você pode modificar e usar as chamadas de função no **Exercício 3c)**."
   ]
  },
  {
   "cell_type": "markdown",
   "metadata": {},
   "source": []
  },
  {
   "cell_type": "code",
   "execution_count": 17,
   "metadata": {},
   "outputs": [
    {
     "data": {
      "text/plain": [
       "plot_results (generic function with 1 method)"
      ]
     },
     "execution_count": 17,
     "metadata": {},
     "output_type": "execute_result"
    }
   ],
   "source": [
    "pgfplotsx()\n",
    "\n",
    "function plot_results(x, y, target_label, series_label; hline = [], yerror = [], max_thread_power = 10)      \n",
    "    if yerror != []\n",
    "        p = scatter(x,\n",
    "            y,\n",
    "            xaxis = :log2,\n",
    "            xlabel = \"Threads\",\n",
    "            xticks = [2 ^ x for x in 0:max_thread_power],\n",
    "            yerror = yerror,\n",
    "            alpha = 0.6,\n",
    "            labels = series_label,\n",
    "            legend = :topright)\n",
    "    else\n",
    "        println(\"AAAAAAA\")\n",
    "        p = scatter(x,\n",
    "            y,\n",
    "            xaxis = :log2,\n",
    "            xlabel = \"Threads\",\n",
    "            xticks = [2 ^ x for x in 0:max_thread_power],\n",
    "            alpha = 0.6,\n",
    "            labels = series_label,\n",
    "            legend = :topright)\n",
    "    end\n",
    "    \n",
    "    if hline != []\n",
    "        plot!(x,\n",
    "            hline,\n",
    "            xaxis = :log2,\n",
    "            xlabel = \"Threads\",\n",
    "            xticks = [2 ^ x for x in 0:max_thread_power],\n",
    "            labels = target_label,                             \n",
    "            line = :dash,                    \n",
    "            width = 2.0)\n",
    "    end\n",
    "    \n",
    "    return p\n",
    "end"
   ]
  },
  {
   "cell_type": "markdown",
   "metadata": {},
   "source": [
    "### Exercício 3c)\n",
    "\n",
    "1. Rode as células na seção abaixo e gere os gráficos. **Entregue o notebook com os gráficos gerados**.\n",
    "2. Descreva o comportamento do tempo de execução conforme aumentamos o número de threads, em termos da média e do intervalo de confiança. Nos próximos EPs, vamos aprender a fazer uma *regressão linear* que explique os dados observados usando *coeficientes*.\n",
    "3. Por que você acha que o tempo de execução aumenta conforme aumentamos as threads? Era isso que você esperava?\n",
    "\n",
    "Responda na célula abaixo:"
   ]
  },
  {
   "cell_type": "markdown",
   "metadata": {},
   "source": []
  },
  {
   "cell_type": "markdown",
   "metadata": {},
   "source": [
    "#### Gerando Gráficos"
   ]
  },
  {
   "cell_type": "code",
   "execution_count": 23,
   "metadata": {
    "scrolled": false
   },
   "outputs": [
    {
     "name": "stdout",
     "output_type": "stream",
     "text": [
      "AAAAAAA\n"
     ]
    },
    {
     "ename": "PGFPlotsX.MissingExternalProgramError",
     "evalue": "No LaTeX installation found, figures will not be generated. Make sure either pdflatex or lualatex are installed and that the PATH variable is correctly set.",
     "output_type": "error",
     "traceback": [
      "No LaTeX installation found, figures will not be generated. Make sure either pdflatex or lualatex are installed and that the PATH variable is correctly set.",
      "",
      "Stacktrace:",
      " [1] latexengine() at /home/daidai/.julia/packages/PGFPlotsX/C6ahR/src/build.jl:19",
      " [2] (::PGFPlotsX.var\"#kw##save\")(::NamedTuple{(:showing_ide,),Tuple{Bool}}, ::typeof(PGFPlotsX.save), ::String, ::PGFPlotsX.TikzDocument) at ./none:0",
      " [3] show(::Base.GenericIOBuffer{Array{UInt8,1}}, ::MIME{Symbol(\"image/svg+xml\")}, ::PGFPlotsX.TikzDocument) at /home/daidai/.julia/packages/PGFPlotsX/C6ahR/src/tikzdocument.jl:289",
      " [4] _show(::Base.GenericIOBuffer{Array{UInt8,1}}, ::MIME{Symbol(\"image/svg+xml\")}, ::Plots.Plot{Plots.PGFPlotsXBackend}) at /home/daidai/.julia/packages/Plots/twqrR/src/backends/pgfplotsx.jl:1227",
      " [5] show(::Base.GenericIOBuffer{Array{UInt8,1}}, ::MIME{Symbol(\"image/svg+xml\")}, ::Plots.Plot{Plots.PGFPlotsXBackend}) at /home/daidai/.julia/packages/Plots/twqrR/src/output.jl:215",
      " [6] #sprint#339(::Nothing, ::Int64, ::typeof(sprint), ::Function, ::MIME{Symbol(\"image/svg+xml\")}, ::Vararg{Any,N} where N) at ./strings/io.jl:105",
      " [7] sprint(::Function, ::MIME{Symbol(\"image/svg+xml\")}, ::Vararg{Any,N} where N) at ./strings/io.jl:101",
      " [8] _ijulia_display_dict(::Plots.Plot{Plots.PGFPlotsXBackend}) at /home/daidai/.julia/packages/Plots/twqrR/src/ijulia.jl:53",
      " [9] display_dict(::Plots.Plot{Plots.PGFPlotsXBackend}) at /home/daidai/.julia/packages/Plots/twqrR/src/init.jl:81",
      " [10] #invokelatest#1 at ./essentials.jl:709 [inlined]",
      " [11] invokelatest at ./essentials.jl:708 [inlined]",
      " [12] execute_request(::ZMQ.Socket, ::IJulia.Msg) at /home/daidai/.julia/packages/IJulia/DrVMH/src/execute_request.jl:112",
      " [13] #invokelatest#1 at ./essentials.jl:709 [inlined]",
      " [14] invokelatest at ./essentials.jl:708 [inlined]",
      " [15] eventloop(::ZMQ.Socket) at /home/daidai/.julia/packages/IJulia/DrVMH/src/eventloop.jl:8",
      " [16] (::IJulia.var\"#15#18\")() at ./task.jl:333"
     ]
    }
   ],
   "source": [
    "plot_results(results.threads,\n",
    "    results.duration,    \n",
    "    \"pi\",\n",
    "    \"Duration\",\n",
    "    max_thread_power = 11)"
   ]
  },
  {
   "cell_type": "code",
   "execution_count": 19,
   "metadata": {},
   "outputs": [
    {
     "name": "stdout",
     "output_type": "stream",
     "text": [
      "AAAAAAA\n"
     ]
    },
    {
     "ename": "PGFPlotsX.MissingExternalProgramError",
     "evalue": "No LaTeX installation found, figures will not be generated. Make sure either pdflatex or lualatex are installed and that the PATH variable is correctly set.",
     "output_type": "error",
     "traceback": [
      "No LaTeX installation found, figures will not be generated. Make sure either pdflatex or lualatex are installed and that the PATH variable is correctly set.",
      "",
      "Stacktrace:",
      " [1] latexengine() at /home/daidai/.julia/packages/PGFPlotsX/C6ahR/src/build.jl:19",
      " [2] (::PGFPlotsX.var\"#kw##save\")(::NamedTuple{(:showing_ide,),Tuple{Bool}}, ::typeof(PGFPlotsX.save), ::String, ::PGFPlotsX.TikzDocument) at ./none:0",
      " [3] show(::Base.GenericIOBuffer{Array{UInt8,1}}, ::MIME{Symbol(\"image/svg+xml\")}, ::PGFPlotsX.TikzDocument) at /home/daidai/.julia/packages/PGFPlotsX/C6ahR/src/tikzdocument.jl:289",
      " [4] _show(::Base.GenericIOBuffer{Array{UInt8,1}}, ::MIME{Symbol(\"image/svg+xml\")}, ::Plots.Plot{Plots.PGFPlotsXBackend}) at /home/daidai/.julia/packages/Plots/twqrR/src/backends/pgfplotsx.jl:1227",
      " [5] show(::Base.GenericIOBuffer{Array{UInt8,1}}, ::MIME{Symbol(\"image/svg+xml\")}, ::Plots.Plot{Plots.PGFPlotsXBackend}) at /home/daidai/.julia/packages/Plots/twqrR/src/output.jl:215",
      " [6] #sprint#339(::Nothing, ::Int64, ::typeof(sprint), ::Function, ::MIME{Symbol(\"image/svg+xml\")}, ::Vararg{Any,N} where N) at ./strings/io.jl:105",
      " [7] sprint(::Function, ::MIME{Symbol(\"image/svg+xml\")}, ::Vararg{Any,N} where N) at ./strings/io.jl:101",
      " [8] _ijulia_display_dict(::Plots.Plot{Plots.PGFPlotsXBackend}) at /home/daidai/.julia/packages/Plots/twqrR/src/ijulia.jl:53",
      " [9] display_dict(::Plots.Plot{Plots.PGFPlotsXBackend}) at /home/daidai/.julia/packages/Plots/twqrR/src/init.jl:81",
      " [10] #invokelatest#1 at ./essentials.jl:709 [inlined]",
      " [11] invokelatest at ./essentials.jl:708 [inlined]",
      " [12] execute_request(::ZMQ.Socket, ::IJulia.Msg) at /home/daidai/.julia/packages/IJulia/DrVMH/src/execute_request.jl:112",
      " [13] #invokelatest#1 at ./essentials.jl:709 [inlined]",
      " [14] invokelatest at ./essentials.jl:708 [inlined]",
      " [15] eventloop(::ZMQ.Socket) at /home/daidai/.julia/packages/IJulia/DrVMH/src/eventloop.jl:8",
      " [16] (::IJulia.var\"#15#18\")() at ./task.jl:333"
     ]
    }
   ],
   "source": [
    "plot_results(results.threads,\n",
    "    results.estimate,    \n",
    "    \"pi\",\n",
    "    \"Estimate\",\n",
    "    hline = [pi for i in 1:nrow(results)],\n",
    "    max_thread_power = 11)"
   ]
  },
  {
   "cell_type": "code",
   "execution_count": 20,
   "metadata": {},
   "outputs": [
    {
     "ename": "PGFPlotsX.MissingExternalProgramError",
     "evalue": "No LaTeX installation found, figures will not be generated. Make sure either pdflatex or lualatex are installed and that the PATH variable is correctly set.",
     "output_type": "error",
     "traceback": [
      "No LaTeX installation found, figures will not be generated. Make sure either pdflatex or lualatex are installed and that the PATH variable is correctly set.",
      "",
      "Stacktrace:",
      " [1] latexengine() at /home/daidai/.julia/packages/PGFPlotsX/C6ahR/src/build.jl:19",
      " [2] (::PGFPlotsX.var\"#kw##save\")(::NamedTuple{(:showing_ide,),Tuple{Bool}}, ::typeof(PGFPlotsX.save), ::String, ::PGFPlotsX.TikzDocument) at ./none:0",
      " [3] show(::Base.GenericIOBuffer{Array{UInt8,1}}, ::MIME{Symbol(\"image/svg+xml\")}, ::PGFPlotsX.TikzDocument) at /home/daidai/.julia/packages/PGFPlotsX/C6ahR/src/tikzdocument.jl:289",
      " [4] _show(::Base.GenericIOBuffer{Array{UInt8,1}}, ::MIME{Symbol(\"image/svg+xml\")}, ::Plots.Plot{Plots.PGFPlotsXBackend}) at /home/daidai/.julia/packages/Plots/twqrR/src/backends/pgfplotsx.jl:1227",
      " [5] show(::Base.GenericIOBuffer{Array{UInt8,1}}, ::MIME{Symbol(\"image/svg+xml\")}, ::Plots.Plot{Plots.PGFPlotsXBackend}) at /home/daidai/.julia/packages/Plots/twqrR/src/output.jl:215",
      " [6] #sprint#339(::Nothing, ::Int64, ::typeof(sprint), ::Function, ::MIME{Symbol(\"image/svg+xml\")}, ::Vararg{Any,N} where N) at ./strings/io.jl:105",
      " [7] sprint(::Function, ::MIME{Symbol(\"image/svg+xml\")}, ::Vararg{Any,N} where N) at ./strings/io.jl:101",
      " [8] _ijulia_display_dict(::Plots.Plot{Plots.PGFPlotsXBackend}) at /home/daidai/.julia/packages/Plots/twqrR/src/ijulia.jl:53",
      " [9] display_dict(::Plots.Plot{Plots.PGFPlotsXBackend}) at /home/daidai/.julia/packages/Plots/twqrR/src/init.jl:81",
      " [10] #invokelatest#1 at ./essentials.jl:709 [inlined]",
      " [11] invokelatest at ./essentials.jl:708 [inlined]",
      " [12] execute_request(::ZMQ.Socket, ::IJulia.Msg) at /home/daidai/.julia/packages/IJulia/DrVMH/src/execute_request.jl:112",
      " [13] #invokelatest#1 at ./essentials.jl:709 [inlined]",
      " [14] invokelatest at ./essentials.jl:708 [inlined]",
      " [15] eventloop(::ZMQ.Socket) at /home/daidai/.julia/packages/IJulia/DrVMH/src/eventloop.jl:8",
      " [16] (::IJulia.var\"#15#18\")() at ./task.jl:333"
     ]
    }
   ],
   "source": [
    "plot_results(parsed_results.threads,\n",
    "    parsed_results.mean_duration,\n",
    "    \"pi\",\n",
    "    \"Mean Duration + CI\",\n",
    "    yerror = parsed_results.ci_duration,\n",
    "    max_thread_power = 11)"
   ]
  },
  {
   "cell_type": "code",
   "execution_count": 21,
   "metadata": {},
   "outputs": [
    {
     "ename": "PGFPlotsX.MissingExternalProgramError",
     "evalue": "No LaTeX installation found, figures will not be generated. Make sure either pdflatex or lualatex are installed and that the PATH variable is correctly set.",
     "output_type": "error",
     "traceback": [
      "No LaTeX installation found, figures will not be generated. Make sure either pdflatex or lualatex are installed and that the PATH variable is correctly set.",
      "",
      "Stacktrace:",
      " [1] latexengine() at /home/daidai/.julia/packages/PGFPlotsX/C6ahR/src/build.jl:19",
      " [2] (::PGFPlotsX.var\"#kw##save\")(::NamedTuple{(:showing_ide,),Tuple{Bool}}, ::typeof(PGFPlotsX.save), ::String, ::PGFPlotsX.TikzDocument) at ./none:0",
      " [3] show(::Base.GenericIOBuffer{Array{UInt8,1}}, ::MIME{Symbol(\"image/svg+xml\")}, ::PGFPlotsX.TikzDocument) at /home/daidai/.julia/packages/PGFPlotsX/C6ahR/src/tikzdocument.jl:289",
      " [4] _show(::Base.GenericIOBuffer{Array{UInt8,1}}, ::MIME{Symbol(\"image/svg+xml\")}, ::Plots.Plot{Plots.PGFPlotsXBackend}) at /home/daidai/.julia/packages/Plots/twqrR/src/backends/pgfplotsx.jl:1227",
      " [5] show(::Base.GenericIOBuffer{Array{UInt8,1}}, ::MIME{Symbol(\"image/svg+xml\")}, ::Plots.Plot{Plots.PGFPlotsXBackend}) at /home/daidai/.julia/packages/Plots/twqrR/src/output.jl:215",
      " [6] #sprint#339(::Nothing, ::Int64, ::typeof(sprint), ::Function, ::MIME{Symbol(\"image/svg+xml\")}, ::Vararg{Any,N} where N) at ./strings/io.jl:105",
      " [7] sprint(::Function, ::MIME{Symbol(\"image/svg+xml\")}, ::Vararg{Any,N} where N) at ./strings/io.jl:101",
      " [8] _ijulia_display_dict(::Plots.Plot{Plots.PGFPlotsXBackend}) at /home/daidai/.julia/packages/Plots/twqrR/src/ijulia.jl:53",
      " [9] display_dict(::Plots.Plot{Plots.PGFPlotsXBackend}) at /home/daidai/.julia/packages/Plots/twqrR/src/init.jl:81",
      " [10] #invokelatest#1 at ./essentials.jl:709 [inlined]",
      " [11] invokelatest at ./essentials.jl:708 [inlined]",
      " [12] execute_request(::ZMQ.Socket, ::IJulia.Msg) at /home/daidai/.julia/packages/IJulia/DrVMH/src/execute_request.jl:112",
      " [13] #invokelatest#1 at ./essentials.jl:709 [inlined]",
      " [14] invokelatest at ./essentials.jl:708 [inlined]",
      " [15] eventloop(::ZMQ.Socket) at /home/daidai/.julia/packages/IJulia/DrVMH/src/eventloop.jl:8",
      " [16] (::IJulia.var\"#15#18\")() at ./task.jl:333"
     ]
    }
   ],
   "source": [
    "plot_results(parsed_results.threads,\n",
    "    parsed_results.mean_estimate,\n",
    "    \"pi\",\n",
    "    \"Mean Estimate + CI\",\n",
    "    hline = [pi for i in 1:nrow(parsed_results)],\n",
    "    yerror = parsed_results.ci_estimate,\n",
    "    max_thread_power = 11)"
   ]
  },
  {
   "cell_type": "code",
   "execution_count": 22,
   "metadata": {},
   "outputs": [
    {
     "ename": "Pkg.Types.PkgError",
     "evalue": "The following package names could not be resolved:\n * lualatex (not found in project, manifest or registry)\nPlease specify by known `name=uuid`.",
     "output_type": "error",
     "traceback": [
      "The following package names could not be resolved:\n * lualatex (not found in project, manifest or registry)\nPlease specify by known `name=uuid`.",
      "",
      "Stacktrace:",
      " [1] pkgerror(::String) at /home/daidai/Documents/julia/usr/share/julia/stdlib/v1.3/Pkg/src/Types.jl:113",
      " [2] #ensure_resolved#101(::Bool, ::typeof(Pkg.Types.ensure_resolved), ::Pkg.Types.EnvCache, ::Array{Pkg.Types.PackageSpec,1}) at /home/daidai/Documents/julia/usr/share/julia/stdlib/v1.3/Pkg/src/Types.jl:936",
      " [3] #ensure_resolved at ./none:0 [inlined]",
      " [4] #add#25(::Bool, ::Pkg.BinaryPlatforms.Linux, ::Base.Iterators.Pairs{Union{},Union{},Tuple{},NamedTuple{(),Tuple{}}}, ::typeof(Pkg.API.add), ::Pkg.Types.Context, ::Array{Pkg.Types.PackageSpec,1}) at /home/daidai/Documents/julia/usr/share/julia/stdlib/v1.3/Pkg/src/API.jl:97",
      " [5] add(::Pkg.Types.Context, ::Array{Pkg.Types.PackageSpec,1}) at /home/daidai/Documents/julia/usr/share/julia/stdlib/v1.3/Pkg/src/API.jl:72",
      " [6] #add#24 at /home/daidai/Documents/julia/usr/share/julia/stdlib/v1.3/Pkg/src/API.jl:69 [inlined]",
      " [7] add at /home/daidai/Documents/julia/usr/share/julia/stdlib/v1.3/Pkg/src/API.jl:69 [inlined]",
      " [8] #add#21 at /home/daidai/Documents/julia/usr/share/julia/stdlib/v1.3/Pkg/src/API.jl:67 [inlined]",
      " [9] add at /home/daidai/Documents/julia/usr/share/julia/stdlib/v1.3/Pkg/src/API.jl:67 [inlined]",
      " [10] #add#20(::Base.Iterators.Pairs{Union{},Union{},Tuple{},NamedTuple{(),Tuple{}}}, ::typeof(Pkg.API.add), ::String) at /home/daidai/Documents/julia/usr/share/julia/stdlib/v1.3/Pkg/src/API.jl:66",
      " [11] add(::String) at /home/daidai/Documents/julia/usr/share/julia/stdlib/v1.3/Pkg/src/API.jl:66",
      " [12] top-level scope at In[22]:2"
     ]
    }
   ],
   "source": [
    "using Pkg\n",
    "Pkg.add(\"lualatex\")"
   ]
  },
  {
   "cell_type": "code",
   "execution_count": null,
   "metadata": {},
   "outputs": [],
   "source": []
  }
 ],
 "metadata": {
  "kernelspec": {
   "display_name": "Julia 1.3.1",
   "language": "julia",
   "name": "julia-1.3"
  },
  "language_info": {
   "file_extension": ".jl",
   "mimetype": "application/julia",
   "name": "julia",
   "version": "1.3.1"
  }
 },
 "nbformat": 4,
 "nbformat_minor": 2
}
