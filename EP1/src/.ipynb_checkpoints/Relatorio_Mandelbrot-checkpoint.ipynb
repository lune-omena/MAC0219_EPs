{
 "cells": [
  {
   "cell_type": "markdown",
   "metadata": {},
   "source": [
    "# EP1 - Conjunto de Maldelbrot e paralelização com pThreads e OpenMP\n",
    "\n",
    "| Nome | NUSP |\n",
    "|------|------|\n",
    "| Giulia C. de Nardi | 10692203 |\n",
    "| Vitor D. Tamae | 10705620 |\n",
    "| Lucy Anne de Omena Evangelista | 11221776 |\n",
    "| Leonardo Costa Santos | 10783142 |\n",
    "| Alexandre Muller Jones | 8038149 |\n"
   ]
  },
  {
   "cell_type": "markdown",
   "metadata": {},
   "source": [
    "Caso não queira rodar novamente os experimentos, por favor pular para a sessão \"Gráficos comparativos\"."
   ]
  },
  {
   "cell_type": "markdown",
   "metadata": {},
   "source": [
    "## Configuração do ambiente\n",
    "\n",
    "Atualizando os pacotes Julia"
   ]
  },
  {
   "cell_type": "code",
   "execution_count": 13,
   "metadata": {
    "scrolled": true
   },
   "outputs": [
    {
     "name": "stdout",
     "output_type": "stream",
     "text": [
      "\u001b[32m\u001b[1m  Updating\u001b[22m\u001b[39m registry at `~/.julia/registries/General`\n",
      "\u001b[32m\u001b[1m  Updating\u001b[22m\u001b[39m git-repo `https://github.com/JuliaRegistries/General.git`\n",
      "\u001b[2K\u001b[?25h[1mFetching:\u001b[22m\u001b[39m [========================================>]  100.0 %.0 %\u001b[32m\u001b[1m Resolving\u001b[22m\u001b[39m package versions...\n",
      "\u001b[32m\u001b[1m  Updating\u001b[22m\u001b[39m `~/.julia/environments/v1.3/Project.toml`\n",
      "\u001b[90m [no changes]\u001b[39m\n",
      "\u001b[32m\u001b[1m  Updating\u001b[22m\u001b[39m `~/.julia/environments/v1.3/Manifest.toml`\n",
      "\u001b[90m [no changes]\u001b[39m\n"
     ]
    }
   ],
   "source": [
    "] up"
   ]
  },
  {
   "cell_type": "markdown",
   "metadata": {},
   "source": [
    "Verificando o status dos pacotes, e se há algum problema, com o comando:"
   ]
  },
  {
   "cell_type": "code",
   "execution_count": 14,
   "metadata": {
    "scrolled": true
   },
   "outputs": [
    {
     "name": "stdout",
     "output_type": "stream",
     "text": [
      "\u001b[32m\u001b[1m    Status\u001b[22m\u001b[39m `~/.julia/environments/v1.3/Project.toml`\n",
      " \u001b[90m [336ed68f]\u001b[39m\u001b[37m CSV v0.6.2\u001b[39m\n",
      " \u001b[90m [a93c6f00]\u001b[39m\u001b[37m DataFrames v0.21.0\u001b[39m\n",
      " \u001b[90m [31c24e10]\u001b[39m\u001b[37m Distributions v0.23.2\u001b[39m\n",
      " \u001b[90m [7073ff75]\u001b[39m\u001b[37m IJulia v1.21.2\u001b[39m\n",
      " \u001b[90m [b964fa9f]\u001b[39m\u001b[37m LaTeXStrings v1.1.0\u001b[39m\n",
      " \u001b[90m [8314cec4]\u001b[39m\u001b[37m PGFPlotsX v1.2.6\u001b[39m\n",
      " \u001b[90m [1a8c2f83]\u001b[39m\u001b[37m Query v0.12.2\u001b[39m\n",
      " \u001b[90m [f3b207a7]\u001b[39m\u001b[37m StatsPlots v0.14.6\u001b[39m\n"
     ]
    }
   ],
   "source": [
    "] st"
   ]
  },
  {
   "cell_type": "markdown",
   "metadata": {},
   "source": [
    "Chamando pacotes que usaremos:"
   ]
  },
  {
   "cell_type": "code",
   "execution_count": 15,
   "metadata": {},
   "outputs": [],
   "source": [
    "using DataFrames, Query, StatsPlots, Statistics"
   ]
  },
  {
   "cell_type": "markdown",
   "metadata": {},
   "source": [
    "## Funções para realização dos experimentos"
   ]
  },
  {
   "cell_type": "code",
   "execution_count": null,
   "metadata": {
    "scrolled": false
   },
   "outputs": [],
   "source": [
    "; make mandelbrot_seq"
   ]
  },
  {
   "cell_type": "code",
   "execution_count": null,
   "metadata": {
    "scrolled": true
   },
   "outputs": [],
   "source": [
    "; ./mandelbrot_seq"
   ]
  },
  {
   "cell_type": "code",
   "execution_count": null,
   "metadata": {},
   "outputs": [],
   "source": [
    "; ./mandelbrot_seq 0.175 0.375 -0.1 0.1 200 0"
   ]
  },
  {
   "cell_type": "markdown",
   "metadata": {},
   "source": [
    "A função abaixo recebe parâmetros `size`, com o tamanho da imagem, `f`, com a id do tupo de fractal a ser feito (0 - Full, 2 - Triple Spiral, 3 - Elephant, 4 - Seahorse), `mandel`, com o nome da função a ser executada (`./mandelbrot_seq`, `./mandelbrot_opm`, `./mandelbrot_pth`),e `threads`, com o número de threads do programa paralelo. A função executa o programa `mandelbrot` com os parâmetros dados e devolve um `DataFrame` com os resultados."
   ]
  },
  {
   "cell_type": "code",
   "execution_count": 16,
   "metadata": {},
   "outputs": [
    {
     "data": {
      "text/plain": [
       "measure_mandelbrot (generic function with 1 method)"
      ]
     },
     "execution_count": 16,
     "metadata": {},
     "output_type": "execute_result"
    }
   ],
   "source": [
    "function measure_mandelbrot(size, f, mandel; thread = 0)    \n",
    "    if f == 0  mode = `-2.5 1.5 -2.0 2.0` #full\n",
    "    elseif f == 1  mode = `-0.188 -0.012 0.554 0.754` #triple spiral\n",
    "    elseif f == 2  mode = `0.175 0.375 -0.1 0.1` # elephant\n",
    "    elseif f == 3  mode = `-0.8 -0.7 0.05 0.15` #seahorse\n",
    "    end\n",
    "    \n",
    "    if thread != 0 \n",
    "    results = parse.(Float64,\n",
    "        split(chomp(read(`./$mandel $mode $size $thread `, String)), \",\"))\n",
    "    else\n",
    "    results = parse.(Float64,\n",
    "        split(chomp(read(`./$mandel $mode $size`, String)), \",\"))\n",
    "    end\n",
    "    \n",
    "    return DataFrame(size = size,\n",
    "        f = f,\n",
    "        threads = thread,\n",
    "        duration = results[1],\n",
    "        io_alocation = results[2])\n",
    "end"
   ]
  },
  {
   "cell_type": "markdown",
   "metadata": {},
   "source": [
    "A função `run_experiments` recebe os mesmos parâmetros `size`, `f`,`mandel` e `threads`, e um parâmetro adicional `repetitions`, com o número de repetições de cada experimento com um dado número de `threads`. A função devolve um `DataFrame` com todos os experimentos."
   ]
  },
  {
   "cell_type": "code",
   "execution_count": 5,
   "metadata": {},
   "outputs": [
    {
     "data": {
      "text/plain": [
       "run_experiments (generic function with 1 method)"
      ]
     },
     "execution_count": 5,
     "metadata": {},
     "output_type": "execute_result"
    }
   ],
   "source": [
    "function run_experiments(size, f, mandel, repetitions; threads = [])\n",
    "    run(`make $mandel`)\n",
    "        \n",
    "    results = DataFrame(size = Int[],\n",
    "        f = Int[],\n",
    "        threads = Int[],\n",
    "        duration = Float64[],\n",
    "        io_alocation = Float64[]) \n",
    "    \n",
    "    if threads != []\n",
    "    \n",
    "    for t in threads\n",
    "        for s in size\n",
    "            for r in 1:repetitions\n",
    "            append!(results,\n",
    "                measure_mandelbrot(s, f, mandel, thread = t))    \n",
    "            end\n",
    "        end\n",
    "    end\n",
    "        \n",
    "    else\n",
    "    \n",
    "    for r in 1:repetitions\n",
    "        for s in size\n",
    "            append!(results,\n",
    "                measure_mandelbrot(s, f, mandel))    \n",
    "        end\n",
    "    end\n",
    "    \n",
    "    end\n",
    "    \n",
    "    return results\n",
    "end"
   ]
  },
  {
   "cell_type": "markdown",
   "metadata": {},
   "source": [
    "A função `parse_results` recebe um `DataFrame` de resultados, produzido pela função `run_experiments`. A função devolve um `DataFrame` com a média e o intervalo de confiança da média a 95% dos tempos de execução, agrupados por número de threads."
   ]
  },
  {
   "cell_type": "code",
   "execution_count": 17,
   "metadata": {},
   "outputs": [
    {
     "data": {
      "text/plain": [
       "parse_results (generic function with 1 method)"
      ]
     },
     "execution_count": 17,
     "metadata": {},
     "output_type": "execute_result"
    }
   ],
   "source": [
    "function parse_results(results)\n",
    "    parsed_results = results |>\n",
    "                    @groupby({_.threads,_.size}) |>\n",
    "                    @map({threads = key(_).threads,\n",
    "                          size = _.size[1],\n",
    "                          mean_duration = mean(_.duration),\n",
    "                          mean_io_alocation = mean(_.io_alocation),\n",
    "                          ci_duration = 1.96 * std(_.duration),\n",
    "                          ci_io_alocation = 1.96 * std(_.io_alocation)}) |>\n",
    "                    DataFrame\n",
    "    \n",
    "    return parsed_results\n",
    "end"
   ]
  },
  {
   "cell_type": "markdown",
   "metadata": {},
   "source": [
    "## Funções para traçar gráficos"
   ]
  },
  {
   "cell_type": "markdown",
   "metadata": {},
   "source": [
    "A função abaixo permite que sejam traçadas até 5 séries de dados em um mesmo gráfico do tipo scatter."
   ]
  },
  {
   "cell_type": "code",
   "execution_count": 18,
   "metadata": {},
   "outputs": [
    {
     "data": {
      "text/plain": [
       "plot_results (generic function with 1 method)"
      ]
     },
     "execution_count": 18,
     "metadata": {},
     "output_type": "execute_result"
    }
   ],
   "source": [
    "pgfplotsx()\n",
    "\n",
    "function plot_results(x, y, series_label, yerror; y2 = [], series_label2 = [], yerror2 = [], \n",
    "        y3 = [], series_label3 = [], yerror3 = [], y4 = [], series_label4 = [], yerror4 = [],\n",
    "        y5 = [], series_label5 = [], yerror5 = [])\n",
    "    max_thread_power = 5\n",
    "    \n",
    "    p = scatter(x, y, xaxis = :log2, xlabel = \"Threads\", xticks = [2 ^ x for x in 0:max_thread_power],\n",
    "        yerror = yerror, alpha = 0.6, \n",
    "        labels = series_label, legend = :bottomright)\n",
    "    \n",
    "    if y2 != []\n",
    "        p = scatter!(x, y2, xaxis = :log2, xticks = [2 ^ x for x in 0:max_thread_power],\n",
    "            yerror = yerror2, alpha = 0.6,\n",
    "            labels = series_label2, legend = :bottomright)\n",
    "    end\n",
    "    if y3 != []\n",
    "        p = scatter!(x, y3, xaxis = :log2, xticks = [2 ^ x for x in 0:max_thread_power],\n",
    "            yerror = yerror3, alpha = 0.6,\n",
    "            labels = series_label3, legend = :bottomright)\n",
    "    end\n",
    "    if y4 != []\n",
    "        p = scatter!(x, y4, xaxis = :log2, xticks = [2 ^ x for x in 0:max_thread_power],\n",
    "            yerror = yerror4, alpha = 0.6,\n",
    "            labels = series_label4, legend = :bottomright)\n",
    "    end\n",
    "    if y5 != []\n",
    "        p = scatter!(x, y5, xaxis = :log2, xticks = [2 ^ x for x in 0:max_thread_power],\n",
    "            yerror = yerror5, alpha = 0.6,\n",
    "            labels = series_label5, legend = :bottomright)\n",
    "    end\n",
    "    \n",
    "    return p\n",
    "end"
   ]
  },
  {
   "cell_type": "markdown",
   "metadata": {},
   "source": [
    "## Condições para os experimentos"
   ]
  },
  {
   "cell_type": "code",
   "execution_count": 23,
   "metadata": {},
   "outputs": [],
   "source": [
    "size = [2 ^ x for x in 4:13]\n",
    "thread = [2 ^ x for x in 0:5]\n",
    "repetitions = 10;\n",
    "#size = [2 ^ x for x in 4:7]\n",
    "#thread = [2 ^ x for x in 0:3]\n",
    "#repetitions = 2;"
   ]
  },
  {
   "cell_type": "markdown",
   "metadata": {},
   "source": [
    "# Gerando e Salvando dados"
   ]
  },
  {
   "cell_type": "markdown",
   "metadata": {},
   "source": [
    "## Mandelbrot sequencial"
   ]
  },
  {
   "cell_type": "markdown",
   "metadata": {},
   "source": [
    "Nesta parte, traremos a execução do maldelbrot em sua versão sequencial, junto com a análise de tempo de execução para os diferentes tipo de fractais (Triple Spiral, Elephant, Seahorse & Full) e em diferentes resoluções ($ 2^4 \\cdots 2^{13}$)"
   ]
  },
  {
   "cell_type": "markdown",
   "metadata": {},
   "source": [
    "Realizando as medições para o mandelbrot sequencial:"
   ]
  },
  {
   "cell_type": "code",
   "execution_count": 30,
   "metadata": {},
   "outputs": [
    {
     "name": "stdout",
     "output_type": "stream",
     "text": [
      "cc     mandelbrot_seq.c   -o mandelbrot_seq\n"
     ]
    },
    {
     "ename": "ArgumentError",
     "evalue": "ArgumentError: Column names :io_alocation were found in only one of the passed data frames and `cols == :setequal`",
     "output_type": "error",
     "traceback": [
      "ArgumentError: Column names :io_alocation were found in only one of the passed data frames and `cols == :setequal`",
      "",
      "Stacktrace:",
      " [1] #append!#189(::Symbol, ::Bool, ::typeof(append!), ::DataFrame, ::DataFrame) at /home/daidai/.julia/packages/DataFrames/3ZmR2/src/dataframe/dataframe.jl:1227",
      " [2] append!(::DataFrame, ::DataFrame) at /home/daidai/.julia/packages/DataFrames/3ZmR2/src/dataframe/dataframe.jl:1195",
      " [3] #run_experiments#4(::Array{Any,1}, ::typeof(run_experiments), ::Array{Int64,1}, ::Int64, ::String, ::Int64) at ./In[8]:31",
      " [4] run_experiments(::Array{Int64,1}, ::Int64, ::String, ::Int64) at ./In[8]:2",
      " [5] top-level scope at In[30]:1"
     ]
    }
   ],
   "source": [
    "results_seq_full = run_experiments(size, 0, \"mandelbrot_seq\", repetitions)\n",
    "seq_full = parse_results(results_seq_full);"
   ]
  },
  {
   "cell_type": "code",
   "execution_count": 34,
   "metadata": {},
   "outputs": [
    {
     "ename": "UndefVarError",
     "evalue": "UndefVarError: seq_full not defined",
     "output_type": "error",
     "traceback": [
      "UndefVarError: seq_full not defined",
      "",
      "Stacktrace:",
      " [1] top-level scope at In[34]:1"
     ]
    }
   ],
   "source": [
    "seq_full"
   ]
  },
  {
   "cell_type": "code",
   "execution_count": 31,
   "metadata": {},
   "outputs": [
    {
     "name": "stdout",
     "output_type": "stream",
     "text": [
      "make: 'mandelbrot_seq' is up to date.\n"
     ]
    },
    {
     "ename": "ArgumentError",
     "evalue": "ArgumentError: Column names :io_alocation were found in only one of the passed data frames and `cols == :setequal`",
     "output_type": "error",
     "traceback": [
      "ArgumentError: Column names :io_alocation were found in only one of the passed data frames and `cols == :setequal`",
      "",
      "Stacktrace:",
      " [1] #append!#189(::Symbol, ::Bool, ::typeof(append!), ::DataFrame, ::DataFrame) at /home/daidai/.julia/packages/DataFrames/3ZmR2/src/dataframe/dataframe.jl:1227",
      " [2] append!(::DataFrame, ::DataFrame) at /home/daidai/.julia/packages/DataFrames/3ZmR2/src/dataframe/dataframe.jl:1195",
      " [3] #run_experiments#4(::Array{Any,1}, ::typeof(run_experiments), ::Array{Int64,1}, ::Int64, ::String, ::Int64) at ./In[8]:31",
      " [4] run_experiments(::Array{Int64,1}, ::Int64, ::String, ::Int64) at ./In[8]:2",
      " [5] top-level scope at In[31]:1"
     ]
    }
   ],
   "source": [
    "results_seq_triplespiral = run_experiments(size, 1, \"mandelbrot_seq\", repetitions)\n",
    "seq_triplespiral = parse_results(results_seq_triplespiral);"
   ]
  },
  {
   "cell_type": "code",
   "execution_count": 32,
   "metadata": {},
   "outputs": [
    {
     "name": "stdout",
     "output_type": "stream",
     "text": [
      "make: 'mandelbrot_seq' is up to date.\n"
     ]
    },
    {
     "ename": "ArgumentError",
     "evalue": "ArgumentError: Column names :io_alocation were found in only one of the passed data frames and `cols == :setequal`",
     "output_type": "error",
     "traceback": [
      "ArgumentError: Column names :io_alocation were found in only one of the passed data frames and `cols == :setequal`",
      "",
      "Stacktrace:",
      " [1] #append!#189(::Symbol, ::Bool, ::typeof(append!), ::DataFrame, ::DataFrame) at /home/daidai/.julia/packages/DataFrames/3ZmR2/src/dataframe/dataframe.jl:1227",
      " [2] append!(::DataFrame, ::DataFrame) at /home/daidai/.julia/packages/DataFrames/3ZmR2/src/dataframe/dataframe.jl:1195",
      " [3] #run_experiments#4(::Array{Any,1}, ::typeof(run_experiments), ::Array{Int64,1}, ::Int64, ::String, ::Int64) at ./In[8]:31",
      " [4] run_experiments(::Array{Int64,1}, ::Int64, ::String, ::Int64) at ./In[8]:2",
      " [5] top-level scope at In[32]:1"
     ]
    }
   ],
   "source": [
    "results_seq_elephant = run_experiments(size, 2, \"mandelbrot_seq\", repetitions)\n",
    "seq_elephant = parse_results(results_seq_elephant);"
   ]
  },
  {
   "cell_type": "code",
   "execution_count": 33,
   "metadata": {},
   "outputs": [
    {
     "name": "stdout",
     "output_type": "stream",
     "text": [
      "make: 'mandelbrot_seq' is up to date.\n"
     ]
    },
    {
     "ename": "ArgumentError",
     "evalue": "ArgumentError: Column names :io_alocation were found in only one of the passed data frames and `cols == :setequal`",
     "output_type": "error",
     "traceback": [
      "ArgumentError: Column names :io_alocation were found in only one of the passed data frames and `cols == :setequal`",
      "",
      "Stacktrace:",
      " [1] #append!#189(::Symbol, ::Bool, ::typeof(append!), ::DataFrame, ::DataFrame) at /home/daidai/.julia/packages/DataFrames/3ZmR2/src/dataframe/dataframe.jl:1227",
      " [2] append!(::DataFrame, ::DataFrame) at /home/daidai/.julia/packages/DataFrames/3ZmR2/src/dataframe/dataframe.jl:1195",
      " [3] #run_experiments#4(::Array{Any,1}, ::typeof(run_experiments), ::Array{Int64,1}, ::Int64, ::String, ::Int64) at ./In[8]:31",
      " [4] run_experiments(::Array{Int64,1}, ::Int64, ::String, ::Int64) at ./In[8]:2",
      " [5] top-level scope at In[33]:1"
     ]
    }
   ],
   "source": [
    "results_seq_seahorse = run_experiments(size, 3, \"mandelbrot_seq\", repetitions)\n",
    "seq_seahorse = parse_results(results_seq_seahorse);"
   ]
  },
  {
   "cell_type": "code",
   "execution_count": null,
   "metadata": {},
   "outputs": [],
   "source": [
    "showall(seq_seahorse)"
   ]
  },
  {
   "cell_type": "markdown",
   "metadata": {},
   "source": [
    "## Mandelbrot com pthreads"
   ]
  },
  {
   "cell_type": "code",
   "execution_count": 24,
   "metadata": {
    "scrolled": false
   },
   "outputs": [
    {
     "name": "stdout",
     "output_type": "stream",
     "text": [
      "make: 'mandelbrot_pth' is up to date.\n"
     ]
    }
   ],
   "source": [
    "results_pth_full = run_experiments(size, 0, \"mandelbrot_pth\", repetitions,threads=thread)\n",
    "pth_full = parse_results(results_pth_full);"
   ]
  },
  {
   "cell_type": "code",
   "execution_count": 25,
   "metadata": {},
   "outputs": [
    {
     "data": {
      "text/html": [
       "<table class=\"data-frame\"><thead><tr><th></th><th>threads</th><th>size</th><th>mean_duration</th><th>mean_io_alocation</th><th>ci_duration</th><th>ci_io_alocation</th></tr><tr><th></th><th>Int64</th><th>Int64</th><th>Float64</th><th>Float64</th><th>Float64</th><th>Float64</th></tr></thead><tbody><p>60 rows × 6 columns</p><tr><th>1</th><td>1</td><td>16</td><td>0.0002328</td><td>0.0003282</td><td>4.98489e-5</td><td>4.84684e-5</td></tr><tr><th>2</th><td>1</td><td>32</td><td>0.000477</td><td>0.0006425</td><td>7.03843e-5</td><td>9.10844e-5</td></tr><tr><th>3</th><td>1</td><td>64</td><td>0.00152</td><td>0.001843</td><td>0.000203408</td><td>0.000230404</td></tr><tr><th>4</th><td>1</td><td>128</td><td>0.0056281</td><td>0.0068485</td><td>0.000907424</td><td>0.00128988</td></tr><tr><th>5</th><td>1</td><td>256</td><td>0.0208044</td><td>0.0247506</td><td>0.000763439</td><td>0.00082257</td></tr><tr><th>6</th><td>1</td><td>512</td><td>0.0817333</td><td>0.0972632</td><td>0.00501587</td><td>0.00515828</td></tr><tr><th>7</th><td>1</td><td>1024</td><td>0.321744</td><td>0.386844</td><td>0.00513979</td><td>0.0124842</td></tr><tr><th>8</th><td>1</td><td>2048</td><td>1.28677</td><td>1.54528</td><td>0.0228244</td><td>0.0349549</td></tr><tr><th>9</th><td>1</td><td>4096</td><td>5.13044</td><td>6.15101</td><td>0.0608508</td><td>0.0786069</td></tr><tr><th>10</th><td>1</td><td>8192</td><td>19.5874</td><td>23.3887</td><td>3.43214</td><td>3.49143</td></tr><tr><th>11</th><td>2</td><td>16</td><td>0.0002079</td><td>0.0003</td><td>5.14721e-5</td><td>5.11439e-5</td></tr><tr><th>12</th><td>2</td><td>32</td><td>0.0003349</td><td>0.0004843</td><td>5.64175e-5</td><td>8.74396e-5</td></tr><tr><th>13</th><td>2</td><td>64</td><td>0.000842</td><td>0.0011646</td><td>0.000190202</td><td>0.000216292</td></tr><tr><th>14</th><td>2</td><td>128</td><td>0.0028752</td><td>0.0039449</td><td>0.000454195</td><td>0.000560399</td></tr><tr><th>15</th><td>2</td><td>256</td><td>0.0105019</td><td>0.0145641</td><td>0.000343259</td><td>0.000505491</td></tr><tr><th>16</th><td>2</td><td>512</td><td>0.0415219</td><td>0.0586128</td><td>0.00128575</td><td>0.00526098</td></tr><tr><th>17</th><td>2</td><td>1024</td><td>0.164667</td><td>0.23096</td><td>0.00904285</td><td>0.0140925</td></tr><tr><th>18</th><td>2</td><td>2048</td><td>0.660098</td><td>0.928899</td><td>0.0441412</td><td>0.0641221</td></tr><tr><th>19</th><td>2</td><td>4096</td><td>2.54301</td><td>3.5203</td><td>0.0828349</td><td>0.14821</td></tr><tr><th>20</th><td>2</td><td>8192</td><td>10.5835</td><td>14.8822</td><td>0.124755</td><td>0.475465</td></tr><tr><th>21</th><td>4</td><td>16</td><td>0.0002031</td><td>0.0002891</td><td>4.64598e-5</td><td>4.3948e-5</td></tr><tr><th>22</th><td>4</td><td>32</td><td>0.0006061</td><td>0.0007452</td><td>0.00154637</td><td>0.00154231</td></tr><tr><th>23</th><td>4</td><td>64</td><td>0.0009962</td><td>0.0013013</td><td>0.00139477</td><td>0.00139999</td></tr><tr><th>24</th><td>4</td><td>128</td><td>0.0017812</td><td>0.002858</td><td>0.000201809</td><td>0.000221631</td></tr><tr><th>25</th><td>4</td><td>256</td><td>0.0061981</td><td>0.0103293</td><td>0.000906797</td><td>0.000996382</td></tr><tr><th>26</th><td>4</td><td>512</td><td>0.0281614</td><td>0.0476184</td><td>0.0178861</td><td>0.032347</td></tr><tr><th>27</th><td>4</td><td>1024</td><td>0.0996176</td><td>0.167301</td><td>0.0117926</td><td>0.0144547</td></tr><tr><th>28</th><td>4</td><td>2048</td><td>0.368392</td><td>0.653534</td><td>0.0421168</td><td>0.0616986</td></tr><tr><th>29</th><td>4</td><td>4096</td><td>1.42117</td><td>2.49164</td><td>0.139929</td><td>0.177231</td></tr><tr><th>30</th><td>4</td><td>8192</td><td>5.53158</td><td>9.82424</td><td>0.151387</td><td>0.186594</td></tr><tr><th>&vellip;</th><td>&vellip;</td><td>&vellip;</td><td>&vellip;</td><td>&vellip;</td><td>&vellip;</td><td>&vellip;</td></tr></tbody></table>"
      ],
      "text/latex": [
       "\\begin{tabular}{r|cccccc}\n",
       "\t& threads & size & mean\\_duration & mean\\_io\\_alocation & ci\\_duration & ci\\_io\\_alocation\\\\\n",
       "\t\\hline\n",
       "\t& Int64 & Int64 & Float64 & Float64 & Float64 & Float64\\\\\n",
       "\t\\hline\n",
       "\t1 & 1 & 16 & 0.0002328 & 0.0003282 & 4.98489e-5 & 4.84684e-5 \\\\\n",
       "\t2 & 1 & 32 & 0.000477 & 0.0006425 & 7.03843e-5 & 9.10844e-5 \\\\\n",
       "\t3 & 1 & 64 & 0.00152 & 0.001843 & 0.000203408 & 0.000230404 \\\\\n",
       "\t4 & 1 & 128 & 0.0056281 & 0.0068485 & 0.000907424 & 0.00128988 \\\\\n",
       "\t5 & 1 & 256 & 0.0208044 & 0.0247506 & 0.000763439 & 0.00082257 \\\\\n",
       "\t6 & 1 & 512 & 0.0817333 & 0.0972632 & 0.00501587 & 0.00515828 \\\\\n",
       "\t7 & 1 & 1024 & 0.321744 & 0.386844 & 0.00513979 & 0.0124842 \\\\\n",
       "\t8 & 1 & 2048 & 1.28677 & 1.54528 & 0.0228244 & 0.0349549 \\\\\n",
       "\t9 & 1 & 4096 & 5.13044 & 6.15101 & 0.0608508 & 0.0786069 \\\\\n",
       "\t10 & 1 & 8192 & 19.5874 & 23.3887 & 3.43214 & 3.49143 \\\\\n",
       "\t11 & 2 & 16 & 0.0002079 & 0.0003 & 5.14721e-5 & 5.11439e-5 \\\\\n",
       "\t12 & 2 & 32 & 0.0003349 & 0.0004843 & 5.64175e-5 & 8.74396e-5 \\\\\n",
       "\t13 & 2 & 64 & 0.000842 & 0.0011646 & 0.000190202 & 0.000216292 \\\\\n",
       "\t14 & 2 & 128 & 0.0028752 & 0.0039449 & 0.000454195 & 0.000560399 \\\\\n",
       "\t15 & 2 & 256 & 0.0105019 & 0.0145641 & 0.000343259 & 0.000505491 \\\\\n",
       "\t16 & 2 & 512 & 0.0415219 & 0.0586128 & 0.00128575 & 0.00526098 \\\\\n",
       "\t17 & 2 & 1024 & 0.164667 & 0.23096 & 0.00904285 & 0.0140925 \\\\\n",
       "\t18 & 2 & 2048 & 0.660098 & 0.928899 & 0.0441412 & 0.0641221 \\\\\n",
       "\t19 & 2 & 4096 & 2.54301 & 3.5203 & 0.0828349 & 0.14821 \\\\\n",
       "\t20 & 2 & 8192 & 10.5835 & 14.8822 & 0.124755 & 0.475465 \\\\\n",
       "\t21 & 4 & 16 & 0.0002031 & 0.0002891 & 4.64598e-5 & 4.3948e-5 \\\\\n",
       "\t22 & 4 & 32 & 0.0006061 & 0.0007452 & 0.00154637 & 0.00154231 \\\\\n",
       "\t23 & 4 & 64 & 0.0009962 & 0.0013013 & 0.00139477 & 0.00139999 \\\\\n",
       "\t24 & 4 & 128 & 0.0017812 & 0.002858 & 0.000201809 & 0.000221631 \\\\\n",
       "\t25 & 4 & 256 & 0.0061981 & 0.0103293 & 0.000906797 & 0.000996382 \\\\\n",
       "\t26 & 4 & 512 & 0.0281614 & 0.0476184 & 0.0178861 & 0.032347 \\\\\n",
       "\t27 & 4 & 1024 & 0.0996176 & 0.167301 & 0.0117926 & 0.0144547 \\\\\n",
       "\t28 & 4 & 2048 & 0.368392 & 0.653534 & 0.0421168 & 0.0616986 \\\\\n",
       "\t29 & 4 & 4096 & 1.42117 & 2.49164 & 0.139929 & 0.177231 \\\\\n",
       "\t30 & 4 & 8192 & 5.53158 & 9.82424 & 0.151387 & 0.186594 \\\\\n",
       "\t$\\dots$ & $\\dots$ & $\\dots$ & $\\dots$ & $\\dots$ & $\\dots$ & $\\dots$ \\\\\n",
       "\\end{tabular}\n"
      ],
      "text/plain": [
       "60×6 DataFrame. Omitted printing of 1 columns\n",
       "│ Row │ threads │ size  │ mean_duration │ mean_io_alocation │ ci_duration │\n",
       "│     │ \u001b[90mInt64\u001b[39m   │ \u001b[90mInt64\u001b[39m │ \u001b[90mFloat64\u001b[39m       │ \u001b[90mFloat64\u001b[39m           │ \u001b[90mFloat64\u001b[39m     │\n",
       "├─────┼─────────┼───────┼───────────────┼───────────────────┼─────────────┤\n",
       "│ 1   │ 1       │ 16    │ 0.0002328     │ 0.0003282         │ 4.98489e-5  │\n",
       "│ 2   │ 1       │ 32    │ 0.000477      │ 0.0006425         │ 7.03843e-5  │\n",
       "│ 3   │ 1       │ 64    │ 0.00152       │ 0.001843          │ 0.000203408 │\n",
       "│ 4   │ 1       │ 128   │ 0.0056281     │ 0.0068485         │ 0.000907424 │\n",
       "│ 5   │ 1       │ 256   │ 0.0208044     │ 0.0247506         │ 0.000763439 │\n",
       "│ 6   │ 1       │ 512   │ 0.0817333     │ 0.0972632         │ 0.00501587  │\n",
       "│ 7   │ 1       │ 1024  │ 0.321744      │ 0.386844          │ 0.00513979  │\n",
       "│ 8   │ 1       │ 2048  │ 1.28677       │ 1.54528           │ 0.0228244   │\n",
       "│ 9   │ 1       │ 4096  │ 5.13044       │ 6.15101           │ 0.0608508   │\n",
       "│ 10  │ 1       │ 8192  │ 19.5874       │ 23.3887           │ 3.43214     │\n",
       "⋮\n",
       "│ 50  │ 16      │ 8192  │ 3.1268        │ 6.06917           │ 0.947352    │\n",
       "│ 51  │ 32      │ 16    │ 0.0011472     │ 0.0012343         │ 0.000216139 │\n",
       "│ 52  │ 32      │ 32    │ 0.0011757     │ 0.0013096         │ 0.000123254 │\n",
       "│ 53  │ 32      │ 64    │ 0.001178      │ 0.0014778         │ 0.000139734 │\n",
       "│ 54  │ 32      │ 128   │ 0.0017483     │ 0.0027476         │ 0.000251122 │\n",
       "│ 55  │ 32      │ 256   │ 0.0045715     │ 0.0082843         │ 0.000604029 │\n",
       "│ 56  │ 32      │ 512   │ 0.0148918     │ 0.0296788         │ 0.000266753 │\n",
       "│ 57  │ 32      │ 1024  │ 0.0285747     │ 0.0594993         │ 0.00128308  │\n",
       "│ 58  │ 32      │ 2048  │ 0.167947      │ 0.345272          │ 0.119033    │\n",
       "│ 59  │ 32      │ 4096  │ 0.654459      │ 1.26192           │ 0.429928    │\n",
       "│ 60  │ 32      │ 8192  │ 2.59281       │ 5.06872           │ 1.11847     │"
      ]
     },
     "execution_count": 25,
     "metadata": {},
     "output_type": "execute_result"
    }
   ],
   "source": [
    "pth_full"
   ]
  },
  {
   "cell_type": "code",
   "execution_count": 26,
   "metadata": {},
   "outputs": [
    {
     "name": "stdout",
     "output_type": "stream",
     "text": [
      "make: 'mandelbrot_pth' is up to date.\n"
     ]
    }
   ],
   "source": [
    "results_pth_triplespiral = run_experiments(size, 1, \"mandelbrot_pth\", repetitions,threads=thread)\n",
    "pth_triplespiral = parse_results(results_pth_triplespiral);"
   ]
  },
  {
   "cell_type": "code",
   "execution_count": 45,
   "metadata": {},
   "outputs": [
    {
     "ename": "UndefVarError",
     "evalue": "UndefVarError: howall not defined",
     "output_type": "error",
     "traceback": [
      "UndefVarError: howall not defined",
      "",
      "Stacktrace:",
      " [1] top-level scope at In[45]:1"
     ]
    }
   ],
   "source": [
    "howall(results_pth_triplespiral)"
   ]
  },
  {
   "cell_type": "code",
   "execution_count": 27,
   "metadata": {},
   "outputs": [
    {
     "name": "stdout",
     "output_type": "stream",
     "text": [
      "make: 'mandelbrot_pth' is up to date.\n"
     ]
    }
   ],
   "source": [
    "results_pth_elephant = run_experiments(size, 2, \"mandelbrot_pth\", repetitions,threads=thread)\n",
    "pth_elephant = parse_results(results_pth_elephant);"
   ]
  },
  {
   "cell_type": "code",
   "execution_count": 28,
   "metadata": {},
   "outputs": [
    {
     "name": "stdout",
     "output_type": "stream",
     "text": [
      "make: 'mandelbrot_pth' is up to date.\n"
     ]
    },
    {
     "ename": "ProcessFailedException",
     "evalue": "failed process: Process(`./mandelbrot_pth -0.8 -0.7 0.05 0.15 8192 1`, ProcessSignaled(2)) [0]\n",
     "output_type": "error",
     "traceback": [
      "failed process: Process(`./mandelbrot_pth -0.8 -0.7 0.05 0.15 8192 1`, ProcessSignaled(2)) [0]\n",
      "",
      "Stacktrace:",
      " [1] pipeline_error at ./process.jl:525 [inlined]",
      " [2] read(::Cmd) at ./process.jl:412",
      " [3] read(::Cmd, ::Type{String}) at ./process.jl:421",
      " [4] #measure_mandelbrot#40(::Int64, ::typeof(measure_mandelbrot), ::Int64, ::Int64, ::String) at ./In[16]:9",
      " [5] #measure_mandelbrot at ./array.jl:0 [inlined]",
      " [6] #run_experiments#4(::Array{Int64,1}, ::typeof(run_experiments), ::Array{Int64,1}, ::Int64, ::String, ::Int64) at ./In[8]:18",
      " [7] (::var\"#kw##run_experiments\")(::NamedTuple{(:threads,),Tuple{Array{Int64,1}}}, ::typeof(run_experiments), ::Array{Int64,1}, ::Int64, ::String, ::Int64) at ./none:0",
      " [8] top-level scope at In[28]:1"
     ]
    }
   ],
   "source": [
    "results_pth_seahorse = run_experiments(size, 3, \"mandelbrot_pth\", repetitions,threads=thread)\n",
    "pth_seahorse = parse_results(results_pth_seahorse);"
   ]
  },
  {
   "cell_type": "markdown",
   "metadata": {},
   "source": [
    "## Mandelbrot com OpenMP"
   ]
  },
  {
   "cell_type": "code",
   "execution_count": 36,
   "metadata": {
    "scrolled": true
   },
   "outputs": [
    {
     "name": "stdout",
     "output_type": "stream",
     "text": [
      "make: 'mandelbrot_omp' is up to date.\n"
     ]
    },
    {
     "ename": "ProcessFailedException",
     "evalue": "failed process: Process(`./mandelbrot_omp -2.5 1.5 -2.0 2.0 1024 1`, ProcessSignaled(2)) [0]\n",
     "output_type": "error",
     "traceback": [
      "failed process: Process(`./mandelbrot_omp -2.5 1.5 -2.0 2.0 1024 1`, ProcessSignaled(2)) [0]\n",
      "",
      "Stacktrace:",
      " [1] pipeline_error at ./process.jl:525 [inlined]",
      " [2] read(::Cmd) at ./process.jl:412",
      " [3] read(::Cmd, ::Type{String}) at ./process.jl:421",
      " [4] #measure_mandelbrot#40(::Int64, ::typeof(measure_mandelbrot), ::Int64, ::Int64, ::String) at ./In[16]:9",
      " [5] #measure_mandelbrot at ./array.jl:0 [inlined]",
      " [6] #run_experiments#4(::Array{Int64,1}, ::typeof(run_experiments), ::Array{Int64,1}, ::Int64, ::String, ::Int64) at ./In[8]:18",
      " [7] (::var\"#kw##run_experiments\")(::NamedTuple{(:threads,),Tuple{Array{Int64,1}}}, ::typeof(run_experiments), ::Array{Int64,1}, ::Int64, ::String, ::Int64) at ./none:0",
      " [8] top-level scope at In[36]:1"
     ]
    }
   ],
   "source": [
    "results_omp_full = run_experiments(size, 0, \"mandelbrot_omp\", repetitions,threads=thread)\n",
    "omp_full = parse_results(results_omp_full);"
   ]
  },
  {
   "cell_type": "code",
   "execution_count": 37,
   "metadata": {},
   "outputs": [
    {
     "name": "stdout",
     "output_type": "stream",
     "text": [
      "make: 'mandelbrot_omp' is up to date.\n"
     ]
    },
    {
     "ename": "InterruptException",
     "evalue": "InterruptException:",
     "output_type": "error",
     "traceback": [
      "InterruptException:",
      "",
      "Stacktrace:",
      " [1] poptaskref(::Base.InvasiveLinkedListSynchronized{Task}) at ./task.jl:660",
      " [2] wait() at ./task.jl:667",
      " [3] wait(::Base.GenericCondition{Base.Threads.SpinLock}) at ./condition.jl:106",
      " [4] wait_readnb(::Base.PipeEndpoint, ::Int64) at ./stream.jl:355",
      " [5] read(::Base.PipeEndpoint) at ./stream.jl:819",
      " [6] read(::Cmd) at ./process.jl:411",
      " [7] read(::Cmd, ::Type{String}) at ./process.jl:421",
      " [8] #measure_mandelbrot#40(::Int64, ::typeof(measure_mandelbrot), ::Int64, ::Int64, ::String) at ./In[16]:9",
      " [9] #measure_mandelbrot at ./array.jl:0 [inlined]",
      " [10] #run_experiments#4(::Array{Int64,1}, ::typeof(run_experiments), ::Array{Int64,1}, ::Int64, ::String, ::Int64) at ./In[8]:18",
      " [11] (::var\"#kw##run_experiments\")(::NamedTuple{(:threads,),Tuple{Array{Int64,1}}}, ::typeof(run_experiments), ::Array{Int64,1}, ::Int64, ::String, ::Int64) at ./none:0",
      " [12] top-level scope at In[37]:1"
     ]
    }
   ],
   "source": [
    "results_omp_triplespiral = run_experiments(size, 1, \"mandelbrot_omp\", repetitions,threads=thread)\n",
    "omp_triplespiral = parse_results(results_omp_triplespiral);"
   ]
  },
  {
   "cell_type": "code",
   "execution_count": 38,
   "metadata": {},
   "outputs": [
    {
     "name": "stdout",
     "output_type": "stream",
     "text": [
      "make: 'mandelbrot_omp' is up to date.\n"
     ]
    },
    {
     "ename": "InterruptException",
     "evalue": "InterruptException:",
     "output_type": "error",
     "traceback": [
      "InterruptException:",
      "",
      "Stacktrace:",
      " [1] poptaskref(::Base.InvasiveLinkedListSynchronized{Task}) at ./task.jl:660",
      " [2] wait() at ./task.jl:667",
      " [3] wait(::Base.GenericCondition{Base.Threads.SpinLock}) at ./condition.jl:106",
      " [4] wait_readnb(::Base.PipeEndpoint, ::Int64) at ./stream.jl:355",
      " [5] read(::Base.PipeEndpoint) at ./stream.jl:819",
      " [6] read(::Cmd) at ./process.jl:411",
      " [7] read(::Cmd, ::Type{String}) at ./process.jl:421",
      " [8] #measure_mandelbrot#40(::Int64, ::typeof(measure_mandelbrot), ::Int64, ::Int64, ::String) at ./In[16]:9",
      " [9] #measure_mandelbrot at ./array.jl:0 [inlined]",
      " [10] #run_experiments#4(::Array{Int64,1}, ::typeof(run_experiments), ::Array{Int64,1}, ::Int64, ::String, ::Int64) at ./In[8]:18",
      " [11] (::var\"#kw##run_experiments\")(::NamedTuple{(:threads,),Tuple{Array{Int64,1}}}, ::typeof(run_experiments), ::Array{Int64,1}, ::Int64, ::String, ::Int64) at ./none:0",
      " [12] top-level scope at In[38]:1"
     ]
    }
   ],
   "source": [
    "results_omp_elephant = run_experiments(size, 2, \"mandelbrot_omp\", repetitions,threads=thread)\n",
    "omp_elephant = parse_results(results_omp_elephant);"
   ]
  },
  {
   "cell_type": "code",
   "execution_count": 39,
   "metadata": {},
   "outputs": [
    {
     "name": "stdout",
     "output_type": "stream",
     "text": [
      "make: 'mandelbrot_omp' is up to date.\n"
     ]
    },
    {
     "ename": "InterruptException",
     "evalue": "InterruptException:",
     "output_type": "error",
     "traceback": [
      "InterruptException:",
      "",
      "Stacktrace:",
      " [1] poptaskref(::Base.InvasiveLinkedListSynchronized{Task}) at ./task.jl:660",
      " [2] wait() at ./task.jl:667",
      " [3] wait(::Base.GenericCondition{Base.Threads.SpinLock}) at ./condition.jl:106",
      " [4] wait_readnb(::Base.PipeEndpoint, ::Int64) at ./stream.jl:355",
      " [5] read(::Base.PipeEndpoint) at ./stream.jl:819",
      " [6] read(::Cmd) at ./process.jl:411",
      " [7] read(::Cmd, ::Type{String}) at ./process.jl:421",
      " [8] #measure_mandelbrot#40(::Int64, ::typeof(measure_mandelbrot), ::Int64, ::Int64, ::String) at ./In[16]:9",
      " [9] #measure_mandelbrot at ./array.jl:0 [inlined]",
      " [10] #run_experiments#4(::Array{Int64,1}, ::typeof(run_experiments), ::Array{Int64,1}, ::Int64, ::String, ::Int64) at ./In[8]:18",
      " [11] (::var\"#kw##run_experiments\")(::NamedTuple{(:threads,),Tuple{Array{Int64,1}}}, ::typeof(run_experiments), ::Array{Int64,1}, ::Int64, ::String, ::Int64) at ./none:0",
      " [12] top-level scope at In[39]:1"
     ]
    }
   ],
   "source": [
    "results_omp_seahorse = run_experiments(size, 3, \"mandelbrot_omp\", repetitions,threads=thread)\n",
    "omp_seahorse = parse_results(results_omp_seahorse);"
   ]
  },
  {
   "cell_type": "code",
   "execution_count": 40,
   "metadata": {
    "scrolled": false
   },
   "outputs": [
    {
     "ename": "UndefVarError",
     "evalue": "UndefVarError: omp_seahorse not defined",
     "output_type": "error",
     "traceback": [
      "UndefVarError: omp_seahorse not defined",
      "",
      "Stacktrace:",
      " [1] top-level scope at In[40]:1"
     ]
    }
   ],
   "source": [
    "showall(omp_seahorse)"
   ]
  },
  {
   "cell_type": "markdown",
   "metadata": {},
   "source": [
    "## Salvando dados"
   ]
  },
  {
   "cell_type": "code",
   "execution_count": 22,
   "metadata": {},
   "outputs": [
    {
     "data": {
      "text/plain": [
       "read_csv_results (generic function with 1 method)"
      ]
     },
     "execution_count": 22,
     "metadata": {},
     "output_type": "execute_result"
    }
   ],
   "source": [
    "using CSV\n",
    "\n",
    "function save_csv_results(results,filename)\n",
    "    println(filename)\n",
    "    CSV.write(filename, results)\n",
    "end\n",
    "using CSV\n",
    "\n",
    "function read_csv_results(filename)\n",
    "    results=CSV.read(filename)\n",
    "    return results\n",
    "end\n"
   ]
  },
  {
   "cell_type": "code",
   "execution_count": 35,
   "metadata": {},
   "outputs": [
    {
     "ename": "UndefVarError",
     "evalue": "UndefVarError: results_seq_full not defined",
     "output_type": "error",
     "traceback": [
      "UndefVarError: results_seq_full not defined",
      "",
      "Stacktrace:",
      " [1] top-level scope at In[35]:1"
     ]
    }
   ],
   "source": [
    "save_csv_results(results_seq_full,\"results_data/seq_full.csv\")\n",
    "save_csv_results(results_seq_triplespiral,\"data/results_seq_triplespiral.csv\")\n",
    "save_csv_results(results_seq_elephant,\"data/results_seq_elephant.csv\")\n",
    "save_csv_results(results_seq_seahorse,\"data/results_seq_seahorse.csv\");\n",
    "save_csv_results(seq_full,\"data/seq_full.csv\")\n",
    "save_csv_results(seq_triplespiral,\"data/seq_triplespiral.csv\")\n",
    "save_csv_results(seq_elephant,\"data/seq_elephant.csv\")\n",
    "save_csv_results(seq_seahorse,\"data/seq_seahorse.csv\");"
   ]
  },
  {
   "cell_type": "code",
   "execution_count": 41,
   "metadata": {},
   "outputs": [
    {
     "ename": "UndefVarError",
     "evalue": "UndefVarError: results_omp_full not defined",
     "output_type": "error",
     "traceback": [
      "UndefVarError: results_omp_full not defined",
      "",
      "Stacktrace:",
      " [1] top-level scope at In[41]:1"
     ]
    }
   ],
   "source": [
    "save_csv_results(results_omp_full,\"data/results_omp_full.csv\")\n",
    "save_csv_results(results_omp_triplespiral,\"data/results_omp_triplespiral.csv\")\n",
    "save_csv_results(results_omp_elephant,\"data/results_omp_elephant.csv\")\n",
    "save_csv_results(results_omp_seahorse,\"data/results_omp_seahorse.csv\");\n",
    "save_csv_results(omp_full,\"data/omp_full.csv\")\n",
    "save_csv_results(omp_triplespiral,\"data/omp_triplespiral.csv\")\n",
    "save_csv_results(omp_elephant,\"data/omp_elephant.csv\")\n",
    "save_csv_results(omp_seahorse,\"data/omp_seahorse.csv\");"
   ]
  },
  {
   "cell_type": "code",
   "execution_count": 42,
   "metadata": {},
   "outputs": [
    {
     "name": "stdout",
     "output_type": "stream",
     "text": [
      "data/results_pth_full.csv\n",
      "data/results_pth_triplespiral.csv\n",
      "data/results_pth_elephant.csv\n"
     ]
    },
    {
     "ename": "UndefVarError",
     "evalue": "UndefVarError: results_pth_seahorse not defined",
     "output_type": "error",
     "traceback": [
      "UndefVarError: results_pth_seahorse not defined",
      "",
      "Stacktrace:",
      " [1] top-level scope at In[42]:4"
     ]
    }
   ],
   "source": [
    "save_csv_results(results_pth_full,\"data/results_pth_full.csv\")\n",
    "save_csv_results(results_pth_triplespiral,\"data/results_pth_triplespiral.csv\")\n",
    "save_csv_results(results_pth_elephant,\"data/results_pth_elephant.csv\")\n",
    "save_csv_results(results_pth_seahorse,\"data/results_pth_seahorse.csv\")\n",
    "save_csv_results(pth_full,\"data/pth_full.csv\")\n",
    "save_csv_results(pth_triplespiral,\"data/pth_triplespiral.csv\")\n",
    "save_csv_results(pth_elephant,\"data/pth_elephant.csv\")\n",
    "save_csv_results(pth_seahorse,\"data/pth_seahorse.csv\");"
   ]
  },
  {
   "cell_type": "markdown",
   "metadata": {},
   "source": [
    "# Gráficos comparativos\n",
    "\n",
    "Ao final, teremos os dataframes:\n",
    "\n",
    "|Dataframe | Full | Triple Spiral | Seahorse |\n",
    "|----------|--------|--------|--------|\n",
    "|Sequencial|seq_full|seq_triplespiral|seq_seahorse|\n",
    "|PThreads|pth_full|pth_triplespiral|pth_seahorse|\n",
    "|OpenMP|omp_full|omp_triplespiral|omp_seahorse|"
   ]
  },
  {
   "cell_type": "markdown",
   "metadata": {},
   "source": [
    "Carregando os dataframes gerados, para testes futuros:"
   ]
  },
  {
   "cell_type": "code",
   "execution_count": null,
   "metadata": {},
   "outputs": [],
   "source": [
    "seq_full=read_csv_results(\"data/seq_full.csv\")\n",
    "seq_triplespiral=read_csv_results(\"data/seq_triplespiral.csv\")\n",
    "seq_elephant=read_csv_results(\"data/seq_elephant.csv\")\n",
    "seq_seahorse=read_csv_results(\"data/seq_seahorse.csv\")\n",
    "omp_full=read_csv_results(\"data/omp_full.csv\")\n",
    "omp_triplespiral=read_csv_results(\"data/omp_triplespiral.csv\")\n",
    "omp_elephant=read_csv_results(\"data/omp_elephant.csv\")\n",
    "omp_seahorse=read_csv_results(\"data/omp_seahorse.csv\")\n",
    "pth_full=read_csv_results(\"data/pth_full.csv\")\n",
    "pth_triplespiral=read_csv_results(\"data/pth_triplespiral.csv\")\n",
    "pth_elephant=read_csv_results(\"data/pth_elephant.csv\")\n",
    "pth_seahorse=read_csv_results(\"data/pth_seahorse.csv\");"
   ]
  },
  {
   "cell_type": "code",
   "execution_count": null,
   "metadata": {},
   "outputs": [],
   "source": [
    "results_seq_full=read_csv_results(\"data/results_seq_full.csv\")\n",
    "results_seq_triplespiral=read_csv_results(\"data/results_seq_triplespiral.csv\")\n",
    "results_seq_elephant=read_csv_results(\"data/results_seq_elephant.csv\")\n",
    "results_seq_seahorse=read_csv_results(\"data/results_seq_seahorse.csv\")\n",
    "results_omp_full=read_csv_results(\"data/results_omp_full.csv\")\n",
    "results_omp_triplespiral=read_csv_results(\"data/results_omp_triplespiral.csv\")\n",
    "results_omp_elephant=read_csv_results(\"data/results_omp_elephant.csv\")\n",
    "results_omp_seahorse=read_csv_results(\"data/results_omp_seahorse.csv\")\n",
    "results_pth_full=read_csv_results(\"data/results_pth_full.csv\")\n",
    "results_pth_triplespiral=read_csv_results(\"data/results_pth_triplespiral.csv\")\n",
    "results_pth_elephant=read_csv_results(\"data/results_pth_elephant.csv\")\n",
    "results_pth_seahorse=read_csv_results(\"data/results_pth_seahorse.csv\");"
   ]
  },
  {
   "cell_type": "markdown",
   "metadata": {},
   "source": [
    "Realizaremos os gráficos a partir de partições do dataframe, como mostrados abaixo:"
   ]
  },
  {
   "cell_type": "code",
   "execution_count": null,
   "metadata": {
    "scrolled": false
   },
   "outputs": [],
   "source": [
    "filter(row -> row[:threads] == 1, omp_full)"
   ]
  },
  {
   "cell_type": "code",
   "execution_count": null,
   "metadata": {
    "scrolled": true
   },
   "outputs": [],
   "source": [
    "filter(row -> row[:size] == 16, omp_full)"
   ]
  },
  {
   "cell_type": "code",
   "execution_count": null,
   "metadata": {},
   "outputs": [],
   "source": [
    "filter(row -> row[:size] == 16, omp_full).mean_duration"
   ]
  },
  {
   "cell_type": "markdown",
   "metadata": {},
   "source": [
    "Ideias para os gráficos: \n",
    "> Comparar desempenho por tamanho da imagem ( 5 grafos > para tamanhos das imagens. Cada serie no grafico deve ser uma forma gerar a imagem)\n",
    "\n",
    "> Comparar desempenho por tipo de gráfico produzido ( 3 x 4 gráficos, 4 áreas com 3 tipos de calculo cada / cruzar com tamanho da entrada também? daí seriam 4x 3 x 10)\n",
    "\n",
    "> estou confouzer, me ajudem a saber quais gráficos fazer"
   ]
  },
  {
   "cell_type": "markdown",
   "metadata": {},
   "source": [
    "### Comparando desempenho por região"
   ]
  },
  {
   "cell_type": "markdown",
   "metadata": {},
   "source": [
    "#### Sequencial"
   ]
  },
  {
   "cell_type": "code",
   "execution_count": null,
   "metadata": {},
   "outputs": [],
   "source": [
    "plot_results(seq_full.threads, seq_full.mean_duration, \"Full\", seq_full.ci_duration,\n",
    "    y2 = seq_seahorse.mean_duration, series_label2 = \"Seahorse\", yerror2 = seq_seahorse.ci_duration,\n",
    "    y3 = seq_elephant.mean_duration, series_label3 = \"Elephant\", yerror3 = seq_elephant.ci_duration,\n",
    "    y4 = seq_triplespiral.mean_duration, series_label4 = \"Triple Spiral\", yerror4 = seq_triplespiral.ci_duration)"
   ]
  },
  {
   "cell_type": "markdown",
   "metadata": {},
   "source": [
    "#### OpenMP"
   ]
  },
  {
   "cell_type": "code",
   "execution_count": null,
   "metadata": {
    "scrolled": false
   },
   "outputs": [],
   "source": [
    "plot_results( omp_full.threads, omp_full.mean_duration, \"Full\", omp_full.ci_duration,\n",
    "    y2 = omp_seahorse.mean_duration, series_label2 = \"Seahorse\", yerror2 = omp_seahorse.ci_duration,\n",
    "    y3 = omp_elephant.mean_duration, series_label3 = \"Elephant\", yerror3 = omp_elephant.ci_duration,\n",
    "    y4 = omp_triplespiral.mean_duration, series_label4 = \"Triple Spiral\", yerror4 = omp_triplespiral.ci_duration)"
   ]
  },
  {
   "cell_type": "markdown",
   "metadata": {},
   "source": [
    "#### PThreads"
   ]
  },
  {
   "cell_type": "code",
   "execution_count": null,
   "metadata": {},
   "outputs": [],
   "source": [
    "plot_results(pth_full.threads, pth_full.mean_duration, \"Full\", pth_full.ci_duration,\n",
    "    y2 = pth_seahorse.mean_duration, series_label2 = \"Seahorse\", yerror2 = pth_seahorse.ci_duration,\n",
    "    y3 = pth_elephant.mean_duration, series_label3 = \"Elephant\", yerror3 = pth_elephant.ci_duration,\n",
    "    y4 = pth_triplespiral.mean_duration, series_label4 = \"Triple Spiral\", yerror4 = pth_triplespiral.ci_duration)"
   ]
  },
  {
   "cell_type": "code",
   "execution_count": null,
   "metadata": {},
   "outputs": [],
   "source": [
    "plot_results(\n",
    "    filter(row -> row[:size] == 16, omp_ful0l).threads,\n",
    "    filter(row -> row[:size] == 16, omp_full).mean_duration, \"Full\", \n",
    "    filter(row -> row[:size] == 16, omp_full).ci_duration,\n",
    "    y2 = filter(row -> row[:size] == 32, omp_full).mean_duration,\n",
    "    series_label2 = \"32\", yerror2 = filter(row -> row[:size] == 32, omp_full).ci_duration)"
   ]
  },
  {
   "cell_type": "markdown",
   "metadata": {},
   "source": [
    "### Comparando desempenho por quantidade de threads"
   ]
  },
  {
   "cell_type": "code",
   "execution_count": null,
   "metadata": {},
   "outputs": [],
   "source": [
    "function fazgrafico(filename, label)\n",
    "    \n",
    "    plot_results(filename.threads, filename.mean_duration, label, filename.ci_duration)\n",
    "end   "
   ]
  },
  {
   "cell_type": "code",
   "execution_count": null,
   "metadata": {
    "scrolled": false
   },
   "outputs": [],
   "source": [
    "fazgrafico(pth_full, \"pth_full\")"
   ]
  },
  {
   "cell_type": "code",
   "execution_count": null,
   "metadata": {},
   "outputs": [],
   "source": [
    "fazgrafico(seq_full, \"seq_full\") #, filename2 = seq_seahorse, label2 = \"seq_seahorse\")"
   ]
  },
  {
   "cell_type": "code",
   "execution_count": null,
   "metadata": {},
   "outputs": [],
   "source": [
    "seq_seahorse"
   ]
  },
  {
   "cell_type": "code",
   "execution_count": null,
   "metadata": {},
   "outputs": [],
   "source": [
    "fazgrafico(omp_full, \"omp_full\")\n"
   ]
  },
  {
   "cell_type": "code",
   "execution_count": null,
   "metadata": {},
   "outputs": [],
   "source": [
    "fazgrafico(omp_triplespiral, \"omp_triplespiral\")\n"
   ]
  },
  {
   "cell_type": "code",
   "execution_count": null,
   "metadata": {},
   "outputs": [],
   "source": [
    "fazgrafico(omp_elephant, \"omp_elephant\")\n"
   ]
  },
  {
   "cell_type": "code",
   "execution_count": null,
   "metadata": {},
   "outputs": [],
   "source": [
    "fazgrafico(omp_seahorse, \"omp_seahorse\")"
   ]
  },
  {
   "cell_type": "code",
   "execution_count": null,
   "metadata": {},
   "outputs": [],
   "source": []
  }
 ],
 "metadata": {
  "kernelspec": {
   "display_name": "Julia 1.3.1",
   "language": "julia",
   "name": "julia-1.3"
  },
  "language_info": {
   "file_extension": ".jl",
   "mimetype": "application/julia",
   "name": "julia",
   "version": "1.3.1"
  }
 },
 "nbformat": 4,
 "nbformat_minor": 4
}
