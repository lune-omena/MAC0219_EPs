{
 "cells": [
  {
   "cell_type": "markdown",
   "metadata": {},
   "source": [
    "# EP1 - Conjunto de Maldelbrot e paralelização com pThreads e OpenMP\n",
    "\n",
    "| Nome | NUSP |\n",
    "|------|------|\n",
    "| Giulia C. de Nardi | 10692203 |\n",
    "| Vitor D. Tamae | 10705620 |\n",
    "| Lucy Anne de Omena Evangelista | 11221776 |\n",
    "| Leonardo Costa Santos | 10783142 |\n",
    "| Alexandre Muller Jones | 8038149 |\n"
   ]
  },
  {
   "cell_type": "markdown",
   "metadata": {},
   "source": [
    "INFORMAÇÔES SOBRE O DESENVOLVIMENTO DO RELATÓRIO:\n",
    "\n",
    "- **A função run_experiments pode ser implementada a fim de fazer os 4 tipos de figuras se necessário.**\n",
    "\n",
    "- **Não implementei isso pois não sei como será a plotagem dos gráficos. Se facilitar o processo de plotagem, implementamos essa parte.**\n",
    "\n",
    "- **De forma geral, conseguimos realizar os experimentos das funções mandelbrot_seq, mandelbrot_omp e mandelbrot_pth contanto que haja na saída das funções a duração da execução, e como entrada da função o número de threads.**\n",
    "\n",
    "- **Para o caso dos mandelbrot paralelizados, podemos ter dois tempos como saída: o considerando o tempo de alocação de memória e I/O, e o tempo não considerando esses fatores. Ainda não implementado para a realização das funções, mas de fácil ajuste nas funções feitas neste notebook.**\n",
    "\n",
    "- **Ainda falta implementar as função de plotagem dos pontos.**\n",
    "\n",
    "- **Para as sessões de Mandelbrot com PThreads e com OpenMP falta mudar o nome das funções. Por hora elas estão dando problema porque não há saída alguma das funções.**"
   ]
  },
  {
   "cell_type": "markdown",
   "metadata": {},
   "source": [
    "## Configuração do ambiente\n",
    "\n",
    "Atualizando os pacotes Julia"
   ]
  },
  {
   "cell_type": "code",
   "execution_count": 5,
   "metadata": {},
   "outputs": [
    {
     "name": "stdout",
     "output_type": "stream",
     "text": [
      "\u001b[32m\u001b[1m  Updating\u001b[22m\u001b[39m registry at `~/.julia/registries/General`\n",
      "\u001b[32m\u001b[1m  Updating\u001b[22m\u001b[39m git-repo `https://github.com/JuliaRegistries/General.git`\n",
      "\u001b[?25l\u001b[2K\u001b[?25h\u001b[32m\u001b[1m Resolving\u001b[22m\u001b[39m package versions...\n",
      "\u001b[32m\u001b[1m  Updating\u001b[22m\u001b[39m `~/.julia/environments/v1.3/Project.toml`\n",
      "\u001b[90m [no changes]\u001b[39m\n",
      "\u001b[32m\u001b[1m  Updating\u001b[22m\u001b[39m `~/.julia/environments/v1.3/Manifest.toml`\n",
      "\u001b[90m [no changes]\u001b[39m\n"
     ]
    }
   ],
   "source": [
    "] up"
   ]
  },
  {
   "cell_type": "markdown",
   "metadata": {},
   "source": [
    "Verificando o status dos pacotes, e se há algum problema, com o comando:"
   ]
  },
  {
   "cell_type": "code",
   "execution_count": 6,
   "metadata": {},
   "outputs": [
    {
     "name": "stdout",
     "output_type": "stream",
     "text": [
      "\u001b[32m\u001b[1m    Status\u001b[22m\u001b[39m `~/.julia/environments/v1.3/Project.toml`\n",
      " \u001b[90m [336ed68f]\u001b[39m\u001b[37m CSV v0.6.2\u001b[39m\n",
      " \u001b[90m [a93c6f00]\u001b[39m\u001b[37m DataFrames v0.21.0\u001b[39m\n",
      " \u001b[90m [31c24e10]\u001b[39m\u001b[37m Distributions v0.23.2\u001b[39m\n",
      " \u001b[90m [7073ff75]\u001b[39m\u001b[37m IJulia v1.21.2\u001b[39m\n",
      " \u001b[90m [b964fa9f]\u001b[39m\u001b[37m LaTeXStrings v1.1.0\u001b[39m\n",
      " \u001b[90m [8314cec4]\u001b[39m\u001b[37m PGFPlotsX v1.2.6\u001b[39m\n",
      " \u001b[90m [1a8c2f83]\u001b[39m\u001b[37m Query v0.12.2\u001b[39m\n",
      " \u001b[90m [f3b207a7]\u001b[39m\u001b[37m StatsPlots v0.14.6\u001b[39m\n"
     ]
    }
   ],
   "source": [
    "] st"
   ]
  },
  {
   "cell_type": "markdown",
   "metadata": {},
   "source": [
    "## Funções para realização dos experimentos"
   ]
  },
  {
   "cell_type": "code",
   "execution_count": 7,
   "metadata": {},
   "outputs": [
    {
     "name": "stdout",
     "output_type": "stream",
     "text": [
      "make: 'mandelbrot_seq' is up to date.\n"
     ]
    }
   ],
   "source": [
    "; make mandelbrot_seq"
   ]
  },
  {
   "cell_type": "code",
   "execution_count": 8,
   "metadata": {
    "scrolled": false
   },
   "outputs": [
    {
     "name": "stdout",
     "output_type": "stream",
     "text": [
      "usage: ./mandelbrot_seq c_x_min c_x_max c_y_min c_y_max image_size\n",
      "examples with image_size = 11500:\n",
      "    Full Picture:         ./mandelbrot_seq -2.5 1.5 -2.0 2.0 11500\n",
      "    Seahorse Valley:      ./mandelbrot_seq -0.8 -0.7 0.05 0.15 11500\n",
      "    Elephant Valley:      ./mandelbrot_seq 0.175 0.375 -0.1 0.1 11500\n",
      "    Triple Spiral Valley: ./mandelbrot_seq -0.188 -0.012 0.554 0.754 11500\n"
     ]
    }
   ],
   "source": [
    "; ./mandelbrot_seq"
   ]
  },
  {
   "cell_type": "code",
   "execution_count": 9,
   "metadata": {},
   "outputs": [
    {
     "name": "stdout",
     "output_type": "stream",
     "text": [
      "3.000000"
     ]
    }
   ],
   "source": [
    "; ./mandelbrot_seq 0.175 0.375 -0.1 0.1 200 0"
   ]
  },
  {
   "cell_type": "markdown",
   "metadata": {},
   "source": [
    "A função abaixo recebe parâmetros `size`, com o tamanho da imagem, `f`, com a id do tupo de fractal a ser feito (0 - Full, 2 - Triple Spiral, 3 - Elephant, 4 - Seahorse), `mandel`, com o nome da função a ser executada (`./mandelbrot_seq`, `./mandelbrot_opm`, `./mandelbrot_pth`),e `threads`, com o número de threads do programa paralelo. A função executa o programa `mandelbrot` com os parâmetros dados e devolve um `DataFrame` com os resultados.\n",
    "\n",
    "**#precisamos colocar a duração do programa como uma saida da funcao pra conseguir fazer as estimativas.**\n",
    "\n",
    "**#também precisamos colocar a quantidade de threads como uma entrada do programa que usa #openMP e pthreads**\n",
    "\n",
    "**#tudo feito daqui pra baixo leva em conta que a duração do programa é uma das saídas**"
   ]
  },
  {
   "cell_type": "code",
   "execution_count": 10,
   "metadata": {},
   "outputs": [
    {
     "name": "stderr",
     "output_type": "stream",
     "text": [
      "┌ Info: Precompiling Query [1a8c2f83-1ff3-5112-b086-8aa67b057ba1]\n",
      "└ @ Base loading.jl:1273\n",
      "┌ Info: Precompiling StatsPlots [f3b207a7-027a-5e70-b257-86293d7955fd]\n",
      "└ @ Base loading.jl:1273\n"
     ]
    },
    {
     "data": {
      "text/plain": [
       "measure_mandelbrot (generic function with 1 method)"
      ]
     },
     "execution_count": 10,
     "metadata": {},
     "output_type": "execute_result"
    }
   ],
   "source": [
    "using DataFrames, Query, StatsPlots, Statistics\n",
    "\n",
    "function measure_mandelbrot(size, f, mandel; thread = 0)    \n",
    "    if f == 0  mode = `-2.5 1.5 -2.0 2.0`\n",
    "    elseif f == 1  mode = `-0.188 -0.012 0.554 0.754`\n",
    "    elseif f == 2  mode = `0.175 0.375 -0.1 0.1`\n",
    "    elseif f == 3  mode = `-0.8 -0.7 0.05 0.15`\n",
    "    end\n",
    "    \n",
    "    if thread != 0 \n",
    "    results = parse.(Float64,\n",
    "        read(`./$mandel $mode $size $thread`, String))\n",
    "    else\n",
    "    results = parse.(Float64,\n",
    "        read(`./$mandel $mode $size`, String))\n",
    "    end\n",
    "        \n",
    "    return DataFrame(size = size,\n",
    "        f = f,\n",
    "        threads = thread,\n",
    "        duration = results[1])\n",
    "end"
   ]
  },
  {
   "cell_type": "markdown",
   "metadata": {},
   "source": [
    "A função `run_experiments` recebe os mesmos parâmetros `size`, `f`,`mandel` e `threads`, e um parâmetro adicional `repetitions`, com o número de repetições de cada experimento com um dado número de `threads`. A função devolve um `DataFrame` com todos os experimentos."
   ]
  },
  {
   "cell_type": "code",
   "execution_count": 11,
   "metadata": {},
   "outputs": [
    {
     "data": {
      "text/plain": [
       "run_experiments (generic function with 1 method)"
      ]
     },
     "execution_count": 11,
     "metadata": {},
     "output_type": "execute_result"
    }
   ],
   "source": [
    "function run_experiments(size, f, mandel, repetitions; threads = [])\n",
    "    run(`make $mandel`)\n",
    "    \n",
    "    results = DataFrame(size = Int[],\n",
    "        f = Int[],\n",
    "        threads = Int[],\n",
    "        duration = Float64[]) \n",
    "    \n",
    "    if threads != []\n",
    "    for t in threads\n",
    "        for s in size\n",
    "        for r in 1:repetitions\n",
    "            append!(results,\n",
    "                measure_mandelbrot(s, f, mandel, thread = t))    \n",
    "        end\n",
    "        end\n",
    "    end\n",
    "    else\n",
    "        for r in 1:repetitions\n",
    "        for s in size\n",
    "            append!(results,\n",
    "                measure_mandelbrot(s, f, mandel))    \n",
    "        end\n",
    "        end\n",
    "    end \n",
    "    \n",
    "    return results\n",
    "end"
   ]
  },
  {
   "cell_type": "markdown",
   "metadata": {},
   "source": [
    "A função `parse_results` recebe um `DataFrame` de resultados, produzido pela função `run_experiments`. A função devolve um `DataFrame` com a média e o intervalo de confiança da média a 95% dos tempos de execução, agrupados por número de threads."
   ]
  },
  {
   "cell_type": "code",
   "execution_count": 12,
   "metadata": {},
   "outputs": [
    {
     "data": {
      "text/plain": [
       "parse_results (generic function with 1 method)"
      ]
     },
     "execution_count": 12,
     "metadata": {},
     "output_type": "execute_result"
    }
   ],
   "source": [
    "function parse_results(results)\n",
    "    parsed_results = results |>\n",
    "                    @groupby({_.threads,_.size}) |>\n",
    "                    @map({threads = key(_).threads,\n",
    "                          size = _.size[1],\n",
    "                          mean_duration = mean(_.duration),\n",
    "                          ci_duration = 1.96 * std(_.duration)}) |>\n",
    "                    DataFrame\n",
    "    \n",
    "    return parsed_results\n",
    "end"
   ]
  },
  {
   "cell_type": "markdown",
   "metadata": {},
   "source": [
    "## Funções para traçar gráficos"
   ]
  },
  {
   "cell_type": "code",
   "execution_count": 13,
   "metadata": {},
   "outputs": [],
   "source": [
    "# espaço para funções"
   ]
  },
  {
   "cell_type": "markdown",
   "metadata": {},
   "source": [
    "## Mandelbrot sequencial"
   ]
  },
  {
   "cell_type": "markdown",
   "metadata": {},
   "source": [
    "Nesta parte, traremos a execução do maldelbrot em sua versão sequencial, junto com a análise de tempo de execução para os diferentes tipo de fractais Triple Spiral, Elephant, Seahorse & Full) e em diferentes resoluções ($ 2^4 \\cdots 2^{13}$)"
   ]
  },
  {
   "cell_type": "markdown",
   "metadata": {},
   "source": [
    "Realizando as medições para o mandelbrot sequencial:"
   ]
  },
  {
   "cell_type": "code",
   "execution_count": 27,
   "metadata": {},
   "outputs": [
    {
     "name": "stdout",
     "output_type": "stream",
     "text": [
      "make: 'mandelbrot_seq' is up to date.\n"
     ]
    },
    {
     "data": {
      "text/html": [
       "<table class=\"data-frame\"><thead><tr><th></th><th>threads</th><th>size</th><th>mean_duration</th><th>ci_duration</th></tr><tr><th></th><th>Int64</th><th>Int64</th><th>Float64</th><th>Float64</th></tr></thead><tbody><p>10 rows × 4 columns</p><tr><th>1</th><td>0</td><td>16</td><td>9.86e-5</td><td>2.53406e-5</td></tr><tr><th>2</th><td>0</td><td>32</td><td>0.0003643</td><td>0.000107671</td></tr><tr><th>3</th><td>0</td><td>64</td><td>0.0014031</td><td>0.000243907</td></tr><tr><th>4</th><td>0</td><td>128</td><td>0.0053381</td><td>0.000569749</td></tr><tr><th>5</th><td>0</td><td>256</td><td>0.0217418</td><td>0.00271726</td></tr><tr><th>6</th><td>0</td><td>512</td><td>0.085418</td><td>0.00603048</td></tr><tr><th>7</th><td>0</td><td>1024</td><td>0.34246</td><td>0.0197193</td></tr><tr><th>8</th><td>0</td><td>2048</td><td>1.35316</td><td>0.0428006</td></tr><tr><th>9</th><td>0</td><td>4096</td><td>5.36975</td><td>0.113206</td></tr><tr><th>10</th><td>0</td><td>8192</td><td>21.4231</td><td>0.592496</td></tr></tbody></table>"
      ],
      "text/latex": [
       "\\begin{tabular}{r|cccc}\n",
       "\t& threads & size & mean\\_duration & ci\\_duration\\\\\n",
       "\t\\hline\n",
       "\t& Int64 & Int64 & Float64 & Float64\\\\\n",
       "\t\\hline\n",
       "\t1 & 0 & 16 & 9.86e-5 & 2.53406e-5 \\\\\n",
       "\t2 & 0 & 32 & 0.0003643 & 0.000107671 \\\\\n",
       "\t3 & 0 & 64 & 0.0014031 & 0.000243907 \\\\\n",
       "\t4 & 0 & 128 & 0.0053381 & 0.000569749 \\\\\n",
       "\t5 & 0 & 256 & 0.0217418 & 0.00271726 \\\\\n",
       "\t6 & 0 & 512 & 0.085418 & 0.00603048 \\\\\n",
       "\t7 & 0 & 1024 & 0.34246 & 0.0197193 \\\\\n",
       "\t8 & 0 & 2048 & 1.35316 & 0.0428006 \\\\\n",
       "\t9 & 0 & 4096 & 5.36975 & 0.113206 \\\\\n",
       "\t10 & 0 & 8192 & 21.4231 & 0.592496 \\\\\n",
       "\\end{tabular}\n"
      ],
      "text/plain": [
       "10×4 DataFrame\n",
       "│ Row │ threads │ size  │ mean_duration │ ci_duration │\n",
       "│     │ \u001b[90mInt64\u001b[39m   │ \u001b[90mInt64\u001b[39m │ \u001b[90mFloat64\u001b[39m       │ \u001b[90mFloat64\u001b[39m     │\n",
       "├─────┼─────────┼───────┼───────────────┼─────────────┤\n",
       "│ 1   │ 0       │ 16    │ 9.86e-5       │ 2.53406e-5  │\n",
       "│ 2   │ 0       │ 32    │ 0.0003643     │ 0.000107671 │\n",
       "│ 3   │ 0       │ 64    │ 0.0014031     │ 0.000243907 │\n",
       "│ 4   │ 0       │ 128   │ 0.0053381     │ 0.000569749 │\n",
       "│ 5   │ 0       │ 256   │ 0.0217418     │ 0.00271726  │\n",
       "│ 6   │ 0       │ 512   │ 0.085418      │ 0.00603048  │\n",
       "│ 7   │ 0       │ 1024  │ 0.34246       │ 0.0197193   │\n",
       "│ 8   │ 0       │ 2048  │ 1.35316       │ 0.0428006   │\n",
       "│ 9   │ 0       │ 4096  │ 5.36975       │ 0.113206    │\n",
       "│ 10  │ 0       │ 8192  │ 21.4231       │ 0.592496    │"
      ]
     },
     "execution_count": 27,
     "metadata": {},
     "output_type": "execute_result"
    }
   ],
   "source": [
    "size = [2 ^ x for x in 4:13]\n",
    "f = 0\n",
    "thread = [2 ^ x for x in 0:5]\n",
    "repetitions = 10\n",
    "\n",
    "results = run_experiments(size, f, \"mandelbrot_seq\", repetitions)\n",
    "parsed_results = parse_results(results)"
   ]
  },
  {
   "cell_type": "code",
   "execution_count": 15,
   "metadata": {},
   "outputs": [
    {
     "name": "stdout",
     "output_type": "stream",
     "text": [
      "make: 'mandelbrot_seq' is up to date.\n"
     ]
    },
    {
     "ename": "ProcessFailedException",
     "evalue": "failed process: Process(`./mandelbrot_seq -0.188 -0.012 0.554 0.754 4096`, ProcessSignaled(2)) [0]\n",
     "output_type": "error",
     "traceback": [
      "failed process: Process(`./mandelbrot_seq -0.188 -0.012 0.554 0.754 4096`, ProcessSignaled(2)) [0]\n",
      "",
      "Stacktrace:",
      " [1] pipeline_error at ./process.jl:525 [inlined]",
      " [2] read(::Cmd) at ./process.jl:412",
      " [3] read(::Cmd, ::Type{String}) at ./process.jl:421",
      " [4] #measure_mandelbrot#3(::Int64, ::typeof(measure_mandelbrot), ::Int64, ::Int64, ::String) at ./In[10]:14",
      " [5] measure_mandelbrot at ./In[10]:4 [inlined]",
      " [6] #run_experiments#4(::Array{Any,1}, ::typeof(run_experiments), ::Array{Int64,1}, ::Int64, ::String, ::Int64) at ./In[11]:21",
      " [7] run_experiments(::Array{Int64,1}, ::Int64, ::String, ::Int64) at ./In[11]:2",
      " [8] top-level scope at In[15]:5"
     ]
    }
   ],
   "source": [
    "size = [2 ^ x for x in 4:13]\n",
    "f = 1\n",
    "thread = [2 ^ x for x in 0:5]\n",
    "repetitions = 10\n",
    "\n",
    "results = run_experiments(size, f, \"seq\", repetitions)\n",
    "parsed_results = parse_results(results)"
   ]
  },
  {
   "cell_type": "code",
   "execution_count": 16,
   "metadata": {},
   "outputs": [
    {
     "name": "stdout",
     "output_type": "stream",
     "text": [
      "make: 'mandelbrot_seq' is up to date.\n"
     ]
    },
    {
     "ename": "InterruptException",
     "evalue": "InterruptException:",
     "output_type": "error",
     "traceback": [
      "InterruptException:",
      "",
      "Stacktrace:",
      " [1] poptaskref(::Base.InvasiveLinkedListSynchronized{Task}) at ./task.jl:660",
      " [2] wait() at ./task.jl:667",
      " [3] wait(::Base.GenericCondition{Base.Threads.SpinLock}) at ./condition.jl:106",
      " [4] wait_readnb(::Base.PipeEndpoint, ::Int64) at ./stream.jl:355",
      " [5] read(::Base.PipeEndpoint) at ./stream.jl:819",
      " [6] read(::Cmd) at ./process.jl:411",
      " [7] read(::Cmd, ::Type{String}) at ./process.jl:421",
      " [8] #measure_mandelbrot#3(::Int64, ::typeof(measure_mandelbrot), ::Int64, ::Int64, ::String) at ./In[10]:14",
      " [9] measure_mandelbrot at ./In[10]:4 [inlined]",
      " [10] #run_experiments#4(::Array{Any,1}, ::typeof(run_experiments), ::Array{Int64,1}, ::Int64, ::String, ::Int64) at ./In[11]:21",
      " [11] run_experiments(::Array{Int64,1}, ::Int64, ::String, ::Int64) at ./In[11]:2",
      " [12] top-level scope at In[16]:5"
     ]
    }
   ],
   "source": [
    "size = [2 ^ x for x in 4:13]\n",
    "f = 2\n",
    "thread = [2 ^ x for x in 0:5]\n",
    "repetitions = 10\n",
    "\n",
    "results = run_experiments(size, f, \"seq\", repetitions)\n",
    "parsed_results = parse_results(results)"
   ]
  },
  {
   "cell_type": "code",
   "execution_count": 17,
   "metadata": {},
   "outputs": [
    {
     "name": "stdout",
     "output_type": "stream",
     "text": [
      "make: 'mandelbrot_seq' is up to date.\n"
     ]
    },
    {
     "ename": "InterruptException",
     "evalue": "InterruptException:",
     "output_type": "error",
     "traceback": [
      "InterruptException:",
      "",
      "Stacktrace:",
      " [1] poptaskref(::Base.InvasiveLinkedListSynchronized{Task}) at ./task.jl:660",
      " [2] wait() at ./task.jl:667",
      " [3] wait(::Base.GenericCondition{Base.Threads.SpinLock}) at ./condition.jl:106",
      " [4] wait_readnb(::Base.PipeEndpoint, ::Int64) at ./stream.jl:355",
      " [5] read(::Base.PipeEndpoint) at ./stream.jl:819",
      " [6] read(::Cmd) at ./process.jl:411",
      " [7] read(::Cmd, ::Type{String}) at ./process.jl:421",
      " [8] #measure_mandelbrot#3(::Int64, ::typeof(measure_mandelbrot), ::Int64, ::Int64, ::String) at ./In[10]:14",
      " [9] measure_mandelbrot at ./In[10]:4 [inlined]",
      " [10] #run_experiments#4(::Array{Any,1}, ::typeof(run_experiments), ::Array{Int64,1}, ::Int64, ::String, ::Int64) at ./In[11]:21",
      " [11] run_experiments(::Array{Int64,1}, ::Int64, ::String, ::Int64) at ./In[11]:2",
      " [12] top-level scope at In[17]:5"
     ]
    }
   ],
   "source": [
    "size = [2 ^ x for x in 4:13]\n",
    "f = 3\n",
    "thread = [2 ^ x for x in 0:5]\n",
    "repetitions = 10\n",
    "\n",
    "results = run_experiments(size, f, \"mandelbrot_seq\", repetitions)\n",
    "parsed_results = parse_results(results)"
   ]
  },
  {
   "cell_type": "markdown",
   "metadata": {},
   "source": [
    "## Mandelbrot com pthreads"
   ]
  },
  {
   "cell_type": "code",
   "execution_count": 40,
   "metadata": {
    "scrolled": false
   },
   "outputs": [
    {
     "name": "stdout",
     "output_type": "stream",
     "text": [
      "gcc -pthread -o mandelbrot_pth mandelbrot_pth.c\n"
     ]
    },
    {
     "data": {
      "text/html": [
       "<table class=\"data-frame\"><thead><tr><th></th><th>threads</th><th>size</th><th>mean_duration</th><th>ci_duration</th></tr><tr><th></th><th>Int64</th><th>Int64</th><th>Float64</th><th>Float64</th></tr></thead><tbody><p>60 rows × 4 columns</p><tr><th>1</th><td>1</td><td>16</td><td>0.000272</td><td>5.26653e-5</td></tr><tr><th>2</th><td>1</td><td>32</td><td>0.0005605</td><td>0.000184329</td></tr><tr><th>3</th><td>1</td><td>64</td><td>0.0015495</td><td>6.92965e-6</td></tr><tr><th>4</th><td>1</td><td>128</td><td>0.0057475</td><td>7.8998e-5</td></tr><tr><th>5</th><td>1</td><td>256</td><td>0.0225655</td><td>0.000444883</td></tr><tr><th>6</th><td>1</td><td>512</td><td>0.090326</td><td>0.000579318</td></tr><tr><th>7</th><td>1</td><td>1024</td><td>0.3626</td><td>0.00258476</td></tr><tr><th>8</th><td>1</td><td>2048</td><td>1.43607</td><td>0.0367257</td></tr><tr><th>9</th><td>1</td><td>4096</td><td>5.80036</td><td>0.0644887</td></tr><tr><th>10</th><td>1</td><td>8192</td><td>23.1462</td><td>0.319058</td></tr><tr><th>11</th><td>2</td><td>16</td><td>0.0002385</td><td>4.01919e-5</td></tr><tr><th>12</th><td>2</td><td>32</td><td>0.0004835</td><td>7.06824e-5</td></tr><tr><th>13</th><td>2</td><td>64</td><td>0.001435</td><td>0.000266098</td></tr><tr><th>14</th><td>2</td><td>128</td><td>0.0053605</td><td>0.000550214</td></tr><tr><th>15</th><td>2</td><td>256</td><td>0.0215635</td><td>0.0011129</td></tr><tr><th>16</th><td>2</td><td>512</td><td>0.0937905</td><td>0.0116959</td></tr><tr><th>17</th><td>2</td><td>1024</td><td>0.361778</td><td>0.0100397</td></tr><tr><th>18</th><td>2</td><td>2048</td><td>1.34973</td><td>0.0694184</td></tr><tr><th>19</th><td>2</td><td>4096</td><td>5.33168</td><td>1.25944</td></tr><tr><th>20</th><td>2</td><td>8192</td><td>22.598</td><td>0.201258</td></tr><tr><th>21</th><td>4</td><td>16</td><td>0.0006285</td><td>0.00081354</td></tr><tr><th>22</th><td>4</td><td>32</td><td>0.0004865</td><td>0.000134435</td></tr><tr><th>23</th><td>4</td><td>64</td><td>0.001694</td><td>0.000795523</td></tr><tr><th>24</th><td>4</td><td>128</td><td>0.005403</td><td>4.43497e-5</td></tr><tr><th>25</th><td>4</td><td>256</td><td>0.021123</td><td>0.00209553</td></tr><tr><th>26</th><td>4</td><td>512</td><td>0.081782</td><td>0.00229787</td></tr><tr><th>27</th><td>4</td><td>1024</td><td>0.334745</td><td>0.00338583</td></tr><tr><th>28</th><td>4</td><td>2048</td><td>1.31436</td><td>0.0228526</td></tr><tr><th>29</th><td>4</td><td>4096</td><td>5.14313</td><td>0.228213</td></tr><tr><th>30</th><td>4</td><td>8192</td><td>19.9978</td><td>0.329548</td></tr><tr><th>&vellip;</th><td>&vellip;</td><td>&vellip;</td><td>&vellip;</td><td>&vellip;</td></tr></tbody></table>"
      ],
      "text/latex": [
       "\\begin{tabular}{r|cccc}\n",
       "\t& threads & size & mean\\_duration & ci\\_duration\\\\\n",
       "\t\\hline\n",
       "\t& Int64 & Int64 & Float64 & Float64\\\\\n",
       "\t\\hline\n",
       "\t1 & 1 & 16 & 0.000272 & 5.26653e-5 \\\\\n",
       "\t2 & 1 & 32 & 0.0005605 & 0.000184329 \\\\\n",
       "\t3 & 1 & 64 & 0.0015495 & 6.92965e-6 \\\\\n",
       "\t4 & 1 & 128 & 0.0057475 & 7.8998e-5 \\\\\n",
       "\t5 & 1 & 256 & 0.0225655 & 0.000444883 \\\\\n",
       "\t6 & 1 & 512 & 0.090326 & 0.000579318 \\\\\n",
       "\t7 & 1 & 1024 & 0.3626 & 0.00258476 \\\\\n",
       "\t8 & 1 & 2048 & 1.43607 & 0.0367257 \\\\\n",
       "\t9 & 1 & 4096 & 5.80036 & 0.0644887 \\\\\n",
       "\t10 & 1 & 8192 & 23.1462 & 0.319058 \\\\\n",
       "\t11 & 2 & 16 & 0.0002385 & 4.01919e-5 \\\\\n",
       "\t12 & 2 & 32 & 0.0004835 & 7.06824e-5 \\\\\n",
       "\t13 & 2 & 64 & 0.001435 & 0.000266098 \\\\\n",
       "\t14 & 2 & 128 & 0.0053605 & 0.000550214 \\\\\n",
       "\t15 & 2 & 256 & 0.0215635 & 0.0011129 \\\\\n",
       "\t16 & 2 & 512 & 0.0937905 & 0.0116959 \\\\\n",
       "\t17 & 2 & 1024 & 0.361778 & 0.0100397 \\\\\n",
       "\t18 & 2 & 2048 & 1.34973 & 0.0694184 \\\\\n",
       "\t19 & 2 & 4096 & 5.33168 & 1.25944 \\\\\n",
       "\t20 & 2 & 8192 & 22.598 & 0.201258 \\\\\n",
       "\t21 & 4 & 16 & 0.0006285 & 0.00081354 \\\\\n",
       "\t22 & 4 & 32 & 0.0004865 & 0.000134435 \\\\\n",
       "\t23 & 4 & 64 & 0.001694 & 0.000795523 \\\\\n",
       "\t24 & 4 & 128 & 0.005403 & 4.43497e-5 \\\\\n",
       "\t25 & 4 & 256 & 0.021123 & 0.00209553 \\\\\n",
       "\t26 & 4 & 512 & 0.081782 & 0.00229787 \\\\\n",
       "\t27 & 4 & 1024 & 0.334745 & 0.00338583 \\\\\n",
       "\t28 & 4 & 2048 & 1.31436 & 0.0228526 \\\\\n",
       "\t29 & 4 & 4096 & 5.14313 & 0.228213 \\\\\n",
       "\t30 & 4 & 8192 & 19.9978 & 0.329548 \\\\\n",
       "\t$\\dots$ & $\\dots$ & $\\dots$ & $\\dots$ & $\\dots$ \\\\\n",
       "\\end{tabular}\n"
      ],
      "text/plain": [
       "60×4 DataFrame\n",
       "│ Row │ threads │ size  │ mean_duration │ ci_duration │\n",
       "│     │ \u001b[90mInt64\u001b[39m   │ \u001b[90mInt64\u001b[39m │ \u001b[90mFloat64\u001b[39m       │ \u001b[90mFloat64\u001b[39m     │\n",
       "├─────┼─────────┼───────┼───────────────┼─────────────┤\n",
       "│ 1   │ 1       │ 16    │ 0.000272      │ 5.26653e-5  │\n",
       "│ 2   │ 1       │ 32    │ 0.0005605     │ 0.000184329 │\n",
       "│ 3   │ 1       │ 64    │ 0.0015495     │ 6.92965e-6  │\n",
       "│ 4   │ 1       │ 128   │ 0.0057475     │ 7.8998e-5   │\n",
       "│ 5   │ 1       │ 256   │ 0.0225655     │ 0.000444883 │\n",
       "│ 6   │ 1       │ 512   │ 0.090326      │ 0.000579318 │\n",
       "│ 7   │ 1       │ 1024  │ 0.3626        │ 0.00258476  │\n",
       "│ 8   │ 1       │ 2048  │ 1.43607       │ 0.0367257   │\n",
       "│ 9   │ 1       │ 4096  │ 5.80036       │ 0.0644887   │\n",
       "│ 10  │ 1       │ 8192  │ 23.1462       │ 0.319058    │\n",
       "⋮\n",
       "│ 50  │ 16      │ 8192  │ 21.423        │ 0.638566    │\n",
       "│ 51  │ 32      │ 16    │ 0.001224      │ 0.000249467 │\n",
       "│ 52  │ 32      │ 32    │ 0.0014385     │ 0.000444883 │\n",
       "│ 53  │ 32      │ 64    │ 0.0020205     │ 1.38593e-6  │\n",
       "│ 54  │ 32      │ 128   │ 0.0066405     │ 0.00213849  │\n",
       "│ 55  │ 32      │ 256   │ 0.023109      │ 0.00173241  │\n",
       "│ 56  │ 32      │ 512   │ 0.0876075     │ 0.00263465  │\n",
       "│ 57  │ 32      │ 1024  │ 0.355417      │ 0.0304336   │\n",
       "│ 58  │ 32      │ 2048  │ 1.35426       │ 0.00372399  │\n",
       "│ 59  │ 32      │ 4096  │ 5.49376       │ 0.0942002   │\n",
       "│ 60  │ 32      │ 8192  │ 21.5911       │ 0.745046    │"
      ]
     },
     "execution_count": 40,
     "metadata": {},
     "output_type": "execute_result"
    }
   ],
   "source": [
    "size = [2 ^ x for x in 4:13]\n",
    "f = 0\n",
    "thread = [2 ^ x for x in 0:5]\n",
    "repetitions = 2 #10\n",
    "\n",
    "results = run_experiments(size, f, \"mandelbrot_pth\", repetitions,threads=thread)\n",
    "parsed_results = parse_results(results)"
   ]
  },
  {
   "cell_type": "code",
   "execution_count": 46,
   "metadata": {},
   "outputs": [
    {
     "name": "stdout",
     "output_type": "stream",
     "text": [
      "60×4 DataFrame\n",
      "│ Row │ threads │ size  │ mean_duration │ ci_duration │\n",
      "│     │ \u001b[90mInt64\u001b[39m   │ \u001b[90mInt64\u001b[39m │ \u001b[90mFloat64\u001b[39m       │ \u001b[90mFloat64\u001b[39m     │\n",
      "├─────┼─────────┼───────┼───────────────┼─────────────┤\n",
      "│ 1   │ 1       │ 16    │ 0.000272      │ 5.26653e-5  │\n",
      "│ 2   │ 1       │ 32    │ 0.0005605     │ 0.000184329 │\n",
      "│ 3   │ 1       │ 64    │ 0.0015495     │ 6.92965e-6  │\n",
      "│ 4   │ 1       │ 128   │ 0.0057475     │ 7.8998e-5   │\n",
      "│ 5   │ 1       │ 256   │ 0.0225655     │ 0.000444883 │\n",
      "│ 6   │ 1       │ 512   │ 0.090326      │ 0.000579318 │\n",
      "│ 7   │ 1       │ 1024  │ 0.3626        │ 0.00258476  │\n",
      "│ 8   │ 1       │ 2048  │ 1.43607       │ 0.0367257   │\n",
      "│ 9   │ 1       │ 4096  │ 5.80036       │ 0.0644887   │\n",
      "│ 10  │ 1       │ 8192  │ 23.1462       │ 0.319058    │\n",
      "│ 11  │ 2       │ 16    │ 0.0002385     │ 4.01919e-5  │\n",
      "│ 12  │ 2       │ 32    │ 0.0004835     │ 7.06824e-5  │\n",
      "│ 13  │ 2       │ 64    │ 0.001435      │ 0.000266098 │\n",
      "│ 14  │ 2       │ 128   │ 0.0053605     │ 0.000550214 │\n",
      "│ 15  │ 2       │ 256   │ 0.0215635     │ 0.0011129   │\n",
      "│ 16  │ 2       │ 512   │ 0.0937905     │ 0.0116959   │\n",
      "│ 17  │ 2       │ 1024  │ 0.361778      │ 0.0100397   │\n",
      "│ 18  │ 2       │ 2048  │ 1.34973       │ 0.0694184   │\n",
      "│ 19  │ 2       │ 4096  │ 5.33168       │ 1.25944     │\n",
      "│ 20  │ 2       │ 8192  │ 22.598        │ 0.201258    │\n",
      "│ 21  │ 4       │ 16    │ 0.0006285     │ 0.00081354  │\n",
      "│ 22  │ 4       │ 32    │ 0.0004865     │ 0.000134435 │\n",
      "│ 23  │ 4       │ 64    │ 0.001694      │ 0.000795523 │\n",
      "│ 24  │ 4       │ 128   │ 0.005403      │ 4.43497e-5  │\n",
      "│ 25  │ 4       │ 256   │ 0.021123      │ 0.00209553  │\n",
      "│ 26  │ 4       │ 512   │ 0.081782      │ 0.00229787  │\n",
      "│ 27  │ 4       │ 1024  │ 0.334745      │ 0.00338583  │\n",
      "│ 28  │ 4       │ 2048  │ 1.31436       │ 0.0228526   │\n",
      "│ 29  │ 4       │ 4096  │ 5.14313       │ 0.228213    │\n",
      "│ 30  │ 4       │ 8192  │ 19.9978       │ 0.329548    │\n",
      "│ 31  │ 8       │ 16    │ 0.000434      │ 0.000310448 │\n",
      "│ 32  │ 8       │ 32    │ 0.0004925     │ 1.38593e-6  │\n",
      "│ 33  │ 8       │ 64    │ 0.002583      │ 0.00151066  │\n",
      "│ 34  │ 8       │ 128   │ 0.0060155     │ 0.000622282 │\n",
      "│ 35  │ 8       │ 256   │ 0.022846      │ 0.000970151 │\n",
      "│ 36  │ 8       │ 512   │ 0.086449      │ 0.00115032  │\n",
      "│ 37  │ 8       │ 1024  │ 0.338755      │ 0.0268773   │\n",
      "│ 38  │ 8       │ 2048  │ 1.36018       │ 0.0138801   │\n",
      "│ 39  │ 8       │ 4096  │ 5.48269       │ 0.143829    │\n",
      "│ 40  │ 8       │ 8192  │ 22.0311       │ 0.0560955   │\n",
      "│ 41  │ 16      │ 16    │ 0.000743      │ 0.000232836 │\n",
      "│ 42  │ 16      │ 32    │ 0.0010915     │ 0.00102143  │\n",
      "│ 43  │ 16      │ 64    │ 0.0028255     │ 0.000971536 │\n",
      "│ 44  │ 16      │ 128   │ 0.0088295     │ 2.63327e-5  │\n",
      "│ 45  │ 16      │ 256   │ 0.0214605     │ 0.00156471  │\n",
      "│ 46  │ 16      │ 512   │ 0.089057      │ 0.00343433  │\n",
      "│ 47  │ 16      │ 1024  │ 0.345568      │ 0.0036547   │\n",
      "│ 48  │ 16      │ 2048  │ 1.37805       │ 0.0484937   │\n",
      "│ 49  │ 16      │ 4096  │ 5.49637       │ 0.0997966   │\n",
      "│ 50  │ 16      │ 8192  │ 21.423        │ 0.638566    │\n",
      "│ 51  │ 32      │ 16    │ 0.001224      │ 0.000249467 │\n",
      "│ 52  │ 32      │ 32    │ 0.0014385     │ 0.000444883 │\n",
      "│ 53  │ 32      │ 64    │ 0.0020205     │ 1.38593e-6  │\n",
      "│ 54  │ 32      │ 128   │ 0.0066405     │ 0.00213849  │\n",
      "│ 55  │ 32      │ 256   │ 0.023109      │ 0.00173241  │\n",
      "│ 56  │ 32      │ 512   │ 0.0876075     │ 0.00263465  │\n",
      "│ 57  │ 32      │ 1024  │ 0.355417      │ 0.0304336   │\n",
      "│ 58  │ 32      │ 2048  │ 1.35426       │ 0.00372399  │\n",
      "│ 59  │ 32      │ 4096  │ 5.49376       │ 0.0942002   │\n",
      "│ 60  │ 32      │ 8192  │ 21.5911       │ 0.745046    │"
     ]
    },
    {
     "name": "stderr",
     "output_type": "stream",
     "text": [
      "┌ Warning: `showall(df::AbstractDataFrame, allcols::Bool=true)` is deprecated, use `show(df, allrows=true, allcols=allcols)` instead.\n",
      "│   caller = showall(::DataFrame) at deprecated.jl:66\n",
      "└ @ DataFrames ./deprecated.jl:66\n"
     ]
    }
   ],
   "source": [
    "showall(parsed_results)"
   ]
  },
  {
   "cell_type": "code",
   "execution_count": 19,
   "metadata": {},
   "outputs": [
    {
     "name": "stdout",
     "output_type": "stream",
     "text": [
      "make: 'mandelbrot_seq' is up to date.\n"
     ]
    },
    {
     "ename": "InterruptException",
     "evalue": "InterruptException:",
     "output_type": "error",
     "traceback": [
      "InterruptException:",
      "",
      "Stacktrace:",
      " [1] poptaskref(::Base.InvasiveLinkedListSynchronized{Task}) at ./task.jl:660",
      " [2] wait() at ./task.jl:667",
      " [3] wait(::Base.GenericCondition{Base.Threads.SpinLock}) at ./condition.jl:106",
      " [4] wait_readnb(::Base.PipeEndpoint, ::Int64) at ./stream.jl:355",
      " [5] read(::Base.PipeEndpoint) at ./stream.jl:819",
      " [6] read(::Cmd) at ./process.jl:411",
      " [7] read(::Cmd, ::Type{String}) at ./process.jl:421",
      " [8] #measure_mandelbrot#3(::Int64, ::typeof(measure_mandelbrot), ::Int64, ::Int64, ::String) at ./In[10]:14",
      " [9] measure_mandelbrot at ./In[10]:4 [inlined]",
      " [10] #run_experiments#4(::Array{Any,1}, ::typeof(run_experiments), ::Array{Int64,1}, ::Int64, ::String, ::Int64) at ./In[11]:21",
      " [11] run_experiments(::Array{Int64,1}, ::Int64, ::String, ::Int64) at ./In[11]:2",
      " [12] top-level scope at In[19]:5"
     ]
    }
   ],
   "source": [
    "size = [2 ^ x for x in 4:13]\n",
    "f = 1\n",
    "thread = [2 ^ x for x in 0:5]\n",
    "repetitions = 10\n",
    "\n",
    "results = run_experiments(size, f, \"mandelbrot_pth\", repetitions)\n",
    "parsed_results = parse_results(results)"
   ]
  },
  {
   "cell_type": "code",
   "execution_count": 20,
   "metadata": {},
   "outputs": [
    {
     "name": "stdout",
     "output_type": "stream",
     "text": [
      "cc     mandelbrot_seq.c   -o mandelbrot_seq\n"
     ]
    },
    {
     "ename": "InterruptException",
     "evalue": "InterruptException:",
     "output_type": "error",
     "traceback": [
      "InterruptException:",
      "",
      "Stacktrace:",
      " [1] poptaskref(::Base.InvasiveLinkedListSynchronized{Task}) at ./task.jl:660",
      " [2] wait() at ./task.jl:667",
      " [3] wait(::Base.GenericCondition{Base.Threads.SpinLock}) at ./condition.jl:106",
      " [4] wait_readnb(::Base.PipeEndpoint, ::Int64) at ./stream.jl:355",
      " [5] read(::Base.PipeEndpoint) at ./stream.jl:819",
      " [6] read(::Cmd) at ./process.jl:411",
      " [7] read(::Cmd, ::Type{String}) at ./process.jl:421",
      " [8] #measure_mandelbrot#3(::Int64, ::typeof(measure_mandelbrot), ::Int64, ::Int64, ::String) at ./In[10]:14",
      " [9] measure_mandelbrot at ./In[10]:4 [inlined]",
      " [10] #run_experiments#4(::Array{Any,1}, ::typeof(run_experiments), ::Array{Int64,1}, ::Int64, ::String, ::Int64) at ./In[11]:21",
      " [11] run_experiments(::Array{Int64,1}, ::Int64, ::String, ::Int64) at ./In[11]:2",
      " [12] top-level scope at In[20]:5"
     ]
    }
   ],
   "source": [
    "size = [2 ^ x for x in 4:13]\n",
    "f = 2\n",
    "thread = [2 ^ x for x in 0:5]\n",
    "repetitions = 10\n",
    "\n",
    "results = run_experiments(size, f, \"mandelbrot_pth\", repetitions)\n",
    "parsed_results = parse_results(results)"
   ]
  },
  {
   "cell_type": "code",
   "execution_count": 21,
   "metadata": {},
   "outputs": [
    {
     "name": "stdout",
     "output_type": "stream",
     "text": [
      "make: 'mandelbrot_seq' is up to date.\n"
     ]
    },
    {
     "ename": "InterruptException",
     "evalue": "InterruptException:",
     "output_type": "error",
     "traceback": [
      "InterruptException:",
      "",
      "Stacktrace:",
      " [1] poptaskref(::Base.InvasiveLinkedListSynchronized{Task}) at ./task.jl:660",
      " [2] wait() at ./task.jl:667",
      " [3] wait(::Base.GenericCondition{Base.Threads.SpinLock}) at ./condition.jl:106",
      " [4] wait_readnb(::Base.PipeEndpoint, ::Int64) at ./stream.jl:355",
      " [5] read(::Base.PipeEndpoint) at ./stream.jl:819",
      " [6] read(::Cmd) at ./process.jl:411",
      " [7] read(::Cmd, ::Type{String}) at ./process.jl:421",
      " [8] #measure_mandelbrot#3(::Int64, ::typeof(measure_mandelbrot), ::Int64, ::Int64, ::String) at ./In[10]:14",
      " [9] measure_mandelbrot at ./In[10]:4 [inlined]",
      " [10] #run_experiments#4(::Array{Any,1}, ::typeof(run_experiments), ::Array{Int64,1}, ::Int64, ::String, ::Int64) at ./In[11]:21",
      " [11] run_experiments(::Array{Int64,1}, ::Int64, ::String, ::Int64) at ./In[11]:2",
      " [12] top-level scope at In[21]:5"
     ]
    }
   ],
   "source": [
    "size = [2 ^ x for x in 4:13]\n",
    "f = 3\n",
    "thread = [2 ^ x for x in 0:5]\n",
    "repetitions = 10\n",
    "\n",
    "results = run_experiments(size, f, \"mandelbrot_pth\", repetitions)\n",
    "parsed_results = parse_results(results)"
   ]
  },
  {
   "cell_type": "markdown",
   "metadata": {},
   "source": [
    "## Mandelbrot com OpenMP"
   ]
  },
  {
   "cell_type": "code",
   "execution_count": 50,
   "metadata": {
    "scrolled": false
   },
   "outputs": [
    {
     "name": "stdout",
     "output_type": "stream",
     "text": [
      "make: 'mandelbrot_omp' is up to date.\n"
     ]
    },
    {
     "data": {
      "text/html": [
       "<table class=\"data-frame\"><thead><tr><th></th><th>threads</th><th>size</th><th>mean_duration</th><th>ci_duration</th></tr><tr><th></th><th>Int64</th><th>Int64</th><th>Float64</th><th>Float64</th></tr></thead><tbody><p>60 rows × 4 columns</p><tr><th>1</th><td>1</td><td>16</td><td>0.0001025</td><td>1.38593e-6</td></tr><tr><th>2</th><td>1</td><td>32</td><td>0.000389</td><td>1.66312e-5</td></tr><tr><th>3</th><td>1</td><td>64</td><td>0.001304</td><td>3.8806e-5</td></tr><tr><th>4</th><td>1</td><td>128</td><td>0.0056425</td><td>0.00123486</td></tr><tr><th>5</th><td>1</td><td>256</td><td>0.0206665</td><td>0.000996483</td></tr><tr><th>6</th><td>1</td><td>512</td><td>0.0831135</td><td>0.0025515</td></tr><tr><th>7</th><td>1</td><td>1024</td><td>0.340048</td><td>0.034985</td></tr><tr><th>8</th><td>1</td><td>2048</td><td>1.32242</td><td>0.0734099</td></tr><tr><th>9</th><td>1</td><td>4096</td><td>5.23439</td><td>0.0594979</td></tr><tr><th>10</th><td>1</td><td>8192</td><td>20.7143</td><td>0.0037129</td></tr><tr><th>11</th><td>2</td><td>16</td><td>0.000136</td><td>3.32623e-5</td></tr><tr><th>12</th><td>2</td><td>32</td><td>0.00027</td><td>5.26653e-5</td></tr><tr><th>13</th><td>2</td><td>64</td><td>0.001109</td><td>1.38593e-5</td></tr><tr><th>14</th><td>2</td><td>128</td><td>0.0028365</td><td>0.000345096</td></tr><tr><th>15</th><td>2</td><td>256</td><td>0.0110815</td><td>0.00107687</td></tr><tr><th>16</th><td>2</td><td>512</td><td>0.0424075</td><td>0.000763647</td></tr><tr><th>17</th><td>2</td><td>1024</td><td>0.168581</td><td>0.00422431</td></tr><tr><th>18</th><td>2</td><td>2048</td><td>0.665006</td><td>0.0203538</td></tr><tr><th>19</th><td>2</td><td>4096</td><td>2.63955</td><td>0.0186463</td></tr><tr><th>20</th><td>2</td><td>8192</td><td>9.15785</td><td>0.323944</td></tr><tr><th>21</th><td>4</td><td>16</td><td>0.0001845</td><td>4.85075e-5</td></tr><tr><th>22</th><td>4</td><td>32</td><td>0.0003495</td><td>8.45417e-5</td></tr><tr><th>23</th><td>4</td><td>64</td><td>0.0009825</td><td>0.00054467</td></tr><tr><th>24</th><td>4</td><td>128</td><td>0.0031675</td><td>3.46482e-5</td></tr><tr><th>25</th><td>4</td><td>256</td><td>0.0104315</td><td>0.00113508</td></tr><tr><th>26</th><td>4</td><td>512</td><td>0.0415475</td><td>0.00209968</td></tr><tr><th>27</th><td>4</td><td>1024</td><td>0.158229</td><td>0.0071015</td></tr><tr><th>28</th><td>4</td><td>2048</td><td>0.351268</td><td>0.130825</td></tr><tr><th>29</th><td>4</td><td>4096</td><td>2.15248</td><td>1.11832</td></tr><tr><th>30</th><td>4</td><td>8192</td><td>9.88205</td><td>0.00633093</td></tr><tr><th>&vellip;</th><td>&vellip;</td><td>&vellip;</td><td>&vellip;</td><td>&vellip;</td></tr></tbody></table>"
      ],
      "text/latex": [
       "\\begin{tabular}{r|cccc}\n",
       "\t& threads & size & mean\\_duration & ci\\_duration\\\\\n",
       "\t\\hline\n",
       "\t& Int64 & Int64 & Float64 & Float64\\\\\n",
       "\t\\hline\n",
       "\t1 & 1 & 16 & 0.0001025 & 1.38593e-6 \\\\\n",
       "\t2 & 1 & 32 & 0.000389 & 1.66312e-5 \\\\\n",
       "\t3 & 1 & 64 & 0.001304 & 3.8806e-5 \\\\\n",
       "\t4 & 1 & 128 & 0.0056425 & 0.00123486 \\\\\n",
       "\t5 & 1 & 256 & 0.0206665 & 0.000996483 \\\\\n",
       "\t6 & 1 & 512 & 0.0831135 & 0.0025515 \\\\\n",
       "\t7 & 1 & 1024 & 0.340048 & 0.034985 \\\\\n",
       "\t8 & 1 & 2048 & 1.32242 & 0.0734099 \\\\\n",
       "\t9 & 1 & 4096 & 5.23439 & 0.0594979 \\\\\n",
       "\t10 & 1 & 8192 & 20.7143 & 0.0037129 \\\\\n",
       "\t11 & 2 & 16 & 0.000136 & 3.32623e-5 \\\\\n",
       "\t12 & 2 & 32 & 0.00027 & 5.26653e-5 \\\\\n",
       "\t13 & 2 & 64 & 0.001109 & 1.38593e-5 \\\\\n",
       "\t14 & 2 & 128 & 0.0028365 & 0.000345096 \\\\\n",
       "\t15 & 2 & 256 & 0.0110815 & 0.00107687 \\\\\n",
       "\t16 & 2 & 512 & 0.0424075 & 0.000763647 \\\\\n",
       "\t17 & 2 & 1024 & 0.168581 & 0.00422431 \\\\\n",
       "\t18 & 2 & 2048 & 0.665006 & 0.0203538 \\\\\n",
       "\t19 & 2 & 4096 & 2.63955 & 0.0186463 \\\\\n",
       "\t20 & 2 & 8192 & 9.15785 & 0.323944 \\\\\n",
       "\t21 & 4 & 16 & 0.0001845 & 4.85075e-5 \\\\\n",
       "\t22 & 4 & 32 & 0.0003495 & 8.45417e-5 \\\\\n",
       "\t23 & 4 & 64 & 0.0009825 & 0.00054467 \\\\\n",
       "\t24 & 4 & 128 & 0.0031675 & 3.46482e-5 \\\\\n",
       "\t25 & 4 & 256 & 0.0104315 & 0.00113508 \\\\\n",
       "\t26 & 4 & 512 & 0.0415475 & 0.00209968 \\\\\n",
       "\t27 & 4 & 1024 & 0.158229 & 0.0071015 \\\\\n",
       "\t28 & 4 & 2048 & 0.351268 & 0.130825 \\\\\n",
       "\t29 & 4 & 4096 & 2.15248 & 1.11832 \\\\\n",
       "\t30 & 4 & 8192 & 9.88205 & 0.00633093 \\\\\n",
       "\t$\\dots$ & $\\dots$ & $\\dots$ & $\\dots$ & $\\dots$ \\\\\n",
       "\\end{tabular}\n"
      ],
      "text/plain": [
       "60×4 DataFrame\n",
       "│ Row │ threads │ size  │ mean_duration │ ci_duration │\n",
       "│     │ \u001b[90mInt64\u001b[39m   │ \u001b[90mInt64\u001b[39m │ \u001b[90mFloat64\u001b[39m       │ \u001b[90mFloat64\u001b[39m     │\n",
       "├─────┼─────────┼───────┼───────────────┼─────────────┤\n",
       "│ 1   │ 1       │ 16    │ 0.0001025     │ 1.38593e-6  │\n",
       "│ 2   │ 1       │ 32    │ 0.000389      │ 1.66312e-5  │\n",
       "│ 3   │ 1       │ 64    │ 0.001304      │ 3.8806e-5   │\n",
       "│ 4   │ 1       │ 128   │ 0.0056425     │ 0.00123486  │\n",
       "│ 5   │ 1       │ 256   │ 0.0206665     │ 0.000996483 │\n",
       "│ 6   │ 1       │ 512   │ 0.0831135     │ 0.0025515   │\n",
       "│ 7   │ 1       │ 1024  │ 0.340048      │ 0.034985    │\n",
       "│ 8   │ 1       │ 2048  │ 1.32242       │ 0.0734099   │\n",
       "│ 9   │ 1       │ 4096  │ 5.23439       │ 0.0594979   │\n",
       "│ 10  │ 1       │ 8192  │ 20.7143       │ 0.0037129   │\n",
       "⋮\n",
       "│ 50  │ 16      │ 8192  │ 5.55016       │ 0.0400076   │\n",
       "│ 51  │ 32      │ 16    │ 0.000931      │ 9.70151e-5  │\n",
       "│ 52  │ 32      │ 32    │ 0.0011155     │ 4.85075e-5  │\n",
       "│ 53  │ 32      │ 64    │ 0.0030535     │ 0.00500459  │\n",
       "│ 54  │ 32      │ 128   │ 0.0032515     │ 0.000952133 │\n",
       "│ 55  │ 32      │ 256   │ 0.0075485     │ 0.000907784 │\n",
       "│ 56  │ 32      │ 512   │ 0.0193635     │ 0.000924415 │\n",
       "│ 57  │ 32      │ 1024  │ 0.0724395     │ 0.00132911  │\n",
       "│ 58  │ 32      │ 2048  │ 0.300659      │ 0.0217064   │\n",
       "│ 59  │ 32      │ 4096  │ 1.12409       │ 0.024955    │\n",
       "│ 60  │ 32      │ 8192  │ 4.57768       │ 0.0854675   │"
      ]
     },
     "execution_count": 50,
     "metadata": {},
     "output_type": "execute_result"
    }
   ],
   "source": [
    "size = [2 ^ x for x in 4:13]\n",
    "f = 0\n",
    "thread = [2 ^ x for x in 0:5]\n",
    "repetitions = 2\n",
    "\n",
    "results = run_experiments(size, f, \"mandelbrot_omp\", repetitions,threads=thread)\n",
    "parsed_results = parse_results(results)"
   ]
  },
  {
   "cell_type": "code",
   "execution_count": 51,
   "metadata": {},
   "outputs": [
    {
     "name": "stdout",
     "output_type": "stream",
     "text": [
      "60×4 DataFrame\n",
      "│ Row │ threads │ size  │ mean_duration │ ci_duration │\n",
      "│     │ \u001b[90mInt64\u001b[39m   │ \u001b[90mInt64\u001b[39m │ \u001b[90mFloat64\u001b[39m       │ \u001b[90mFloat64\u001b[39m     │\n",
      "├─────┼─────────┼───────┼───────────────┼─────────────┤\n",
      "│ 1   │ 1       │ 16    │ 0.0001025     │ 1.38593e-6  │\n",
      "│ 2   │ 1       │ 32    │ 0.000389      │ 1.66312e-5  │\n",
      "│ 3   │ 1       │ 64    │ 0.001304      │ 3.8806e-5   │\n",
      "│ 4   │ 1       │ 128   │ 0.0056425     │ 0.00123486  │\n",
      "│ 5   │ 1       │ 256   │ 0.0206665     │ 0.000996483 │\n",
      "│ 6   │ 1       │ 512   │ 0.0831135     │ 0.0025515   │\n",
      "│ 7   │ 1       │ 1024  │ 0.340048      │ 0.034985    │\n",
      "│ 8   │ 1       │ 2048  │ 1.32242       │ 0.0734099   │\n",
      "│ 9   │ 1       │ 4096  │ 5.23439       │ 0.0594979   │\n",
      "│ 10  │ 1       │ 8192  │ 20.7143       │ 0.0037129   │\n",
      "│ 11  │ 2       │ 16    │ 0.000136      │ 3.32623e-5  │\n",
      "│ 12  │ 2       │ 32    │ 0.00027       │ 5.26653e-5  │\n",
      "│ 13  │ 2       │ 64    │ 0.001109      │ 1.38593e-5  │\n",
      "│ 14  │ 2       │ 128   │ 0.0028365     │ 0.000345096 │\n",
      "│ 15  │ 2       │ 256   │ 0.0110815     │ 0.00107687  │\n",
      "│ 16  │ 2       │ 512   │ 0.0424075     │ 0.000763647 │\n",
      "│ 17  │ 2       │ 1024  │ 0.168581      │ 0.00422431  │\n",
      "│ 18  │ 2       │ 2048  │ 0.665006      │ 0.0203538   │\n",
      "│ 19  │ 2       │ 4096  │ 2.63955       │ 0.0186463   │\n",
      "│ 20  │ 2       │ 8192  │ 9.15785       │ 0.323944    │\n",
      "│ 21  │ 4       │ 16    │ 0.0001845     │ 4.85075e-5  │\n",
      "│ 22  │ 4       │ 32    │ 0.0003495     │ 8.45417e-5  │\n",
      "│ 23  │ 4       │ 64    │ 0.0009825     │ 0.00054467  │\n",
      "│ 24  │ 4       │ 128   │ 0.0031675     │ 3.46482e-5  │\n",
      "│ 25  │ 4       │ 256   │ 0.0104315     │ 0.00113508  │\n",
      "│ 26  │ 4       │ 512   │ 0.0415475     │ 0.00209968  │\n",
      "│ 27  │ 4       │ 1024  │ 0.158229      │ 0.0071015   │\n",
      "│ 28  │ 4       │ 2048  │ 0.351268      │ 0.130825    │\n",
      "│ 29  │ 4       │ 4096  │ 2.15248       │ 1.11832     │\n",
      "│ 30  │ 4       │ 8192  │ 9.88205       │ 0.00633093  │\n",
      "│ 31  │ 8       │ 16    │ 0.0085015     │ 0.0079095   │\n",
      "│ 32  │ 8       │ 32    │ 0.006696      │ 0.0148766   │\n",
      "│ 33  │ 8       │ 64    │ 0.0066625     │ 0.0133562   │\n",
      "│ 34  │ 8       │ 128   │ 0.007427      │ 0.00812432  │\n",
      "│ 35  │ 8       │ 256   │ 0.028903      │ 0.025102    │\n",
      "│ 36  │ 8       │ 512   │ 0.0486035     │ 0.00981099  │\n",
      "│ 37  │ 8       │ 1024  │ 0.147115      │ 0.000733157 │\n",
      "│ 38  │ 8       │ 2048  │ 0.529787      │ 0.0010838   │\n",
      "│ 39  │ 8       │ 4096  │ 2.06799       │ 0.0566665   │\n",
      "│ 40  │ 8       │ 8192  │ 8.17732       │ 0.363101    │\n",
      "│ 41  │ 16      │ 16    │ 0.0005985     │ 7.06824e-5  │\n",
      "│ 42  │ 16      │ 32    │ 0.000727      │ 2.49467e-5  │\n",
      "│ 43  │ 16      │ 64    │ 0.0015425     │ 0.00172271  │\n",
      "│ 44  │ 16      │ 128   │ 0.002469      │ 0.000260555 │\n",
      "│ 45  │ 16      │ 256   │ 0.006133      │ 0.000332623 │\n",
      "│ 46  │ 16      │ 512   │ 0.022724      │ 0.0028273   │\n",
      "│ 47  │ 16      │ 1024  │ 0.092974      │ 0.00581536  │\n",
      "│ 48  │ 16      │ 2048  │ 0.401042      │ 0.0528815   │\n",
      "│ 49  │ 16      │ 4096  │ 1.44958       │ 0.00907506  │\n",
      "│ 50  │ 16      │ 8192  │ 5.55016       │ 0.0400076   │\n",
      "│ 51  │ 32      │ 16    │ 0.000931      │ 9.70151e-5  │\n",
      "│ 52  │ 32      │ 32    │ 0.0011155     │ 4.85075e-5  │\n",
      "│ 53  │ 32      │ 64    │ 0.0030535     │ 0.00500459  │\n",
      "│ 54  │ 32      │ 128   │ 0.0032515     │ 0.000952133 │\n",
      "│ 55  │ 32      │ 256   │ 0.0075485     │ 0.000907784 │\n",
      "│ 56  │ 32      │ 512   │ 0.0193635     │ 0.000924415 │\n",
      "│ 57  │ 32      │ 1024  │ 0.0724395     │ 0.00132911  │\n",
      "│ 58  │ 32      │ 2048  │ 0.300659      │ 0.0217064   │\n",
      "│ 59  │ 32      │ 4096  │ 1.12409       │ 0.024955    │\n",
      "│ 60  │ 32      │ 8192  │ 4.57768       │ 0.0854675   │"
     ]
    }
   ],
   "source": [
    "showall(parsed_results)"
   ]
  },
  {
   "cell_type": "code",
   "execution_count": 23,
   "metadata": {
    "scrolled": true
   },
   "outputs": [
    {
     "name": "stdout",
     "output_type": "stream",
     "text": [
      "make: 'mandelbrot_seq' is up to date.\n"
     ]
    },
    {
     "ename": "InterruptException",
     "evalue": "InterruptException:",
     "output_type": "error",
     "traceback": [
      "InterruptException:",
      "",
      "Stacktrace:",
      " [1] poptaskref(::Base.InvasiveLinkedListSynchronized{Task}) at ./task.jl:660",
      " [2] wait() at ./task.jl:667",
      " [3] wait(::Base.GenericCondition{Base.Threads.SpinLock}) at ./condition.jl:106",
      " [4] wait_readnb(::Base.PipeEndpoint, ::Int64) at ./stream.jl:355",
      " [5] read(::Base.PipeEndpoint) at ./stream.jl:819",
      " [6] read(::Cmd) at ./process.jl:411",
      " [7] read(::Cmd, ::Type{String}) at ./process.jl:421",
      " [8] #measure_mandelbrot#3(::Int64, ::typeof(measure_mandelbrot), ::Int64, ::Int64, ::String) at ./In[10]:14",
      " [9] measure_mandelbrot at ./In[10]:4 [inlined]",
      " [10] #run_experiments#4(::Array{Any,1}, ::typeof(run_experiments), ::Array{Int64,1}, ::Int64, ::String, ::Int64) at ./In[11]:21",
      " [11] run_experiments(::Array{Int64,1}, ::Int64, ::String, ::Int64) at ./In[11]:2",
      " [12] top-level scope at In[23]:5"
     ]
    }
   ],
   "source": [
    "size = [2 ^ x for x in 4:13]\n",
    "f = 1\n",
    "thread = [2 ^ x for x in 0:5]\n",
    "repetitions = 10\n",
    "\n",
    "results = run_experiments(size, f, \"mandelbrot_omp\", repetitions)\n",
    "parsed_results = parse_results(results)"
   ]
  },
  {
   "cell_type": "code",
   "execution_count": 24,
   "metadata": {},
   "outputs": [
    {
     "name": "stdout",
     "output_type": "stream",
     "text": [
      "make: 'mandelbrot_seq' is up to date.\n"
     ]
    },
    {
     "ename": "InterruptException",
     "evalue": "InterruptException:",
     "output_type": "error",
     "traceback": [
      "InterruptException:",
      "",
      "Stacktrace:",
      " [1] poptaskref(::Base.InvasiveLinkedListSynchronized{Task}) at ./task.jl:660",
      " [2] wait() at ./task.jl:667",
      " [3] wait(::Base.GenericCondition{Base.Threads.SpinLock}) at ./condition.jl:106",
      " [4] wait_readnb(::Base.PipeEndpoint, ::Int64) at ./stream.jl:355",
      " [5] read(::Base.PipeEndpoint) at ./stream.jl:819",
      " [6] read(::Cmd) at ./process.jl:411",
      " [7] read(::Cmd, ::Type{String}) at ./process.jl:421",
      " [8] #measure_mandelbrot#3(::Int64, ::typeof(measure_mandelbrot), ::Int64, ::Int64, ::String) at ./In[10]:14",
      " [9] measure_mandelbrot at ./In[10]:4 [inlined]",
      " [10] #run_experiments#4(::Array{Any,1}, ::typeof(run_experiments), ::Array{Int64,1}, ::Int64, ::String, ::Int64) at ./In[11]:21",
      " [11] run_experiments(::Array{Int64,1}, ::Int64, ::String, ::Int64) at ./In[11]:2",
      " [12] top-level scope at In[24]:5"
     ]
    }
   ],
   "source": [
    "size = [2 ^ x for x in 4:13]\n",
    "f = 2\n",
    "thread = [2 ^ x for x in 0:5]\n",
    "repetitions = 10\n",
    "\n",
    "results = run_experiments(size, f, \"mandelbrot_omp\", repetitions)\n",
    "parsed_results = parse_results(results)"
   ]
  },
  {
   "cell_type": "code",
   "execution_count": 25,
   "metadata": {},
   "outputs": [
    {
     "name": "stdout",
     "output_type": "stream",
     "text": [
      "make: 'mandelbrot_seq' is up to date.\n"
     ]
    },
    {
     "ename": "InterruptException",
     "evalue": "InterruptException:",
     "output_type": "error",
     "traceback": [
      "InterruptException:",
      "",
      "Stacktrace:",
      " [1] poptaskref(::Base.InvasiveLinkedListSynchronized{Task}) at ./task.jl:660",
      " [2] wait() at ./task.jl:667",
      " [3] wait(::Base.GenericCondition{Base.Threads.SpinLock}) at ./condition.jl:106",
      " [4] wait_readnb(::Base.PipeEndpoint, ::Int64) at ./stream.jl:355",
      " [5] read(::Base.PipeEndpoint) at ./stream.jl:819",
      " [6] read(::Cmd) at ./process.jl:411",
      " [7] read(::Cmd, ::Type{String}) at ./process.jl:421",
      " [8] #measure_mandelbrot#3(::Int64, ::typeof(measure_mandelbrot), ::Int64, ::Int64, ::String) at ./In[10]:14",
      " [9] measure_mandelbrot at ./In[10]:4 [inlined]",
      " [10] #run_experiments#4(::Array{Any,1}, ::typeof(run_experiments), ::Array{Int64,1}, ::Int64, ::String, ::Int64) at ./In[11]:21",
      " [11] run_experiments(::Array{Int64,1}, ::Int64, ::String, ::Int64) at ./In[11]:2",
      " [12] top-level scope at In[25]:5"
     ]
    }
   ],
   "source": [
    "size = [2 ^ x for x in 4:13]\n",
    "f = 3\n",
    "thread = [2 ^ x for x in 0:5]\n",
    "repetitions = 10\n",
    "\n",
    "results = run_experiments(size, f, \"mandelbrot_omp\", repetitions)\n",
    "parsed_results = parse_results(results)"
   ]
  }
 ],
 "metadata": {
  "kernelspec": {
   "display_name": "Julia 1.3.1",
   "language": "julia",
   "name": "julia-1.3"
  },
  "language_info": {
   "file_extension": ".jl",
   "mimetype": "application/julia",
   "name": "julia",
   "version": "1.3.1"
  }
 },
 "nbformat": 4,
 "nbformat_minor": 4
}
