{
 "cells": [
  {
   "cell_type": "markdown",
   "metadata": {},
   "source": [
    "# EP1 - Conjunto de Maldelbrot e paralelização com pThreads e OpenMP\n",
    "\n",
    "| Nome | NUSP |\n",
    "|------|------|\n",
    "| Giulia C. de Nardi | 10692203 |\n",
    "| Vitor D. Tamae | 10705620 |\n",
    "| Lucy Anne de Omena Evangelista | 11221776 |\n",
    "| Leonardo Costa Santos | 10783142 |\n",
    "| Alexandre Muller Jones | 8038149 |\n"
   ]
  },
  {
   "cell_type": "markdown",
   "metadata": {},
   "source": [
    "INFORMAÇÔES SOBRE O DESENVOLVIMENTO DO RELATÓRIO:\n",
    "\n",
    "- **A função run_experiments pode ser implementada a fim de fazer os 4 tipos de figuras se necessário.**\n",
    "\n",
    "- **Não implementei isso pois não sei como será a plotagem dos gráficos. Se facilitar o processo de plotagem, implementamos essa parte.**\n",
    "\n",
    "- **De forma geral, conseguimos realizar os experimentos das funções mandelbrot_seq, mandelbrot_omp e mandelbrot_pth contanto que haja na saída das funções a duração da execução, e como entrada da função o número de threads.**\n",
    "\n",
    "- **Para o caso dos mandelbrot paralelizados, podemos ter dois tempos como saída: o considerando o tempo de alocação de memória e I/O, e o tempo não considerando esses fatores. Ainda não implementado para a realização das funções, mas de fácil ajuste nas funções feitas neste notebook.**\n",
    "\n",
    "- **Ainda falta implementar as função de plotagem dos pontos.**\n",
    "\n",
    "- **Para as sessões de Mandelbrot com PThreads e com OpenMP falta mudar o nome das funções. Por hora elas estão dando problema porque não há saída alguma das funções.**"
   ]
  },
  {
   "cell_type": "markdown",
   "metadata": {},
   "source": [
    "## Configuração do ambiente\n",
    "\n",
    "Atualizando os pacotes Julia"
   ]
  },
  {
   "cell_type": "code",
   "execution_count": 9,
   "metadata": {},
   "outputs": [
    {
     "name": "stdout",
     "output_type": "stream",
     "text": [
      "\u001b[32m\u001b[1m  Updating\u001b[22m\u001b[39m registry at `~/.julia/registries/General`\n",
      "\u001b[32m\u001b[1m  Updating\u001b[22m\u001b[39m git-repo `https://github.com/JuliaRegistries/General.git`\n",
      "\u001b[?25l\u001b[2K\u001b[?25h\u001b[32m\u001b[1m Resolving\u001b[22m\u001b[39m package versions...\n",
      "\u001b[32m\u001b[1m  Updating\u001b[22m\u001b[39m `~/.julia/environments/v1.3/Project.toml`\n",
      "\u001b[90m [no changes]\u001b[39m\n",
      "\u001b[32m\u001b[1m  Updating\u001b[22m\u001b[39m `~/.julia/environments/v1.3/Manifest.toml`\n",
      "\u001b[90m [no changes]\u001b[39m\n"
     ]
    }
   ],
   "source": [
    "] up"
   ]
  },
  {
   "cell_type": "markdown",
   "metadata": {},
   "source": [
    "Verificando o status dos pacotes, e se há algum problema, com o comando:"
   ]
  },
  {
   "cell_type": "code",
   "execution_count": 10,
   "metadata": {},
   "outputs": [
    {
     "name": "stdout",
     "output_type": "stream",
     "text": [
      "\u001b[32m\u001b[1m    Status\u001b[22m\u001b[39m `~/.julia/environments/v1.3/Project.toml`\n",
      " \u001b[90m [336ed68f]\u001b[39m\u001b[37m CSV v0.6.2\u001b[39m\n",
      " \u001b[90m [a93c6f00]\u001b[39m\u001b[37m DataFrames v0.21.0\u001b[39m\n",
      " \u001b[90m [31c24e10]\u001b[39m\u001b[37m Distributions v0.23.2\u001b[39m\n",
      " \u001b[90m [7073ff75]\u001b[39m\u001b[37m IJulia v1.21.2\u001b[39m\n",
      " \u001b[90m [b964fa9f]\u001b[39m\u001b[37m LaTeXStrings v1.1.0\u001b[39m\n",
      " \u001b[90m [8314cec4]\u001b[39m\u001b[37m PGFPlotsX v1.2.6\u001b[39m\n",
      " \u001b[90m [1a8c2f83]\u001b[39m\u001b[37m Query v0.12.2\u001b[39m\n",
      " \u001b[90m [f3b207a7]\u001b[39m\u001b[37m StatsPlots v0.14.6\u001b[39m\n"
     ]
    }
   ],
   "source": [
    "] st"
   ]
  },
  {
   "cell_type": "markdown",
   "metadata": {},
   "source": [
    "## Funções para realização dos experimentos"
   ]
  },
  {
   "cell_type": "code",
   "execution_count": 7,
   "metadata": {},
   "outputs": [
    {
     "name": "stdout",
     "output_type": "stream",
     "text": [
      "make: 'mandelbrot_seq' is up to date.\n"
     ]
    }
   ],
   "source": [
    "; make mandelbrot_seq"
   ]
  },
  {
   "cell_type": "code",
   "execution_count": 8,
   "metadata": {
    "scrolled": false
   },
   "outputs": [
    {
     "name": "stdout",
     "output_type": "stream",
     "text": [
      "usage: ./mandelbrot_seq c_x_min c_x_max c_y_min c_y_max image_size\n",
      "examples with image_size = 11500:\n",
      "    Full Picture:         ./mandelbrot_seq -2.5 1.5 -2.0 2.0 11500\n",
      "    Seahorse Valley:      ./mandelbrot_seq -0.8 -0.7 0.05 0.15 11500\n",
      "    Elephant Valley:      ./mandelbrot_seq 0.175 0.375 -0.1 0.1 11500\n",
      "    Triple Spiral Valley: ./mandelbrot_seq -0.188 -0.012 0.554 0.754 11500\n"
     ]
    }
   ],
   "source": [
    "; ./mandelbrot_seq"
   ]
  },
  {
   "cell_type": "code",
   "execution_count": 9,
   "metadata": {},
   "outputs": [
    {
     "name": "stdout",
     "output_type": "stream",
     "text": [
      "3.000000"
     ]
    }
   ],
   "source": [
    "; ./mandelbrot_seq 0.175 0.375 -0.1 0.1 200 0"
   ]
  },
  {
   "cell_type": "markdown",
   "metadata": {},
   "source": [
    "A função abaixo recebe parâmetros `size`, com o tamanho da imagem, `f`, com a id do tupo de fractal a ser feito (0 - Full, 2 - Triple Spiral, 3 - Elephant, 4 - Seahorse), `mandel`, com o nome da função a ser executada (`./mandelbrot_seq`, `./mandelbrot_opm`, `./mandelbrot_pth`),e `threads`, com o número de threads do programa paralelo. A função executa o programa `mandelbrot` com os parâmetros dados e devolve um `DataFrame` com os resultados.\n",
    "\n",
    "**#precisamos colocar a duração do programa como uma saida da funcao pra conseguir fazer as estimativas.**\n",
    "\n",
    "**#também precisamos colocar a quantidade de threads como uma entrada do programa que usa #openMP e pthreads**\n",
    "\n",
    "**#tudo feito daqui pra baixo leva em conta que a duração do programa é uma das saídas**"
   ]
  },
  {
   "cell_type": "code",
   "execution_count": 11,
   "metadata": {},
   "outputs": [
    {
     "data": {
      "text/plain": [
       "measure_mandelbrot (generic function with 1 method)"
      ]
     },
     "execution_count": 11,
     "metadata": {},
     "output_type": "execute_result"
    }
   ],
   "source": [
    "using DataFrames, Query, StatsPlots, Statistics\n",
    "\n",
    "function measure_mandelbrot(size, f, mandel; thread = 0)    \n",
    "    if f == 0  mode = `-2.5 1.5 -2.0 2.0`\n",
    "    elseif f == 1  mode = `-0.188 -0.012 0.554 0.754`\n",
    "    elseif f == 2  mode = `0.175 0.375 -0.1 0.1`\n",
    "    elseif f == 3  mode = `-0.8 -0.7 0.05 0.15`\n",
    "    end\n",
    "    \n",
    "    if thread != 0 \n",
    "    results = parse.(Float64,\n",
    "        read(`./$mandel $mode $size $thread`, String))\n",
    "    else\n",
    "    results = parse.(Float64,\n",
    "        read(`./$mandel $mode $size`, String))\n",
    "    end\n",
    "        \n",
    "    return DataFrame(size = size,\n",
    "        f = f,\n",
    "        threads = thread,\n",
    "        duration = results[1])\n",
    "end"
   ]
  },
  {
   "cell_type": "markdown",
   "metadata": {},
   "source": [
    "A função `run_experiments` recebe os mesmos parâmetros `size`, `f`,`mandel` e `threads`, e um parâmetro adicional `repetitions`, com o número de repetições de cada experimento com um dado número de `threads`. A função devolve um `DataFrame` com todos os experimentos."
   ]
  },
  {
   "cell_type": "code",
   "execution_count": 12,
   "metadata": {},
   "outputs": [
    {
     "data": {
      "text/plain": [
       "run_experiments (generic function with 1 method)"
      ]
     },
     "execution_count": 12,
     "metadata": {},
     "output_type": "execute_result"
    }
   ],
   "source": [
    "function run_experiments(size, f, mandel, repetitions; threads = [])\n",
    "    run(`make $mandel`)\n",
    "    \n",
    "    results = DataFrame(size = Int[],\n",
    "        f = Int[],\n",
    "        threads = Int[],\n",
    "        duration = Float64[]) \n",
    "    \n",
    "    if threads != []\n",
    "    for t in threads\n",
    "        for s in size\n",
    "        for r in 1:repetitions\n",
    "            append!(results,\n",
    "                measure_mandelbrot(s, f, mandel, thread = t))    \n",
    "        end\n",
    "        end\n",
    "    end\n",
    "    else\n",
    "        for r in 1:repetitions\n",
    "        for s in size\n",
    "            append!(results,\n",
    "                measure_mandelbrot(s, f, mandel))    \n",
    "        end\n",
    "        end\n",
    "    end \n",
    "    \n",
    "    return results\n",
    "end"
   ]
  },
  {
   "cell_type": "markdown",
   "metadata": {},
   "source": [
    "A função `parse_results` recebe um `DataFrame` de resultados, produzido pela função `run_experiments`. A função devolve um `DataFrame` com a média e o intervalo de confiança da média a 95% dos tempos de execução, agrupados por número de threads."
   ]
  },
  {
   "cell_type": "code",
   "execution_count": 13,
   "metadata": {},
   "outputs": [
    {
     "data": {
      "text/plain": [
       "parse_results (generic function with 1 method)"
      ]
     },
     "execution_count": 13,
     "metadata": {},
     "output_type": "execute_result"
    }
   ],
   "source": [
    "function parse_results(results)\n",
    "    parsed_results = results |>\n",
    "                    @groupby({_.threads,_.size}) |>\n",
    "                    @map({threads = key(_).threads,\n",
    "                          size = _.size[1],\n",
    "                          mean_duration = mean(_.duration),\n",
    "                          ci_duration = 1.96 * std(_.duration)}) |>\n",
    "                    DataFrame\n",
    "    \n",
    "    return parsed_results\n",
    "end"
   ]
  },
  {
   "cell_type": "markdown",
   "metadata": {},
   "source": [
    "## Funções para traçar gráficos"
   ]
  },
  {
   "cell_type": "code",
   "execution_count": 13,
   "metadata": {},
   "outputs": [],
   "source": [
    "# espaço para funções\n",
    "pgfplotsx()\n",
    "\n",
    "function plot_results(x, y, target_label, series_label; hline = [], yerror = [], max_thread_power = 10)      \n",
    "    if yerror != []\n",
    "        p = scatter(x,\n",
    "            y,\n",
    "            xaxis = :log2,\n",
    "            xlabel = \"Threads\",\n",
    "            xticks = [2 ^ x for x in 0:max_thread_power],\n",
    "            yerror = yerror,\n",
    "            alpha = 0.6,\n",
    "            labels = series_label,\n",
    "            legend = :topright)\n",
    "    else\n",
    "        p = scatter(x,\n",
    "            y,\n",
    "            xaxis = :log2,\n",
    "            xlabel = \"Threads\",\n",
    "            xticks = [2 ^ x for x in 0:max_thread_power],\n",
    "            alpha = 0.6,\n",
    "            labels = series_label,\n",
    "            legend = :topright)\n",
    "    end\n",
    "    \n",
    "    if hline != []\n",
    "        plot!(x,\n",
    "            hline,\n",
    "            xaxis = :log2,\n",
    "            xlabel = \"Threads\",\n",
    "            xticks = [2 ^ x for x in 0:max_thread_power],\n",
    "            labels = target_label,                             \n",
    "            line = :dash,                    \n",
    "            width = 2.0)\n",
    "    end\n",
    "    \n",
    "    return p\n",
    "end"
   ]
  },
  {
   "cell_type": "markdown",
   "metadata": {},
   "source": [
    "## Mandelbrot sequencial"
   ]
  },
  {
   "cell_type": "markdown",
   "metadata": {},
   "source": [
    "Nesta parte, traremos a execução do maldelbrot em sua versão sequencial, junto com a análise de tempo de execução para os diferentes tipo de fractais Triple Spiral, Elephant, Seahorse & Full) e em diferentes resoluções ($ 2^4 \\cdots 2^{13}$)"
   ]
  },
  {
   "cell_type": "markdown",
   "metadata": {},
   "source": [
    "Realizando as medições para o mandelbrot sequencial:"
   ]
  },
  {
   "cell_type": "code",
   "execution_count": 27,
   "metadata": {},
   "outputs": [
    {
     "name": "stdout",
     "output_type": "stream",
     "text": [
      "make: 'mandelbrot_seq' is up to date.\n"
     ]
    },
    {
     "data": {
      "text/html": [
       "<table class=\"data-frame\"><thead><tr><th></th><th>threads</th><th>size</th><th>mean_duration</th><th>ci_duration</th></tr><tr><th></th><th>Int64</th><th>Int64</th><th>Float64</th><th>Float64</th></tr></thead><tbody><p>10 rows × 4 columns</p><tr><th>1</th><td>0</td><td>16</td><td>9.86e-5</td><td>2.53406e-5</td></tr><tr><th>2</th><td>0</td><td>32</td><td>0.0003643</td><td>0.000107671</td></tr><tr><th>3</th><td>0</td><td>64</td><td>0.0014031</td><td>0.000243907</td></tr><tr><th>4</th><td>0</td><td>128</td><td>0.0053381</td><td>0.000569749</td></tr><tr><th>5</th><td>0</td><td>256</td><td>0.0217418</td><td>0.00271726</td></tr><tr><th>6</th><td>0</td><td>512</td><td>0.085418</td><td>0.00603048</td></tr><tr><th>7</th><td>0</td><td>1024</td><td>0.34246</td><td>0.0197193</td></tr><tr><th>8</th><td>0</td><td>2048</td><td>1.35316</td><td>0.0428006</td></tr><tr><th>9</th><td>0</td><td>4096</td><td>5.36975</td><td>0.113206</td></tr><tr><th>10</th><td>0</td><td>8192</td><td>21.4231</td><td>0.592496</td></tr></tbody></table>"
      ],
      "text/latex": [
       "\\begin{tabular}{r|cccc}\n",
       "\t& threads & size & mean\\_duration & ci\\_duration\\\\\n",
       "\t\\hline\n",
       "\t& Int64 & Int64 & Float64 & Float64\\\\\n",
       "\t\\hline\n",
       "\t1 & 0 & 16 & 9.86e-5 & 2.53406e-5 \\\\\n",
       "\t2 & 0 & 32 & 0.0003643 & 0.000107671 \\\\\n",
       "\t3 & 0 & 64 & 0.0014031 & 0.000243907 \\\\\n",
       "\t4 & 0 & 128 & 0.0053381 & 0.000569749 \\\\\n",
       "\t5 & 0 & 256 & 0.0217418 & 0.00271726 \\\\\n",
       "\t6 & 0 & 512 & 0.085418 & 0.00603048 \\\\\n",
       "\t7 & 0 & 1024 & 0.34246 & 0.0197193 \\\\\n",
       "\t8 & 0 & 2048 & 1.35316 & 0.0428006 \\\\\n",
       "\t9 & 0 & 4096 & 5.36975 & 0.113206 \\\\\n",
       "\t10 & 0 & 8192 & 21.4231 & 0.592496 \\\\\n",
       "\\end{tabular}\n"
      ],
      "text/plain": [
       "10×4 DataFrame\n",
       "│ Row │ threads │ size  │ mean_duration │ ci_duration │\n",
       "│     │ \u001b[90mInt64\u001b[39m   │ \u001b[90mInt64\u001b[39m │ \u001b[90mFloat64\u001b[39m       │ \u001b[90mFloat64\u001b[39m     │\n",
       "├─────┼─────────┼───────┼───────────────┼─────────────┤\n",
       "│ 1   │ 0       │ 16    │ 9.86e-5       │ 2.53406e-5  │\n",
       "│ 2   │ 0       │ 32    │ 0.0003643     │ 0.000107671 │\n",
       "│ 3   │ 0       │ 64    │ 0.0014031     │ 0.000243907 │\n",
       "│ 4   │ 0       │ 128   │ 0.0053381     │ 0.000569749 │\n",
       "│ 5   │ 0       │ 256   │ 0.0217418     │ 0.00271726  │\n",
       "│ 6   │ 0       │ 512   │ 0.085418      │ 0.00603048  │\n",
       "│ 7   │ 0       │ 1024  │ 0.34246       │ 0.0197193   │\n",
       "│ 8   │ 0       │ 2048  │ 1.35316       │ 0.0428006   │\n",
       "│ 9   │ 0       │ 4096  │ 5.36975       │ 0.113206    │\n",
       "│ 10  │ 0       │ 8192  │ 21.4231       │ 0.592496    │"
      ]
     },
     "execution_count": 27,
     "metadata": {},
     "output_type": "execute_result"
    }
   ],
   "source": [
    "size = [2 ^ x for x in 4:13]\n",
    "f = 0\n",
    "thread = [2 ^ x for x in 0:5]\n",
    "repetitions = 10\n",
    "\n",
    "results = run_experiments(size, f, \"mandelbrot_seq\", repetitions)\n",
    "parsed_results = parse_results(results)"
   ]
  },
  {
   "cell_type": "markdown",
   "metadata": {},
   "source": [
    "## Mandelbrot com pthreads"
   ]
  },
  {
   "cell_type": "code",
   "execution_count": 14,
   "metadata": {
    "scrolled": false
   },
   "outputs": [
    {
     "name": "stdout",
     "output_type": "stream",
     "text": [
      "gcc -pthread -o mandelbrot_pth mandelbrot_pth.c\n"
     ]
    },
    {
     "data": {
      "text/html": [
       "<table class=\"data-frame\"><thead><tr><th></th><th>threads</th><th>size</th><th>mean_duration</th><th>ci_duration</th></tr><tr><th></th><th>Int64</th><th>Int64</th><th>Float64</th><th>Float64</th></tr></thead><tbody><p>60 rows × 4 columns</p><tr><th>1</th><td>1</td><td>16</td><td>0.0001665</td><td>5.12794e-5</td></tr><tr><th>2</th><td>1</td><td>32</td><td>0.0003705</td><td>5.68231e-5</td></tr><tr><th>3</th><td>1</td><td>64</td><td>0.0010355</td><td>1.24734e-5</td></tr><tr><th>4</th><td>1</td><td>128</td><td>0.003606</td><td>0.000263327</td></tr><tr><th>5</th><td>1</td><td>256</td><td>0.0133325</td><td>0.00243508</td></tr><tr><th>6</th><td>1</td><td>512</td><td>0.053438</td><td>0.00283284</td></tr><tr><th>7</th><td>1</td><td>1024</td><td>0.194417</td><td>0.0216011</td></tr><tr><th>8</th><td>1</td><td>2048</td><td>0.787831</td><td>0.0739255</td></tr><tr><th>9</th><td>1</td><td>4096</td><td>2.98737</td><td>0.0888921</td></tr><tr><th>10</th><td>1</td><td>8192</td><td>12.0428</td><td>0.563325</td></tr><tr><th>11</th><td>2</td><td>16</td><td>0.000163</td><td>4.43497e-5</td></tr><tr><th>12</th><td>2</td><td>32</td><td>0.000292</td><td>2.77186e-6</td></tr><tr><th>13</th><td>2</td><td>64</td><td>0.0010195</td><td>6.51387e-5</td></tr><tr><th>14</th><td>2</td><td>128</td><td>0.003557</td><td>0.000917485</td></tr><tr><th>15</th><td>2</td><td>256</td><td>0.0156545</td><td>0.000539126</td></tr><tr><th>16</th><td>2</td><td>512</td><td>0.054245</td><td>0.00220363</td></tr><tr><th>17</th><td>2</td><td>1024</td><td>0.194852</td><td>0.0069144</td></tr><tr><th>18</th><td>2</td><td>2048</td><td>0.889194</td><td>0.0421877</td></tr><tr><th>19</th><td>2</td><td>4096</td><td>3.4699</td><td>0.449589</td></tr><tr><th>20</th><td>2</td><td>8192</td><td>13.0961</td><td>1.51777</td></tr><tr><th>21</th><td>4</td><td>16</td><td>0.0001665</td><td>1.80171e-5</td></tr><tr><th>22</th><td>4</td><td>32</td><td>0.0002335</td><td>2.63327e-5</td></tr><tr><th>23</th><td>4</td><td>64</td><td>0.000844</td><td>6.09809e-5</td></tr><tr><th>24</th><td>4</td><td>128</td><td>0.003223</td><td>1.38593e-5</td></tr><tr><th>25</th><td>4</td><td>256</td><td>0.012224</td><td>0.00169083</td></tr><tr><th>26</th><td>4</td><td>512</td><td>0.048632</td><td>0.000557144</td></tr><tr><th>27</th><td>4</td><td>1024</td><td>0.211931</td><td>0.00393188</td></tr><tr><th>28</th><td>4</td><td>2048</td><td>0.867014</td><td>0.0364818</td></tr><tr><th>29</th><td>4</td><td>4096</td><td>3.60432</td><td>0.0527734</td></tr><tr><th>30</th><td>4</td><td>8192</td><td>13.6576</td><td>0.864311</td></tr><tr><th>&vellip;</th><td>&vellip;</td><td>&vellip;</td><td>&vellip;</td><td>&vellip;</td></tr></tbody></table>"
      ],
      "text/latex": [
       "\\begin{tabular}{r|cccc}\n",
       "\t& threads & size & mean\\_duration & ci\\_duration\\\\\n",
       "\t\\hline\n",
       "\t& Int64 & Int64 & Float64 & Float64\\\\\n",
       "\t\\hline\n",
       "\t1 & 1 & 16 & 0.0001665 & 5.12794e-5 \\\\\n",
       "\t2 & 1 & 32 & 0.0003705 & 5.68231e-5 \\\\\n",
       "\t3 & 1 & 64 & 0.0010355 & 1.24734e-5 \\\\\n",
       "\t4 & 1 & 128 & 0.003606 & 0.000263327 \\\\\n",
       "\t5 & 1 & 256 & 0.0133325 & 0.00243508 \\\\\n",
       "\t6 & 1 & 512 & 0.053438 & 0.00283284 \\\\\n",
       "\t7 & 1 & 1024 & 0.194417 & 0.0216011 \\\\\n",
       "\t8 & 1 & 2048 & 0.787831 & 0.0739255 \\\\\n",
       "\t9 & 1 & 4096 & 2.98737 & 0.0888921 \\\\\n",
       "\t10 & 1 & 8192 & 12.0428 & 0.563325 \\\\\n",
       "\t11 & 2 & 16 & 0.000163 & 4.43497e-5 \\\\\n",
       "\t12 & 2 & 32 & 0.000292 & 2.77186e-6 \\\\\n",
       "\t13 & 2 & 64 & 0.0010195 & 6.51387e-5 \\\\\n",
       "\t14 & 2 & 128 & 0.003557 & 0.000917485 \\\\\n",
       "\t15 & 2 & 256 & 0.0156545 & 0.000539126 \\\\\n",
       "\t16 & 2 & 512 & 0.054245 & 0.00220363 \\\\\n",
       "\t17 & 2 & 1024 & 0.194852 & 0.0069144 \\\\\n",
       "\t18 & 2 & 2048 & 0.889194 & 0.0421877 \\\\\n",
       "\t19 & 2 & 4096 & 3.4699 & 0.449589 \\\\\n",
       "\t20 & 2 & 8192 & 13.0961 & 1.51777 \\\\\n",
       "\t21 & 4 & 16 & 0.0001665 & 1.80171e-5 \\\\\n",
       "\t22 & 4 & 32 & 0.0002335 & 2.63327e-5 \\\\\n",
       "\t23 & 4 & 64 & 0.000844 & 6.09809e-5 \\\\\n",
       "\t24 & 4 & 128 & 0.003223 & 1.38593e-5 \\\\\n",
       "\t25 & 4 & 256 & 0.012224 & 0.00169083 \\\\\n",
       "\t26 & 4 & 512 & 0.048632 & 0.000557144 \\\\\n",
       "\t27 & 4 & 1024 & 0.211931 & 0.00393188 \\\\\n",
       "\t28 & 4 & 2048 & 0.867014 & 0.0364818 \\\\\n",
       "\t29 & 4 & 4096 & 3.60432 & 0.0527734 \\\\\n",
       "\t30 & 4 & 8192 & 13.6576 & 0.864311 \\\\\n",
       "\t$\\dots$ & $\\dots$ & $\\dots$ & $\\dots$ & $\\dots$ \\\\\n",
       "\\end{tabular}\n"
      ],
      "text/plain": [
       "60×4 DataFrame\n",
       "│ Row │ threads │ size  │ mean_duration │ ci_duration │\n",
       "│     │ \u001b[90mInt64\u001b[39m   │ \u001b[90mInt64\u001b[39m │ \u001b[90mFloat64\u001b[39m       │ \u001b[90mFloat64\u001b[39m     │\n",
       "├─────┼─────────┼───────┼───────────────┼─────────────┤\n",
       "│ 1   │ 1       │ 16    │ 0.0001665     │ 5.12794e-5  │\n",
       "│ 2   │ 1       │ 32    │ 0.0003705     │ 5.68231e-5  │\n",
       "│ 3   │ 1       │ 64    │ 0.0010355     │ 1.24734e-5  │\n",
       "│ 4   │ 1       │ 128   │ 0.003606      │ 0.000263327 │\n",
       "│ 5   │ 1       │ 256   │ 0.0133325     │ 0.00243508  │\n",
       "│ 6   │ 1       │ 512   │ 0.053438      │ 0.00283284  │\n",
       "│ 7   │ 1       │ 1024  │ 0.194417      │ 0.0216011   │\n",
       "│ 8   │ 1       │ 2048  │ 0.787831      │ 0.0739255   │\n",
       "│ 9   │ 1       │ 4096  │ 2.98737       │ 0.0888921   │\n",
       "│ 10  │ 1       │ 8192  │ 12.0428       │ 0.563325    │\n",
       "⋮\n",
       "│ 50  │ 16      │ 8192  │ 15.6081       │ 0.377481    │\n",
       "│ 51  │ 32      │ 16    │ 0.0006105     │ 1.24734e-5  │\n",
       "│ 52  │ 32      │ 32    │ 0.0016425     │ 0.000106717 │\n",
       "│ 53  │ 32      │ 64    │ 0.002497      │ 0.000135821 │\n",
       "│ 54  │ 32      │ 128   │ 0.007856      │ 0.000559915 │\n",
       "│ 55  │ 32      │ 256   │ 0.01733       │ 0.00537186  │\n",
       "│ 56  │ 32      │ 512   │ 0.060075      │ 0.000473988 │\n",
       "│ 57  │ 32      │ 1024  │ 0.239081      │ 0.00871334  │\n",
       "│ 58  │ 32      │ 2048  │ 0.959874      │ 0.0116501   │\n",
       "│ 59  │ 32      │ 4096  │ 3.89729       │ 0.0700282   │\n",
       "│ 60  │ 32      │ 8192  │ 15.7628       │ 0.849885    │"
      ]
     },
     "execution_count": 14,
     "metadata": {},
     "output_type": "execute_result"
    }
   ],
   "source": [
    "size = [2 ^ x for x in 4:13]\n",
    "f = 0\n",
    "thread = [2 ^ x for x in 0:5]\n",
    "repetitions = 2 #10\n",
    "\n",
    "results = run_experiments(size, f, \"mandelbrot_pth\", repetitions,threads=thread)\n",
    "parsed_results = parse_results(results)"
   ]
  },
  {
   "cell_type": "code",
   "execution_count": 20,
   "metadata": {},
   "outputs": [
    {
     "name": "stdout",
     "output_type": "stream",
     "text": [
      "60×4 DataFrame\n",
      "│ Row │ threads │ size  │ mean_duration │ ci_duration │\n",
      "│     │ \u001b[90mInt64\u001b[39m   │ \u001b[90mInt64\u001b[39m │ \u001b[90mFloat64\u001b[39m       │ \u001b[90mFloat64\u001b[39m     │\n",
      "├─────┼─────────┼───────┼───────────────┼─────────────┤\n",
      "│ 1   │ 1       │ 16    │ 0.0001665     │ 5.12794e-5  │\n",
      "│ 2   │ 1       │ 32    │ 0.0003705     │ 5.68231e-5  │\n",
      "│ 3   │ 1       │ 64    │ 0.0010355     │ 1.24734e-5  │\n",
      "│ 4   │ 1       │ 128   │ 0.003606      │ 0.000263327 │\n",
      "│ 5   │ 1       │ 256   │ 0.0133325     │ 0.00243508  │\n",
      "│ 6   │ 1       │ 512   │ 0.053438      │ 0.00283284  │\n",
      "│ 7   │ 1       │ 1024  │ 0.194417      │ 0.0216011   │\n",
      "│ 8   │ 1       │ 2048  │ 0.787831      │ 0.0739255   │\n",
      "│ 9   │ 1       │ 4096  │ 2.98737       │ 0.0888921   │\n",
      "│ 10  │ 1       │ 8192  │ 12.0428       │ 0.563325    │\n",
      "│ 11  │ 2       │ 16    │ 0.000163      │ 4.43497e-5  │\n",
      "│ 12  │ 2       │ 32    │ 0.000292      │ 2.77186e-6  │\n",
      "│ 13  │ 2       │ 64    │ 0.0010195     │ 6.51387e-5  │\n",
      "│ 14  │ 2       │ 128   │ 0.003557      │ 0.000917485 │\n",
      "│ 15  │ 2       │ 256   │ 0.0156545     │ 0.000539126 │\n",
      "│ 16  │ 2       │ 512   │ 0.054245      │ 0.00220363  │\n",
      "│ 17  │ 2       │ 1024  │ 0.194852      │ 0.0069144   │\n",
      "│ 18  │ 2       │ 2048  │ 0.889194      │ 0.0421877   │\n",
      "│ 19  │ 2       │ 4096  │ 3.4699        │ 0.449589    │\n",
      "│ 20  │ 2       │ 8192  │ 13.0961       │ 1.51777     │\n",
      "│ 21  │ 4       │ 16    │ 0.0001665     │ 1.80171e-5  │\n",
      "│ 22  │ 4       │ 32    │ 0.0002335     │ 2.63327e-5  │\n",
      "│ 23  │ 4       │ 64    │ 0.000844      │ 6.09809e-5  │\n",
      "│ 24  │ 4       │ 128   │ 0.003223      │ 1.38593e-5  │\n",
      "│ 25  │ 4       │ 256   │ 0.012224      │ 0.00169083  │\n",
      "│ 26  │ 4       │ 512   │ 0.048632      │ 0.000557144 │\n",
      "│ 27  │ 4       │ 1024  │ 0.211931      │ 0.00393188  │\n",
      "│ 28  │ 4       │ 2048  │ 0.867014      │ 0.0364818   │\n",
      "│ 29  │ 4       │ 4096  │ 3.60432       │ 0.0527734   │\n",
      "│ 30  │ 4       │ 8192  │ 13.6576       │ 0.864311    │\n",
      "│ 31  │ 8       │ 16    │ 0.000363      │ 0.000291045 │\n",
      "│ 32  │ 8       │ 32    │ 0.000329      │ 0.000171855 │\n",
      "│ 33  │ 8       │ 64    │ 0.0008495     │ 2.63327e-5  │\n",
      "│ 34  │ 8       │ 128   │ 0.0034885     │ 0.000583476 │\n",
      "│ 35  │ 8       │ 256   │ 0.0140905     │ 0.000968765 │\n",
      "│ 36  │ 8       │ 512   │ 0.0593535     │ 0.00446408  │\n",
      "│ 37  │ 8       │ 1024  │ 0.242518      │ 0.00182943  │\n",
      "│ 38  │ 8       │ 2048  │ 0.945334      │ 0.0357029   │\n",
      "│ 39  │ 8       │ 4096  │ 3.87423       │ 0.109249    │\n",
      "│ 40  │ 8       │ 8192  │ 15.7867       │ 0.664506    │\n",
      "│ 41  │ 16      │ 16    │ 0.0004765     │ 3.18764e-5  │\n",
      "│ 42  │ 16      │ 32    │ 0.000365      │ 8.03839e-5  │\n",
      "│ 43  │ 16      │ 64    │ 0.000954      │ 0.000135821 │\n",
      "│ 44  │ 16      │ 128   │ 0.0036465     │ 0.000788594 │\n",
      "│ 45  │ 16      │ 256   │ 0.0158475     │ 0.00270395  │\n",
      "│ 46  │ 16      │ 512   │ 0.0622475     │ 0.00821995  │\n",
      "│ 47  │ 16      │ 1024  │ 0.247984      │ 0.00303241  │\n",
      "│ 48  │ 16      │ 2048  │ 0.978051      │ 0.0202179   │\n",
      "│ 49  │ 16      │ 4096  │ 3.9559        │ 0.165783    │\n",
      "│ 50  │ 16      │ 8192  │ 15.6081       │ 0.377481    │\n",
      "│ 51  │ 32      │ 16    │ 0.0006105     │ 1.24734e-5  │\n",
      "│ 52  │ 32      │ 32    │ 0.0016425     │ 0.000106717 │\n",
      "│ 53  │ 32      │ 64    │ 0.002497      │ 0.000135821 │\n",
      "│ 54  │ 32      │ 128   │ 0.007856      │ 0.000559915 │\n",
      "│ 55  │ 32      │ 256   │ 0.01733       │ 0.00537186  │\n",
      "│ 56  │ 32      │ 512   │ 0.060075      │ 0.000473988 │\n",
      "│ 57  │ 32      │ 1024  │ 0.239081      │ 0.00871334  │\n",
      "│ 58  │ 32      │ 2048  │ 0.959874      │ 0.0116501   │\n",
      "│ 59  │ 32      │ 4096  │ 3.89729       │ 0.0700282   │\n",
      "│ 60  │ 32      │ 8192  │ 15.7628       │ 0.849885    │"
     ]
    }
   ],
   "source": [
    "show(parsed_results, allcols = true, allrows = true)"
   ]
  },
  {
   "cell_type": "code",
   "execution_count": 27,
   "metadata": {},
   "outputs": [],
   "source": [
    "df = DataFrame(a = repeat([1, 2, 3, 4], outer=[2]),\n",
    "                      b = repeat([2, 1], outer=[4]),\n",
    "                      c = 1:8);"
   ]
  },
  {
   "cell_type": "code",
   "execution_count": 28,
   "metadata": {
    "scrolled": true
   },
   "outputs": [
    {
     "data": {
      "text/html": [
       "<table class=\"data-frame\"><thead><tr><th></th><th>a</th><th>b</th><th>c</th></tr><tr><th></th><th>Int64</th><th>Int64</th><th>Int64</th></tr></thead><tbody><p>8 rows × 3 columns</p><tr><th>1</th><td>1</td><td>2</td><td>1</td></tr><tr><th>2</th><td>2</td><td>1</td><td>2</td></tr><tr><th>3</th><td>3</td><td>2</td><td>3</td></tr><tr><th>4</th><td>4</td><td>1</td><td>4</td></tr><tr><th>5</th><td>1</td><td>2</td><td>5</td></tr><tr><th>6</th><td>2</td><td>1</td><td>6</td></tr><tr><th>7</th><td>3</td><td>2</td><td>7</td></tr><tr><th>8</th><td>4</td><td>1</td><td>8</td></tr></tbody></table>"
      ],
      "text/latex": [
       "\\begin{tabular}{r|ccc}\n",
       "\t& a & b & c\\\\\n",
       "\t\\hline\n",
       "\t& Int64 & Int64 & Int64\\\\\n",
       "\t\\hline\n",
       "\t1 & 1 & 2 & 1 \\\\\n",
       "\t2 & 2 & 1 & 2 \\\\\n",
       "\t3 & 3 & 2 & 3 \\\\\n",
       "\t4 & 4 & 1 & 4 \\\\\n",
       "\t5 & 1 & 2 & 5 \\\\\n",
       "\t6 & 2 & 1 & 6 \\\\\n",
       "\t7 & 3 & 2 & 7 \\\\\n",
       "\t8 & 4 & 1 & 8 \\\\\n",
       "\\end{tabular}\n"
      ],
      "text/plain": [
       "8×3 DataFrame\n",
       "│ Row │ a     │ b     │ c     │\n",
       "│     │ \u001b[90mInt64\u001b[39m │ \u001b[90mInt64\u001b[39m │ \u001b[90mInt64\u001b[39m │\n",
       "├─────┼───────┼───────┼───────┤\n",
       "│ 1   │ 1     │ 2     │ 1     │\n",
       "│ 2   │ 2     │ 1     │ 2     │\n",
       "│ 3   │ 3     │ 2     │ 3     │\n",
       "│ 4   │ 4     │ 1     │ 4     │\n",
       "│ 5   │ 1     │ 2     │ 5     │\n",
       "│ 6   │ 2     │ 1     │ 6     │\n",
       "│ 7   │ 3     │ 2     │ 7     │\n",
       "│ 8   │ 4     │ 1     │ 8     │"
      ]
     },
     "execution_count": 28,
     "metadata": {},
     "output_type": "execute_result"
    }
   ],
   "source": [
    "df"
   ]
  },
  {
   "cell_type": "code",
   "execution_count": 29,
   "metadata": {},
   "outputs": [
    {
     "name": "stderr",
     "output_type": "stream",
     "text": [
      "┌ Warning: `by(d::AbstractDataFrame, cols::Any, f::Pair; sort::Bool=false, skipmissing::Bool=false)` is deprecated, use `combine(groupby(d, cols, sort=sort, skipmissing=skipmissing), f)` instead.\n",
      "│   caller = top-level scope at In[29]:1\n",
      "└ @ Core In[29]:1\n"
     ]
    },
    {
     "data": {
      "text/html": [
       "<table class=\"data-frame\"><thead><tr><th></th><th>a</th><th>c_sum</th></tr><tr><th></th><th>Int64</th><th>Int64</th></tr></thead><tbody><p>4 rows × 2 columns</p><tr><th>1</th><td>1</td><td>6</td></tr><tr><th>2</th><td>2</td><td>8</td></tr><tr><th>3</th><td>3</td><td>10</td></tr><tr><th>4</th><td>4</td><td>12</td></tr></tbody></table>"
      ],
      "text/latex": [
       "\\begin{tabular}{r|cc}\n",
       "\t& a & c\\_sum\\\\\n",
       "\t\\hline\n",
       "\t& Int64 & Int64\\\\\n",
       "\t\\hline\n",
       "\t1 & 1 & 6 \\\\\n",
       "\t2 & 2 & 8 \\\\\n",
       "\t3 & 3 & 10 \\\\\n",
       "\t4 & 4 & 12 \\\\\n",
       "\\end{tabular}\n"
      ],
      "text/plain": [
       "4×2 DataFrame\n",
       "│ Row │ a     │ c_sum │\n",
       "│     │ \u001b[90mInt64\u001b[39m │ \u001b[90mInt64\u001b[39m │\n",
       "├─────┼───────┼───────┤\n",
       "│ 1   │ 1     │ 6     │\n",
       "│ 2   │ 2     │ 8     │\n",
       "│ 3   │ 3     │ 10    │\n",
       "│ 4   │ 4     │ 12    │"
      ]
     },
     "execution_count": 29,
     "metadata": {},
     "output_type": "execute_result"
    }
   ],
   "source": [
    "by(df, :a, :c => sum)"
   ]
  },
  {
   "cell_type": "markdown",
   "metadata": {},
   "source": [
    "## Mandelbrot com OpenMP"
   ]
  },
  {
   "cell_type": "code",
   "execution_count": 50,
   "metadata": {
    "scrolled": false
   },
   "outputs": [
    {
     "name": "stdout",
     "output_type": "stream",
     "text": [
      "make: 'mandelbrot_omp' is up to date.\n"
     ]
    },
    {
     "data": {
      "text/html": [
       "<table class=\"data-frame\"><thead><tr><th></th><th>threads</th><th>size</th><th>mean_duration</th><th>ci_duration</th></tr><tr><th></th><th>Int64</th><th>Int64</th><th>Float64</th><th>Float64</th></tr></thead><tbody><p>60 rows × 4 columns</p><tr><th>1</th><td>1</td><td>16</td><td>0.0001025</td><td>1.38593e-6</td></tr><tr><th>2</th><td>1</td><td>32</td><td>0.000389</td><td>1.66312e-5</td></tr><tr><th>3</th><td>1</td><td>64</td><td>0.001304</td><td>3.8806e-5</td></tr><tr><th>4</th><td>1</td><td>128</td><td>0.0056425</td><td>0.00123486</td></tr><tr><th>5</th><td>1</td><td>256</td><td>0.0206665</td><td>0.000996483</td></tr><tr><th>6</th><td>1</td><td>512</td><td>0.0831135</td><td>0.0025515</td></tr><tr><th>7</th><td>1</td><td>1024</td><td>0.340048</td><td>0.034985</td></tr><tr><th>8</th><td>1</td><td>2048</td><td>1.32242</td><td>0.0734099</td></tr><tr><th>9</th><td>1</td><td>4096</td><td>5.23439</td><td>0.0594979</td></tr><tr><th>10</th><td>1</td><td>8192</td><td>20.7143</td><td>0.0037129</td></tr><tr><th>11</th><td>2</td><td>16</td><td>0.000136</td><td>3.32623e-5</td></tr><tr><th>12</th><td>2</td><td>32</td><td>0.00027</td><td>5.26653e-5</td></tr><tr><th>13</th><td>2</td><td>64</td><td>0.001109</td><td>1.38593e-5</td></tr><tr><th>14</th><td>2</td><td>128</td><td>0.0028365</td><td>0.000345096</td></tr><tr><th>15</th><td>2</td><td>256</td><td>0.0110815</td><td>0.00107687</td></tr><tr><th>16</th><td>2</td><td>512</td><td>0.0424075</td><td>0.000763647</td></tr><tr><th>17</th><td>2</td><td>1024</td><td>0.168581</td><td>0.00422431</td></tr><tr><th>18</th><td>2</td><td>2048</td><td>0.665006</td><td>0.0203538</td></tr><tr><th>19</th><td>2</td><td>4096</td><td>2.63955</td><td>0.0186463</td></tr><tr><th>20</th><td>2</td><td>8192</td><td>9.15785</td><td>0.323944</td></tr><tr><th>21</th><td>4</td><td>16</td><td>0.0001845</td><td>4.85075e-5</td></tr><tr><th>22</th><td>4</td><td>32</td><td>0.0003495</td><td>8.45417e-5</td></tr><tr><th>23</th><td>4</td><td>64</td><td>0.0009825</td><td>0.00054467</td></tr><tr><th>24</th><td>4</td><td>128</td><td>0.0031675</td><td>3.46482e-5</td></tr><tr><th>25</th><td>4</td><td>256</td><td>0.0104315</td><td>0.00113508</td></tr><tr><th>26</th><td>4</td><td>512</td><td>0.0415475</td><td>0.00209968</td></tr><tr><th>27</th><td>4</td><td>1024</td><td>0.158229</td><td>0.0071015</td></tr><tr><th>28</th><td>4</td><td>2048</td><td>0.351268</td><td>0.130825</td></tr><tr><th>29</th><td>4</td><td>4096</td><td>2.15248</td><td>1.11832</td></tr><tr><th>30</th><td>4</td><td>8192</td><td>9.88205</td><td>0.00633093</td></tr><tr><th>&vellip;</th><td>&vellip;</td><td>&vellip;</td><td>&vellip;</td><td>&vellip;</td></tr></tbody></table>"
      ],
      "text/latex": [
       "\\begin{tabular}{r|cccc}\n",
       "\t& threads & size & mean\\_duration & ci\\_duration\\\\\n",
       "\t\\hline\n",
       "\t& Int64 & Int64 & Float64 & Float64\\\\\n",
       "\t\\hline\n",
       "\t1 & 1 & 16 & 0.0001025 & 1.38593e-6 \\\\\n",
       "\t2 & 1 & 32 & 0.000389 & 1.66312e-5 \\\\\n",
       "\t3 & 1 & 64 & 0.001304 & 3.8806e-5 \\\\\n",
       "\t4 & 1 & 128 & 0.0056425 & 0.00123486 \\\\\n",
       "\t5 & 1 & 256 & 0.0206665 & 0.000996483 \\\\\n",
       "\t6 & 1 & 512 & 0.0831135 & 0.0025515 \\\\\n",
       "\t7 & 1 & 1024 & 0.340048 & 0.034985 \\\\\n",
       "\t8 & 1 & 2048 & 1.32242 & 0.0734099 \\\\\n",
       "\t9 & 1 & 4096 & 5.23439 & 0.0594979 \\\\\n",
       "\t10 & 1 & 8192 & 20.7143 & 0.0037129 \\\\\n",
       "\t11 & 2 & 16 & 0.000136 & 3.32623e-5 \\\\\n",
       "\t12 & 2 & 32 & 0.00027 & 5.26653e-5 \\\\\n",
       "\t13 & 2 & 64 & 0.001109 & 1.38593e-5 \\\\\n",
       "\t14 & 2 & 128 & 0.0028365 & 0.000345096 \\\\\n",
       "\t15 & 2 & 256 & 0.0110815 & 0.00107687 \\\\\n",
       "\t16 & 2 & 512 & 0.0424075 & 0.000763647 \\\\\n",
       "\t17 & 2 & 1024 & 0.168581 & 0.00422431 \\\\\n",
       "\t18 & 2 & 2048 & 0.665006 & 0.0203538 \\\\\n",
       "\t19 & 2 & 4096 & 2.63955 & 0.0186463 \\\\\n",
       "\t20 & 2 & 8192 & 9.15785 & 0.323944 \\\\\n",
       "\t21 & 4 & 16 & 0.0001845 & 4.85075e-5 \\\\\n",
       "\t22 & 4 & 32 & 0.0003495 & 8.45417e-5 \\\\\n",
       "\t23 & 4 & 64 & 0.0009825 & 0.00054467 \\\\\n",
       "\t24 & 4 & 128 & 0.0031675 & 3.46482e-5 \\\\\n",
       "\t25 & 4 & 256 & 0.0104315 & 0.00113508 \\\\\n",
       "\t26 & 4 & 512 & 0.0415475 & 0.00209968 \\\\\n",
       "\t27 & 4 & 1024 & 0.158229 & 0.0071015 \\\\\n",
       "\t28 & 4 & 2048 & 0.351268 & 0.130825 \\\\\n",
       "\t29 & 4 & 4096 & 2.15248 & 1.11832 \\\\\n",
       "\t30 & 4 & 8192 & 9.88205 & 0.00633093 \\\\\n",
       "\t$\\dots$ & $\\dots$ & $\\dots$ & $\\dots$ & $\\dots$ \\\\\n",
       "\\end{tabular}\n"
      ],
      "text/plain": [
       "60×4 DataFrame\n",
       "│ Row │ threads │ size  │ mean_duration │ ci_duration │\n",
       "│     │ \u001b[90mInt64\u001b[39m   │ \u001b[90mInt64\u001b[39m │ \u001b[90mFloat64\u001b[39m       │ \u001b[90mFloat64\u001b[39m     │\n",
       "├─────┼─────────┼───────┼───────────────┼─────────────┤\n",
       "│ 1   │ 1       │ 16    │ 0.0001025     │ 1.38593e-6  │\n",
       "│ 2   │ 1       │ 32    │ 0.000389      │ 1.66312e-5  │\n",
       "│ 3   │ 1       │ 64    │ 0.001304      │ 3.8806e-5   │\n",
       "│ 4   │ 1       │ 128   │ 0.0056425     │ 0.00123486  │\n",
       "│ 5   │ 1       │ 256   │ 0.0206665     │ 0.000996483 │\n",
       "│ 6   │ 1       │ 512   │ 0.0831135     │ 0.0025515   │\n",
       "│ 7   │ 1       │ 1024  │ 0.340048      │ 0.034985    │\n",
       "│ 8   │ 1       │ 2048  │ 1.32242       │ 0.0734099   │\n",
       "│ 9   │ 1       │ 4096  │ 5.23439       │ 0.0594979   │\n",
       "│ 10  │ 1       │ 8192  │ 20.7143       │ 0.0037129   │\n",
       "⋮\n",
       "│ 50  │ 16      │ 8192  │ 5.55016       │ 0.0400076   │\n",
       "│ 51  │ 32      │ 16    │ 0.000931      │ 9.70151e-5  │\n",
       "│ 52  │ 32      │ 32    │ 0.0011155     │ 4.85075e-5  │\n",
       "│ 53  │ 32      │ 64    │ 0.0030535     │ 0.00500459  │\n",
       "│ 54  │ 32      │ 128   │ 0.0032515     │ 0.000952133 │\n",
       "│ 55  │ 32      │ 256   │ 0.0075485     │ 0.000907784 │\n",
       "│ 56  │ 32      │ 512   │ 0.0193635     │ 0.000924415 │\n",
       "│ 57  │ 32      │ 1024  │ 0.0724395     │ 0.00132911  │\n",
       "│ 58  │ 32      │ 2048  │ 0.300659      │ 0.0217064   │\n",
       "│ 59  │ 32      │ 4096  │ 1.12409       │ 0.024955    │\n",
       "│ 60  │ 32      │ 8192  │ 4.57768       │ 0.0854675   │"
      ]
     },
     "execution_count": 50,
     "metadata": {},
     "output_type": "execute_result"
    }
   ],
   "source": [
    "size = [2 ^ x for x in 4:13]\n",
    "f = 0\n",
    "thread = [2 ^ x for x in 0:5]\n",
    "repetitions = 2\n",
    "\n",
    "results = run_experiments(size, f, \"mandelbrot_omp\", repetitions,threads=thread)\n",
    "parsed_results = parse_results(results)"
   ]
  },
  {
   "cell_type": "markdown",
   "metadata": {},
   "source": [
    "## Gráficos comparativos"
   ]
  },
  {
   "cell_type": "markdown",
   "metadata": {},
   "source": [
    "Realizaremos os gráficos a partir de partições do dataframe, como mostrados abaixo:"
   ]
  },
  {
   "cell_type": "code",
   "execution_count": 35,
   "metadata": {
    "scrolled": false
   },
   "outputs": [
    {
     "data": {
      "text/html": [
       "<table class=\"data-frame\"><thead><tr><th></th><th>threads</th><th>size</th><th>mean_duration</th><th>ci_duration</th></tr><tr><th></th><th>Int64</th><th>Int64</th><th>Float64</th><th>Float64</th></tr></thead><tbody><p>10 rows × 4 columns</p><tr><th>1</th><td>1</td><td>16</td><td>0.0001665</td><td>5.12794e-5</td></tr><tr><th>2</th><td>1</td><td>32</td><td>0.0003705</td><td>5.68231e-5</td></tr><tr><th>3</th><td>1</td><td>64</td><td>0.0010355</td><td>1.24734e-5</td></tr><tr><th>4</th><td>1</td><td>128</td><td>0.003606</td><td>0.000263327</td></tr><tr><th>5</th><td>1</td><td>256</td><td>0.0133325</td><td>0.00243508</td></tr><tr><th>6</th><td>1</td><td>512</td><td>0.053438</td><td>0.00283284</td></tr><tr><th>7</th><td>1</td><td>1024</td><td>0.194417</td><td>0.0216011</td></tr><tr><th>8</th><td>1</td><td>2048</td><td>0.787831</td><td>0.0739255</td></tr><tr><th>9</th><td>1</td><td>4096</td><td>2.98737</td><td>0.0888921</td></tr><tr><th>10</th><td>1</td><td>8192</td><td>12.0428</td><td>0.563325</td></tr></tbody></table>"
      ],
      "text/latex": [
       "\\begin{tabular}{r|cccc}\n",
       "\t& threads & size & mean\\_duration & ci\\_duration\\\\\n",
       "\t\\hline\n",
       "\t& Int64 & Int64 & Float64 & Float64\\\\\n",
       "\t\\hline\n",
       "\t1 & 1 & 16 & 0.0001665 & 5.12794e-5 \\\\\n",
       "\t2 & 1 & 32 & 0.0003705 & 5.68231e-5 \\\\\n",
       "\t3 & 1 & 64 & 0.0010355 & 1.24734e-5 \\\\\n",
       "\t4 & 1 & 128 & 0.003606 & 0.000263327 \\\\\n",
       "\t5 & 1 & 256 & 0.0133325 & 0.00243508 \\\\\n",
       "\t6 & 1 & 512 & 0.053438 & 0.00283284 \\\\\n",
       "\t7 & 1 & 1024 & 0.194417 & 0.0216011 \\\\\n",
       "\t8 & 1 & 2048 & 0.787831 & 0.0739255 \\\\\n",
       "\t9 & 1 & 4096 & 2.98737 & 0.0888921 \\\\\n",
       "\t10 & 1 & 8192 & 12.0428 & 0.563325 \\\\\n",
       "\\end{tabular}\n"
      ],
      "text/plain": [
       "10×4 DataFrame\n",
       "│ Row │ threads │ size  │ mean_duration │ ci_duration │\n",
       "│     │ \u001b[90mInt64\u001b[39m   │ \u001b[90mInt64\u001b[39m │ \u001b[90mFloat64\u001b[39m       │ \u001b[90mFloat64\u001b[39m     │\n",
       "├─────┼─────────┼───────┼───────────────┼─────────────┤\n",
       "│ 1   │ 1       │ 16    │ 0.0001665     │ 5.12794e-5  │\n",
       "│ 2   │ 1       │ 32    │ 0.0003705     │ 5.68231e-5  │\n",
       "│ 3   │ 1       │ 64    │ 0.0010355     │ 1.24734e-5  │\n",
       "│ 4   │ 1       │ 128   │ 0.003606      │ 0.000263327 │\n",
       "│ 5   │ 1       │ 256   │ 0.0133325     │ 0.00243508  │\n",
       "│ 6   │ 1       │ 512   │ 0.053438      │ 0.00283284  │\n",
       "│ 7   │ 1       │ 1024  │ 0.194417      │ 0.0216011   │\n",
       "│ 8   │ 1       │ 2048  │ 0.787831      │ 0.0739255   │\n",
       "│ 9   │ 1       │ 4096  │ 2.98737       │ 0.0888921   │\n",
       "│ 10  │ 1       │ 8192  │ 12.0428       │ 0.563325    │"
      ]
     },
     "execution_count": 35,
     "metadata": {},
     "output_type": "execute_result"
    }
   ],
   "source": [
    "filter(row -> row[:threads] == 1, parsed_results)"
   ]
  },
  {
   "cell_type": "code",
   "execution_count": 36,
   "metadata": {},
   "outputs": [
    {
     "data": {
      "text/html": [
       "<table class=\"data-frame\"><thead><tr><th></th><th>threads</th><th>size</th><th>mean_duration</th><th>ci_duration</th></tr><tr><th></th><th>Int64</th><th>Int64</th><th>Float64</th><th>Float64</th></tr></thead><tbody><p>6 rows × 4 columns</p><tr><th>1</th><td>1</td><td>16</td><td>0.0001665</td><td>5.12794e-5</td></tr><tr><th>2</th><td>2</td><td>16</td><td>0.000163</td><td>4.43497e-5</td></tr><tr><th>3</th><td>4</td><td>16</td><td>0.0001665</td><td>1.80171e-5</td></tr><tr><th>4</th><td>8</td><td>16</td><td>0.000363</td><td>0.000291045</td></tr><tr><th>5</th><td>16</td><td>16</td><td>0.0004765</td><td>3.18764e-5</td></tr><tr><th>6</th><td>32</td><td>16</td><td>0.0006105</td><td>1.24734e-5</td></tr></tbody></table>"
      ],
      "text/latex": [
       "\\begin{tabular}{r|cccc}\n",
       "\t& threads & size & mean\\_duration & ci\\_duration\\\\\n",
       "\t\\hline\n",
       "\t& Int64 & Int64 & Float64 & Float64\\\\\n",
       "\t\\hline\n",
       "\t1 & 1 & 16 & 0.0001665 & 5.12794e-5 \\\\\n",
       "\t2 & 2 & 16 & 0.000163 & 4.43497e-5 \\\\\n",
       "\t3 & 4 & 16 & 0.0001665 & 1.80171e-5 \\\\\n",
       "\t4 & 8 & 16 & 0.000363 & 0.000291045 \\\\\n",
       "\t5 & 16 & 16 & 0.0004765 & 3.18764e-5 \\\\\n",
       "\t6 & 32 & 16 & 0.0006105 & 1.24734e-5 \\\\\n",
       "\\end{tabular}\n"
      ],
      "text/plain": [
       "6×4 DataFrame\n",
       "│ Row │ threads │ size  │ mean_duration │ ci_duration │\n",
       "│     │ \u001b[90mInt64\u001b[39m   │ \u001b[90mInt64\u001b[39m │ \u001b[90mFloat64\u001b[39m       │ \u001b[90mFloat64\u001b[39m     │\n",
       "├─────┼─────────┼───────┼───────────────┼─────────────┤\n",
       "│ 1   │ 1       │ 16    │ 0.0001665     │ 5.12794e-5  │\n",
       "│ 2   │ 2       │ 16    │ 0.000163      │ 4.43497e-5  │\n",
       "│ 3   │ 4       │ 16    │ 0.0001665     │ 1.80171e-5  │\n",
       "│ 4   │ 8       │ 16    │ 0.000363      │ 0.000291045 │\n",
       "│ 5   │ 16      │ 16    │ 0.0004765     │ 3.18764e-5  │\n",
       "│ 6   │ 32      │ 16    │ 0.0006105     │ 1.24734e-5  │"
      ]
     },
     "execution_count": 36,
     "metadata": {},
     "output_type": "execute_result"
    }
   ],
   "source": [
    "filter(row -> row[:size] == 16, parsed_results)"
   ]
  }
 ],
 "metadata": {
  "kernelspec": {
   "display_name": "Julia 1.3.1",
   "language": "julia",
   "name": "julia-1.3"
  },
  "language_info": {
   "file_extension": ".jl",
   "mimetype": "application/julia",
   "name": "julia",
   "version": "1.3.1"
  }
 },
 "nbformat": 4,
 "nbformat_minor": 4
}
