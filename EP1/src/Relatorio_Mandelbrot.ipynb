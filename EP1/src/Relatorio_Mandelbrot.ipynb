{
 "cells": [
  {
   "cell_type": "markdown",
   "metadata": {},
   "source": [
    "# EP1 - Conjunto de Maldelbrot e paralelização com pThreads e OpenMP\n",
    "\n",
    "| Nome | NUSP |\n",
    "|------|------|\n",
    "| Giulia C. de Nardi | 10692203 |\n",
    "| Vitor D. Tamae | 10705620 |\n",
    "| Lucy Anne de Omena Evangelista | 11221776 |\n",
    "| Leonardo Costa Santos | 10783142 |\n",
    "| Alexandre Muller Jones | 8038149 |\n"
   ]
  },
  {
   "cell_type": "markdown",
   "metadata": {},
   "source": [
    "INFORMAÇÔES SOBRE O DESENVOLVIMENTO DO RELATÓRIO:\n",
    "\n",
    "- **A função run_experiments pode ser implementada a fim de fazer os 4 tipos de figuras se necessário.**\n",
    "\n",
    "- **Não implementei isso pois não sei como será a plotagem dos gráficos. Se facilitar o processo de plotagem, implementamos essa parte.**\n",
    "\n",
    "- **De forma geral, conseguimos realizar os experimentos das funções mandelbrot_seq, mandelbrot_omp e mandelbrot_pth contanto que haja na saída das funções a duração da execução, e como entrada da função o número de threads.**\n",
    "\n",
    "- **Para o caso dos mandelbrot paralelizados, podemos ter dois tempos como saída: o considerando o tempo de alocação de memória e I/O, e o tempo não considerando esses fatores. Ainda não implementado para a realização das funções, mas de fácil ajuste nas funções feitas neste notebook.**\n",
    "\n",
    "- **Ainda falta implementar as função de plotagem dos pontos.**\n",
    "\n",
    "- **Para as sessões de Mandelbrot com PThreads e com OpenMP falta mudar o nome das funções. Por hora elas estão dando problema porque não há saída alguma das funções.**"
   ]
  },
  {
   "cell_type": "markdown",
   "metadata": {},
   "source": [
    "## Configuração do ambiente\n",
    "\n",
    "Atualizando os pacotes Julia"
   ]
  },
  {
   "cell_type": "code",
   "execution_count": 1,
   "metadata": {},
   "outputs": [
    {
     "name": "stdout",
     "output_type": "stream",
     "text": [
      "\u001b[32m\u001b[1m  Updating\u001b[22m\u001b[39m registry at `~/.julia/registries/General`\n",
      "\u001b[32m\u001b[1m  Updating\u001b[22m\u001b[39m git-repo `https://github.com/JuliaRegistries/General.git`\n",
      "\u001b[?25l\u001b[2K\u001b[?25h\u001b[32m\u001b[1m Resolving\u001b[22m\u001b[39m package versions...\n",
      "\u001b[32m\u001b[1m  Updating\u001b[22m\u001b[39m `~/.julia/environments/v1.3/Project.toml`\n",
      "\u001b[90m [no changes]\u001b[39m\n",
      "\u001b[32m\u001b[1m  Updating\u001b[22m\u001b[39m `~/.julia/environments/v1.3/Manifest.toml`\n",
      "\u001b[90m [no changes]\u001b[39m\n"
     ]
    }
   ],
   "source": [
    "] up"
   ]
  },
  {
   "cell_type": "markdown",
   "metadata": {},
   "source": [
    "Verificando o status dos pacotes, e se há algum problema, com o comando:"
   ]
  },
  {
   "cell_type": "code",
   "execution_count": 5,
   "metadata": {},
   "outputs": [
    {
     "name": "stdout",
     "output_type": "stream",
     "text": [
      "\u001b[32m\u001b[1m    Status\u001b[22m\u001b[39m `~/.julia/environments/v1.3/Project.toml`\n",
      " \u001b[90m [336ed68f]\u001b[39m\u001b[37m CSV v0.6.2\u001b[39m\n",
      " \u001b[90m [a93c6f00]\u001b[39m\u001b[37m DataFrames v0.21.0\u001b[39m\n",
      " \u001b[90m [31c24e10]\u001b[39m\u001b[37m Distributions v0.23.2\u001b[39m\n",
      " \u001b[90m [7073ff75]\u001b[39m\u001b[37m IJulia v1.21.2\u001b[39m\n",
      " \u001b[90m [b964fa9f]\u001b[39m\u001b[37m LaTeXStrings v1.1.0\u001b[39m\n",
      " \u001b[90m [8314cec4]\u001b[39m\u001b[37m PGFPlotsX v1.2.6\u001b[39m\n",
      " \u001b[90m [1a8c2f83]\u001b[39m\u001b[37m Query v0.12.2\u001b[39m\n",
      " \u001b[90m [f3b207a7]\u001b[39m\u001b[37m StatsPlots v0.14.6\u001b[39m\n"
     ]
    }
   ],
   "source": [
    "] st"
   ]
  },
  {
   "cell_type": "markdown",
   "metadata": {},
   "source": [
    "## Funções para realização dos experimentos"
   ]
  },
  {
   "cell_type": "code",
   "execution_count": 53,
   "metadata": {},
   "outputs": [
    {
     "name": "stdout",
     "output_type": "stream",
     "text": [
      "cc     mandelbrot_seq.c   -o mandelbrot_seq\n"
     ]
    }
   ],
   "source": [
    "; make mandelbrot_seq"
   ]
  },
  {
   "cell_type": "code",
   "execution_count": 54,
   "metadata": {
    "scrolled": false
   },
   "outputs": [
    {
     "name": "stdout",
     "output_type": "stream",
     "text": [
      "usage: ./mandelbrot_seq c_x_min c_x_max c_y_min c_y_max image_size\n",
      "examples with image_size = 11500:\n",
      "    Full Picture:         ./mandelbrot_seq -2.5 1.5 -2.0 2.0 11500\n",
      "    Seahorse Valley:      ./mandelbrot_seq -0.8 -0.7 0.05 0.15 11500\n",
      "    Elephant Valley:      ./mandelbrot_seq 0.175 0.375 -0.1 0.1 11500\n",
      "    Triple Spiral Valley: ./mandelbrot_seq -0.188 -0.012 0.554 0.754 11500\n"
     ]
    }
   ],
   "source": [
    "; ./mandelbrot_seq"
   ]
  },
  {
   "cell_type": "code",
   "execution_count": 55,
   "metadata": {},
   "outputs": [
    {
     "name": "stdout",
     "output_type": "stream",
     "text": [
      "3.485450"
     ]
    }
   ],
   "source": [
    "; ./mandelbrot_seq 0.175 0.375 -0.1 0.1 200 0"
   ]
  },
  {
   "cell_type": "markdown",
   "metadata": {},
   "source": [
    "A função abaixo recebe parâmetros `size`, com o tamanho da imagem, `f`, com a id do tupo de fractal a ser feito (0 - Full, 2 - Triple Spiral, 3 - Elephant, 4 - Seahorse), `mandel`, com o nome da função a ser executada (`./mandelbrot_seq`, `./mandelbrot_opm`, `./mandelbrot_pth`),e `threads`, com o número de threads do programa paralelo. A função executa o programa `mandelbrot` com os parâmetros dados e devolve um `DataFrame` com os resultados.\n",
    "\n",
    "**#precisamos colocar a duração do programa como uma saida da funcao pra conseguir fazer as estimativas.**\n",
    "\n",
    "**#também precisamos colocar a quantidade de threads como uma entrada do programa que usa #openMP e pthreads**\n",
    "\n",
    "**#tudo feito daqui pra baixo leva em conta que a duração do programa é uma das saídas**"
   ]
  },
  {
   "cell_type": "code",
   "execution_count": 193,
   "metadata": {},
   "outputs": [
    {
     "data": {
      "text/plain": [
       "measure_mandelbrot (generic function with 1 method)"
      ]
     },
     "execution_count": 193,
     "metadata": {},
     "output_type": "execute_result"
    }
   ],
   "source": [
    "using DataFrames, Query, StatsPlots, Statistics\n",
    "\n",
    "function measure_mandelbrot(size, f, mandel; thread = 0)    \n",
    "    if f == 0  mode = `-2.5 1.5 -2.0 2.0`\n",
    "    elseif f == 1  mode = `-0.188 -0.012 0.554 0.754`\n",
    "    elseif f == 2  mode = `0.175 0.375 -0.1 0.1`\n",
    "    elseif f == 3  mode = `-0.8 -0.7 0.05 0.15`\n",
    "    end\n",
    "    \n",
    "    if thread != 0 \n",
    "    results = parse.(Float64,\n",
    "        read(`./$mandel $mode $size $thread`, String))\n",
    "    else\n",
    "    results = parse.(Float64,\n",
    "        read(`./$mandel $mode $size`, String))\n",
    "    end\n",
    "        \n",
    "    return DataFrame(size = size,\n",
    "        f = f,\n",
    "        threads = thread,\n",
    "        duration = results[1])\n",
    "end"
   ]
  },
  {
   "cell_type": "markdown",
   "metadata": {},
   "source": [
    "A função `run_experiments` recebe os mesmos parâmetros `size`, `f`,`mandel` e `threads`, e um parâmetro adicional `repetitions`, com o número de repetições de cada experimento com um dado número de `threads`. A função devolve um `DataFrame` com todos os experimentos."
   ]
  },
  {
   "cell_type": "code",
   "execution_count": 197,
   "metadata": {},
   "outputs": [
    {
     "data": {
      "text/plain": [
       "run_experiments (generic function with 1 method)"
      ]
     },
     "execution_count": 197,
     "metadata": {},
     "output_type": "execute_result"
    }
   ],
   "source": [
    "function run_experiments(size, f, mandel, repetitions; threads = [])\n",
    "    run(`make $mandel`)\n",
    "    \n",
    "    results = DataFrame(size = Int[],\n",
    "        f = Int[],\n",
    "        threads = Int[],\n",
    "        duration = Float64[]) \n",
    "    \n",
    "    if threads != []\n",
    "    for t in threads\n",
    "        for s in size\n",
    "        for r in 1:repetitions\n",
    "            append!(results,\n",
    "                measure_mandelbrot(s, f, mandel, thread = t))    \n",
    "        end\n",
    "        end\n",
    "    end\n",
    "    else\n",
    "        for r in 1:repetitions\n",
    "        for s in size\n",
    "            append!(results,\n",
    "                measure_mandelbrot(s, f, mandel))    \n",
    "        end\n",
    "        end\n",
    "    end \n",
    "    \n",
    "    return results\n",
    "end"
   ]
  },
  {
   "cell_type": "markdown",
   "metadata": {},
   "source": [
    "A função `parse_results` recebe um `DataFrame` de resultados, produzido pela função `run_experiments`. A função devolve um `DataFrame` com a média e o intervalo de confiança da média a 95% dos tempos de execução, agrupados por número de threads."
   ]
  },
  {
   "cell_type": "code",
   "execution_count": 195,
   "metadata": {},
   "outputs": [
    {
     "data": {
      "text/plain": [
       "parse_results (generic function with 1 method)"
      ]
     },
     "execution_count": 195,
     "metadata": {},
     "output_type": "execute_result"
    }
   ],
   "source": [
    "function parse_results(results)\n",
    "    parsed_results = results |>\n",
    "                    @groupby({_.threads,_.size}) |>\n",
    "                    @map({threads = key(_).threads,\n",
    "                          size = _.size[1],\n",
    "                          mean_duration = mean(_.duration),\n",
    "                          ci_duration = 1.96 * std(_.duration)}) |>\n",
    "                    DataFrame\n",
    "    \n",
    "    return parsed_results\n",
    "end"
   ]
  },
  {
   "cell_type": "markdown",
   "metadata": {},
   "source": [
    "## Funções para traçar gráficos"
   ]
  },
  {
   "cell_type": "code",
   "execution_count": 204,
   "metadata": {},
   "outputs": [],
   "source": [
    "# espaço para funções"
   ]
  },
  {
   "cell_type": "markdown",
   "metadata": {},
   "source": [
    "## Mandelbrot sequencial"
   ]
  },
  {
   "cell_type": "markdown",
   "metadata": {},
   "source": [
    "Nesta parte, traremos a execução do maldelbrot em sua versão sequencial, junto com a análise de tempo de execução para os diferentes tipo de fractais Triple Spiral, Elephant, Seahorse & Full) e em diferentes resoluções ($ 2^4 \\cdots 2^{13}$)"
   ]
  },
  {
   "cell_type": "markdown",
   "metadata": {},
   "source": [
    "Realizando as medições para o mandelbrot sequencial:"
   ]
  },
  {
   "cell_type": "code",
   "execution_count": 200,
   "metadata": {},
   "outputs": [
    {
     "name": "stdout",
     "output_type": "stream",
     "text": [
      "make: 'mandelbrot_seq' is up to date.\n"
     ]
    },
    {
     "data": {
      "text/html": [
       "<table class=\"data-frame\"><thead><tr><th></th><th>threads</th><th>size</th><th>mean_duration</th><th>ci_duration</th></tr><tr><th></th><th>Int64</th><th>Int64</th><th>Float64</th><th>Float64</th></tr></thead><tbody><p>6 rows × 4 columns</p><tr><th>1</th><td>0</td><td>8</td><td>3.0</td><td>0.0</td></tr><tr><th>2</th><td>0</td><td>16</td><td>3.0</td><td>0.0</td></tr><tr><th>3</th><td>0</td><td>32</td><td>3.0</td><td>0.0</td></tr><tr><th>4</th><td>0</td><td>64</td><td>3.0</td><td>0.0</td></tr><tr><th>5</th><td>0</td><td>128</td><td>3.0</td><td>0.0</td></tr><tr><th>6</th><td>0</td><td>256</td><td>3.0</td><td>0.0</td></tr></tbody></table>"
      ],
      "text/latex": [
       "\\begin{tabular}{r|cccc}\n",
       "\t& threads & size & mean\\_duration & ci\\_duration\\\\\n",
       "\t\\hline\n",
       "\t& Int64 & Int64 & Float64 & Float64\\\\\n",
       "\t\\hline\n",
       "\t1 & 0 & 8 & 3.0 & 0.0 \\\\\n",
       "\t2 & 0 & 16 & 3.0 & 0.0 \\\\\n",
       "\t3 & 0 & 32 & 3.0 & 0.0 \\\\\n",
       "\t4 & 0 & 64 & 3.0 & 0.0 \\\\\n",
       "\t5 & 0 & 128 & 3.0 & 0.0 \\\\\n",
       "\t6 & 0 & 256 & 3.0 & 0.0 \\\\\n",
       "\\end{tabular}\n"
      ],
      "text/plain": [
       "6×4 DataFrame\n",
       "│ Row │ threads │ size  │ mean_duration │ ci_duration │\n",
       "│     │ \u001b[90mInt64\u001b[39m   │ \u001b[90mInt64\u001b[39m │ \u001b[90mFloat64\u001b[39m       │ \u001b[90mFloat64\u001b[39m     │\n",
       "├─────┼─────────┼───────┼───────────────┼─────────────┤\n",
       "│ 1   │ 0       │ 8     │ 3.0           │ 0.0         │\n",
       "│ 2   │ 0       │ 16    │ 3.0           │ 0.0         │\n",
       "│ 3   │ 0       │ 32    │ 3.0           │ 0.0         │\n",
       "│ 4   │ 0       │ 64    │ 3.0           │ 0.0         │\n",
       "│ 5   │ 0       │ 128   │ 3.0           │ 0.0         │\n",
       "│ 6   │ 0       │ 256   │ 3.0           │ 0.0         │"
      ]
     },
     "execution_count": 200,
     "metadata": {},
     "output_type": "execute_result"
    }
   ],
   "source": [
    "size = [2 ^ x for x in 4:13]\n",
    "f = 0\n",
    "thread = [2 ^ x for x in 0:5]\n",
    "repetitions = 10\n",
    "\n",
    "results = run_experiments(size, f, \"mandelbrot_seq\", repetitions)\n",
    "parsed_results = parse_results(results)"
   ]
  },
  {
   "cell_type": "code",
   "execution_count": null,
   "metadata": {},
   "outputs": [],
   "source": [
    "size = [2 ^ x for x in 4:13]\n",
    "f = 1\n",
    "thread = [2 ^ x for x in 0:5]\n",
    "repetitions = 10\n",
    "\n",
    "results = run_experiments(size, f, \"mandelbrot_seq\", repetitions)\n",
    "parsed_results = parse_results(results)"
   ]
  },
  {
   "cell_type": "code",
   "execution_count": null,
   "metadata": {},
   "outputs": [],
   "source": [
    "size = [2 ^ x for x in 4:13]\n",
    "f = 2\n",
    "thread = [2 ^ x for x in 0:5]\n",
    "repetitions = 10\n",
    "\n",
    "results = run_experiments(size, f, \"mandelbrot_seq\", repetitions)\n",
    "parsed_results = parse_results(results)"
   ]
  },
  {
   "cell_type": "code",
   "execution_count": null,
   "metadata": {},
   "outputs": [],
   "source": [
    "size = [2 ^ x for x in 4:13]\n",
    "f = 3\n",
    "thread = [2 ^ x for x in 0:5]\n",
    "repetitions = 10\n",
    "\n",
    "results = run_experiments(size, f, \"mandelbrot_seq\", repetitions)\n",
    "parsed_results = parse_results(results)"
   ]
  },
  {
   "cell_type": "markdown",
   "metadata": {},
   "source": [
    "## Mandelbrot com pthreads"
   ]
  },
  {
   "cell_type": "code",
   "execution_count": null,
   "metadata": {},
   "outputs": [],
   "source": [
    "size = [2 ^ x for x in 4:13]\n",
    "f = 0\n",
    "thread = [2 ^ x for x in 0:5]\n",
    "repetitions = 10\n",
    "\n",
    "results = run_experiments(size, f, \"mandelbrot_seq\", repetitions)\n",
    "parsed_results = parse_results(results)"
   ]
  },
  {
   "cell_type": "code",
   "execution_count": null,
   "metadata": {},
   "outputs": [],
   "source": [
    "size = [2 ^ x for x in 4:13]\n",
    "f = 1\n",
    "thread = [2 ^ x for x in 0:5]\n",
    "repetitions = 10\n",
    "\n",
    "results = run_experiments(size, f, \"mandelbrot_seq\", repetitions)\n",
    "parsed_results = parse_results(results)"
   ]
  },
  {
   "cell_type": "code",
   "execution_count": null,
   "metadata": {},
   "outputs": [],
   "source": [
    "size = [2 ^ x for x in 4:13]\n",
    "f = 2\n",
    "thread = [2 ^ x for x in 0:5]\n",
    "repetitions = 10\n",
    "\n",
    "results = run_experiments(size, f, \"mandelbrot_seq\", repetitions)\n",
    "parsed_results = parse_results(results)"
   ]
  },
  {
   "cell_type": "code",
   "execution_count": null,
   "metadata": {},
   "outputs": [],
   "source": [
    "size = [2 ^ x for x in 4:13]\n",
    "f = 3\n",
    "thread = [2 ^ x for x in 0:5]\n",
    "repetitions = 10\n",
    "\n",
    "results = run_experiments(size, f, \"mandelbrot_seq\", repetitions)\n",
    "parsed_results = parse_results(results)"
   ]
  },
  {
   "cell_type": "markdown",
   "metadata": {},
   "source": [
    "## Mandelbrot com OpenMP"
   ]
  },
  {
   "cell_type": "code",
   "execution_count": 203,
   "metadata": {
    "scrolled": false
   },
   "outputs": [
    {
     "name": "stdout",
     "output_type": "stream",
     "text": [
      "make: 'mandelbrot_seq' is up to date.\n"
     ]
    },
    {
     "data": {
      "text/html": [
       "<table class=\"data-frame\"><thead><tr><th></th><th>threads</th><th>size</th><th>mean_duration</th><th>ci_duration</th></tr><tr><th></th><th>Int64</th><th>Int64</th><th>Float64</th><th>Float64</th></tr></thead><tbody><p>10 rows × 4 columns</p><tr><th>1</th><td>0</td><td>16</td><td>3.0</td><td>0.0</td></tr><tr><th>2</th><td>0</td><td>32</td><td>3.0</td><td>0.0</td></tr><tr><th>3</th><td>0</td><td>64</td><td>3.0</td><td>0.0</td></tr><tr><th>4</th><td>0</td><td>128</td><td>3.0</td><td>0.0</td></tr><tr><th>5</th><td>0</td><td>256</td><td>3.0</td><td>0.0</td></tr><tr><th>6</th><td>0</td><td>512</td><td>3.0</td><td>0.0</td></tr><tr><th>7</th><td>0</td><td>1024</td><td>3.0</td><td>0.0</td></tr><tr><th>8</th><td>0</td><td>2048</td><td>3.0</td><td>0.0</td></tr><tr><th>9</th><td>0</td><td>4096</td><td>3.0</td><td>0.0</td></tr><tr><th>10</th><td>0</td><td>8192</td><td>3.0</td><td>0.0</td></tr></tbody></table>"
      ],
      "text/latex": [
       "\\begin{tabular}{r|cccc}\n",
       "\t& threads & size & mean\\_duration & ci\\_duration\\\\\n",
       "\t\\hline\n",
       "\t& Int64 & Int64 & Float64 & Float64\\\\\n",
       "\t\\hline\n",
       "\t1 & 0 & 16 & 3.0 & 0.0 \\\\\n",
       "\t2 & 0 & 32 & 3.0 & 0.0 \\\\\n",
       "\t3 & 0 & 64 & 3.0 & 0.0 \\\\\n",
       "\t4 & 0 & 128 & 3.0 & 0.0 \\\\\n",
       "\t5 & 0 & 256 & 3.0 & 0.0 \\\\\n",
       "\t6 & 0 & 512 & 3.0 & 0.0 \\\\\n",
       "\t7 & 0 & 1024 & 3.0 & 0.0 \\\\\n",
       "\t8 & 0 & 2048 & 3.0 & 0.0 \\\\\n",
       "\t9 & 0 & 4096 & 3.0 & 0.0 \\\\\n",
       "\t10 & 0 & 8192 & 3.0 & 0.0 \\\\\n",
       "\\end{tabular}\n"
      ],
      "text/plain": [
       "10×4 DataFrame\n",
       "│ Row │ threads │ size  │ mean_duration │ ci_duration │\n",
       "│     │ \u001b[90mInt64\u001b[39m   │ \u001b[90mInt64\u001b[39m │ \u001b[90mFloat64\u001b[39m       │ \u001b[90mFloat64\u001b[39m     │\n",
       "├─────┼─────────┼───────┼───────────────┼─────────────┤\n",
       "│ 1   │ 0       │ 16    │ 3.0           │ 0.0         │\n",
       "│ 2   │ 0       │ 32    │ 3.0           │ 0.0         │\n",
       "│ 3   │ 0       │ 64    │ 3.0           │ 0.0         │\n",
       "│ 4   │ 0       │ 128   │ 3.0           │ 0.0         │\n",
       "│ 5   │ 0       │ 256   │ 3.0           │ 0.0         │\n",
       "│ 6   │ 0       │ 512   │ 3.0           │ 0.0         │\n",
       "│ 7   │ 0       │ 1024  │ 3.0           │ 0.0         │\n",
       "│ 8   │ 0       │ 2048  │ 3.0           │ 0.0         │\n",
       "│ 9   │ 0       │ 4096  │ 3.0           │ 0.0         │\n",
       "│ 10  │ 0       │ 8192  │ 3.0           │ 0.0         │"
      ]
     },
     "execution_count": 203,
     "metadata": {},
     "output_type": "execute_result"
    }
   ],
   "source": [
    "size = [2 ^ x for x in 4:13]\n",
    "f = 0\n",
    "thread = [2 ^ x for x in 0:5]\n",
    "repetitions = 10\n",
    "\n",
    "results = run_experiments(size, f, \"mandelbrot_seq\", repetitions)\n",
    "parsed_results = parse_results(results)"
   ]
  },
  {
   "cell_type": "code",
   "execution_count": null,
   "metadata": {},
   "outputs": [],
   "source": [
    "size = [2 ^ x for x in 4:13]\n",
    "f = 1\n",
    "thread = [2 ^ x for x in 0:5]\n",
    "repetitions = 10\n",
    "\n",
    "results = run_experiments(size, f, \"mandelbrot_seq\", repetitions)\n",
    "parsed_results = parse_results(results)"
   ]
  },
  {
   "cell_type": "code",
   "execution_count": null,
   "metadata": {},
   "outputs": [],
   "source": [
    "size = [2 ^ x for x in 4:13]\n",
    "f = 2\n",
    "thread = [2 ^ x for x in 0:5]\n",
    "repetitions = 10\n",
    "\n",
    "results = run_experiments(size, f, \"mandelbrot_seq\", repetitions)\n",
    "parsed_results = parse_results(results)"
   ]
  },
  {
   "cell_type": "code",
   "execution_count": null,
   "metadata": {},
   "outputs": [],
   "source": [
    "size = [2 ^ x for x in 4:13]\n",
    "f = 3\n",
    "thread = [2 ^ x for x in 0:5]\n",
    "repetitions = 10\n",
    "\n",
    "results = run_experiments(size, f, \"mandelbrot_seq\", repetitions)\n",
    "parsed_results = parse_results(results)"
   ]
  }
 ],
 "metadata": {
  "kernelspec": {
   "display_name": "Julia 1.3.1",
   "language": "julia",
   "name": "julia-1.3"
  },
  "language_info": {
   "file_extension": ".jl",
   "mimetype": "application/julia",
   "name": "julia",
   "version": "1.3.1"
  }
 },
 "nbformat": 4,
 "nbformat_minor": 4
}
