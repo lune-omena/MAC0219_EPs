{
 "cells": [
  {
   "cell_type": "markdown",
   "metadata": {},
   "source": [
    "# EP1 - Conjunto de Maldelbrot e paralelização com pThreads e OpenMP\n",
    "\n",
    "| Nome | NUSP |\n",
    "|------|------|\n",
    "| Giulia C. de Nardi | 10692203 |\n",
    "| Vitor D. Tamae | 10705620 |\n",
    "| Lucy Anne de Omena Evangelista | 11221776 |\n",
    "| Leonardo Costa Santos | 10783142 |\n",
    "| Alexandre Muller Jones | 8038149 |\n"
   ]
  },
  {
   "cell_type": "markdown",
   "metadata": {},
   "source": [
    "Caso não queira rodar novamente os experimentos, por favor pular para a sessão \"Gráficos comparativos\"."
   ]
  },
  {
   "cell_type": "markdown",
   "metadata": {},
   "source": [
    "## Configuração do ambiente\n",
    "\n",
    "Atualizando os pacotes Julia"
   ]
  },
  {
   "cell_type": "code",
   "execution_count": 1,
   "metadata": {
    "scrolled": true
   },
   "outputs": [
    {
     "name": "stdout",
     "output_type": "stream",
     "text": [
      "\u001b[32m\u001b[1m  Updating\u001b[22m\u001b[39m registry at `~/.julia/registries/General`\n",
      "\u001b[32m\u001b[1m  Updating\u001b[22m\u001b[39m git-repo `https://github.com/JuliaRegistries/General.git`\n",
      "\u001b[2K\u001b[?25h[1mFetching:\u001b[22m\u001b[39m [========================================>]  100.0 %.0 %\u001b[32m\u001b[1m Resolving\u001b[22m\u001b[39m package versions...\n",
      "\u001b[32m\u001b[1m  Updating\u001b[22m\u001b[39m `~/.julia/environments/v1.3/Project.toml`\n",
      "\u001b[90m [no changes]\u001b[39m\n",
      "\u001b[32m\u001b[1m  Updating\u001b[22m\u001b[39m `~/.julia/environments/v1.3/Manifest.toml`\n",
      "\u001b[90m [no changes]\u001b[39m\n"
     ]
    }
   ],
   "source": [
    "] up"
   ]
  },
  {
   "cell_type": "markdown",
   "metadata": {},
   "source": [
    "Verificando o status dos pacotes, e se há algum problema, com o comando:"
   ]
  },
  {
   "cell_type": "code",
   "execution_count": 2,
   "metadata": {
    "scrolled": true
   },
   "outputs": [
    {
     "name": "stdout",
     "output_type": "stream",
     "text": [
      "\u001b[32m\u001b[1m    Status\u001b[22m\u001b[39m `~/.julia/environments/v1.3/Project.toml`\n",
      " \u001b[90m [336ed68f]\u001b[39m\u001b[37m CSV v0.6.2\u001b[39m\n",
      " \u001b[90m [a93c6f00]\u001b[39m\u001b[37m DataFrames v0.21.0\u001b[39m\n",
      " \u001b[90m [31c24e10]\u001b[39m\u001b[37m Distributions v0.23.2\u001b[39m\n",
      " \u001b[90m [7073ff75]\u001b[39m\u001b[37m IJulia v1.21.2\u001b[39m\n",
      " \u001b[90m [b964fa9f]\u001b[39m\u001b[37m LaTeXStrings v1.1.0\u001b[39m\n",
      " \u001b[90m [8314cec4]\u001b[39m\u001b[37m PGFPlotsX v1.2.6\u001b[39m\n",
      " \u001b[90m [1a8c2f83]\u001b[39m\u001b[37m Query v0.12.2\u001b[39m\n",
      " \u001b[90m [f3b207a7]\u001b[39m\u001b[37m StatsPlots v0.14.6\u001b[39m\n",
      " \u001b[90m [10745b16]\u001b[39m\u001b[37m Statistics \u001b[39m\n"
     ]
    }
   ],
   "source": [
    "] st"
   ]
  },
  {
   "cell_type": "markdown",
   "metadata": {},
   "source": [
    "Chamando pacotes que usaremos:"
   ]
  },
  {
   "cell_type": "code",
   "execution_count": 3,
   "metadata": {},
   "outputs": [],
   "source": [
    "using DataFrames, Query, StatsPlots, Statistics"
   ]
  },
  {
   "cell_type": "markdown",
   "metadata": {},
   "source": [
    "## Funções para realização dos experimentos"
   ]
  },
  {
   "cell_type": "code",
   "execution_count": null,
   "metadata": {
    "scrolled": false
   },
   "outputs": [],
   "source": [
    "; make mandelbrot_seq"
   ]
  },
  {
   "cell_type": "code",
   "execution_count": null,
   "metadata": {
    "scrolled": true
   },
   "outputs": [],
   "source": [
    "; ./mandelbrot_seq"
   ]
  },
  {
   "cell_type": "code",
   "execution_count": null,
   "metadata": {},
   "outputs": [],
   "source": [
    "; ./mandelbrot_seq 0.175 0.375 -0.1 0.1 200 0"
   ]
  },
  {
   "cell_type": "markdown",
   "metadata": {},
   "source": [
    "A função abaixo recebe parâmetros `size`, com o tamanho da imagem, `f`, com a id do tupo de fractal a ser feito (0 - Full, 2 - Triple Spiral, 3 - Elephant, 4 - Seahorse), `mandel`, com o nome da função a ser executada (`./mandelbrot_seq`, `./mandelbrot_opm`, `./mandelbrot_pth`),e `threads`, com o número de threads do programa paralelo. A função executa o programa `mandelbrot` com os parâmetros dados e devolve um `DataFrame` com os resultados."
   ]
  },
  {
   "cell_type": "code",
   "execution_count": 4,
   "metadata": {},
   "outputs": [
    {
     "data": {
      "text/plain": [
       "measure_mandelbrot (generic function with 1 method)"
      ]
     },
     "execution_count": 4,
     "metadata": {},
     "output_type": "execute_result"
    }
   ],
   "source": [
    "function measure_mandelbrot(size, f, mandel; thread = 0)    \n",
    "    if f == 0  mode = `-2.5 1.5 -2.0 2.0` #full\n",
    "    elseif f == 1  mode = `-0.188 -0.012 0.554 0.754` #triple spiral\n",
    "    elseif f == 2  mode = `0.175 0.375 -0.1 0.1` # elephant\n",
    "    elseif f == 3  mode = `-0.8 -0.7 0.05 0.15` #seahorse\n",
    "    end\n",
    "    \n",
    "    if thread != 0 \n",
    "    results = parse.(Float64,\n",
    "        split(chomp(read(`./$mandel $mode $size $thread `, String)), \",\"))\n",
    "    else\n",
    "    results = parse.(Float64,\n",
    "        split(chomp(read(`./$mandel $mode $size`, String)), \",\"))\n",
    "    end\n",
    "    \n",
    "    return DataFrame(size = size,\n",
    "        f = f,\n",
    "        threads = thread,\n",
    "        duration = results[1],\n",
    "        io_alocation = results[2])\n",
    "end"
   ]
  },
  {
   "cell_type": "markdown",
   "metadata": {},
   "source": [
    "A função `run_experiments` recebe os mesmos parâmetros `size`, `f`,`mandel` e `threads`, e um parâmetro adicional `repetitions`, com o número de repetições de cada experimento com um dado número de `threads`. A função devolve um `DataFrame` com todos os experimentos."
   ]
  },
  {
   "cell_type": "code",
   "execution_count": 5,
   "metadata": {},
   "outputs": [
    {
     "data": {
      "text/plain": [
       "run_experiments (generic function with 1 method)"
      ]
     },
     "execution_count": 5,
     "metadata": {},
     "output_type": "execute_result"
    }
   ],
   "source": [
    "function run_experiments(size, f, mandel, repetitions; threads = [])\n",
    "    run(`make $mandel`)\n",
    "        \n",
    "    results = DataFrame(size = Int[],\n",
    "        f = Int[],\n",
    "        threads = Int[],\n",
    "        duration = Float64[],\n",
    "        io_alocation = Float64[]) \n",
    "    \n",
    "    if threads != []\n",
    "    \n",
    "    for t in threads\n",
    "        for s in size\n",
    "            for r in 1:repetitions\n",
    "            append!(results,\n",
    "                measure_mandelbrot(s, f, mandel, thread = t))    \n",
    "            end\n",
    "        end\n",
    "    end\n",
    "        \n",
    "    else\n",
    "    \n",
    "    for r in 1:repetitions\n",
    "        for s in size\n",
    "            append!(results,\n",
    "                measure_mandelbrot(s, f, mandel))    \n",
    "        end\n",
    "    end\n",
    "    \n",
    "    end\n",
    "    \n",
    "    return results\n",
    "end"
   ]
  },
  {
   "cell_type": "markdown",
   "metadata": {},
   "source": [
    "A função `parse_results` recebe um `DataFrame` de resultados, produzido pela função `run_experiments`. A função devolve um `DataFrame` com a média e o intervalo de confiança da média a 95% dos tempos de execução, agrupados por número de threads."
   ]
  },
  {
   "cell_type": "code",
   "execution_count": 6,
   "metadata": {},
   "outputs": [
    {
     "data": {
      "text/plain": [
       "parse_results (generic function with 1 method)"
      ]
     },
     "execution_count": 6,
     "metadata": {},
     "output_type": "execute_result"
    }
   ],
   "source": [
    "function parse_results(results)\n",
    "    parsed_results = results |>\n",
    "                    @groupby({_.threads,_.size}) |>\n",
    "                    @map({threads = key(_).threads,\n",
    "                          size = _.size[1],\n",
    "                          mean_duration = mean(_.duration),\n",
    "                          mean_io_alocation = mean(_.io_alocation),\n",
    "                          ci_duration = 1.96 * std(_.duration),\n",
    "                          ci_io_alocation = 1.96 * std(_.io_alocation)}) |>\n",
    "                    DataFrame\n",
    "    \n",
    "    return parsed_results\n",
    "end"
   ]
  },
  {
   "cell_type": "markdown",
   "metadata": {},
   "source": [
    "## Funções para traçar gráficos"
   ]
  },
  {
   "cell_type": "markdown",
   "metadata": {},
   "source": [
    "A função abaixo permite que sejam traçadas até 5 séries de dados em um mesmo gráfico do tipo scatter."
   ]
  },
  {
   "cell_type": "code",
   "execution_count": null,
   "metadata": {},
   "outputs": [],
   "source": [
    "pgfplotsx()\n",
    "\n",
    "function plot_results(x, y, series_label, yerror; y2 = [], series_label2 = [], yerror2 = [], \n",
    "        y3 = [], series_label3 = [], yerror3 = [], y4 = [], series_label4 = [], yerror4 = [],\n",
    "        y5 = [], series_label5 = [], yerror5 = [])\n",
    "    max_thread_power = 5\n",
    "    \n",
    "    p = scatter(x, y, xaxis = :log2, xlabel = \"Threads\", xticks = [2 ^ x for x in 0:max_thread_power],\n",
    "        yerror = yerror, alpha = 0.6, \n",
    "        labels = series_label, legend = :bottomright)\n",
    "    \n",
    "    if y2 != []\n",
    "        p = scatter!(x, y2, xaxis = :log2, xticks = [2 ^ x for x in 0:max_thread_power],\n",
    "            yerror = yerror2, alpha = 0.6,\n",
    "            labels = series_label2, legend = :bottomright)\n",
    "    end\n",
    "    if y3 != []\n",
    "        p = scatter!(x, y3, xaxis = :log2, xticks = [2 ^ x for x in 0:max_thread_power],\n",
    "            yerror = yerror3, alpha = 0.6,\n",
    "            labels = series_label3, legend = :bottomright)\n",
    "    end\n",
    "    if y4 != []\n",
    "        p = scatter!(x, y4, xaxis = :log2, xticks = [2 ^ x for x in 0:max_thread_power],\n",
    "            yerror = yerror4, alpha = 0.6,\n",
    "            labels = series_label4, legend = :bottomright)\n",
    "    end\n",
    "    if y5 != []\n",
    "        p = scatter!(x, y5, xaxis = :log2, xticks = [2 ^ x for x in 0:max_thread_power],\n",
    "            yerror = yerror5, alpha = 0.6,\n",
    "            labels = series_label5, legend = :bottomright)\n",
    "    end\n",
    "    \n",
    "    return p\n",
    "end"
   ]
  },
  {
   "cell_type": "markdown",
   "metadata": {},
   "source": [
    "## Condições para os experimentos"
   ]
  },
  {
   "cell_type": "code",
   "execution_count": 7,
   "metadata": {},
   "outputs": [],
   "source": [
    "#size = [2 ^ x for x in 4:13]\n",
    "#thread = [2 ^ x for x in 0:5]\n",
    "#repetitions = 10;\n",
    "size = [2 ^ x for x in 4:7]\n",
    "thread = [2 ^ x for x in 0:3]\n",
    "repetitions = 2;"
   ]
  },
  {
   "cell_type": "markdown",
   "metadata": {},
   "source": [
    "# Gerando e Salvando dados"
   ]
  },
  {
   "cell_type": "markdown",
   "metadata": {},
   "source": [
    "## Mandelbrot sequencial"
   ]
  },
  {
   "cell_type": "markdown",
   "metadata": {},
   "source": [
    "Nesta parte, traremos a execução do maldelbrot em sua versão sequencial, junto com a análise de tempo de execução para os diferentes tipo de fractais (Triple Spiral, Elephant, Seahorse & Full) e em diferentes resoluções ($ 2^4 \\cdots 2^{13}$)"
   ]
  },
  {
   "cell_type": "markdown",
   "metadata": {},
   "source": [
    "Realizando as medições para o mandelbrot sequencial:"
   ]
  },
  {
   "cell_type": "code",
   "execution_count": null,
   "metadata": {},
   "outputs": [],
   "source": [
    "results_seq_full = run_experiments(size, 0, \"mandelbrot_seq\", repetitions)\n",
    "seq_full = parse_results(results_seq_full);"
   ]
  },
  {
   "cell_type": "code",
   "execution_count": null,
   "metadata": {},
   "outputs": [],
   "source": [
    "seq_full"
   ]
  },
  {
   "cell_type": "code",
   "execution_count": null,
   "metadata": {},
   "outputs": [],
   "source": [
    "results_seq_triplespiral = run_experiments(size, 1, \"mandelbrot_seq\", repetitions)\n",
    "seq_triplespiral = parse_results(results_seq_triplespiral);"
   ]
  },
  {
   "cell_type": "code",
   "execution_count": null,
   "metadata": {},
   "outputs": [],
   "source": [
    "results_seq_elephant = run_experiments(size, 2, \"mandelbrot_seq\", repetitions)\n",
    "seq_elephant = parse_results(results_seq_elephant);"
   ]
  },
  {
   "cell_type": "code",
   "execution_count": null,
   "metadata": {},
   "outputs": [],
   "source": [
    "results_seq_seahorse = run_experiments(size, 3, \"mandelbrot_seq\", repetitions)\n",
    "seq_seahorse = parse_results(results_seq_seahorse);"
   ]
  },
  {
   "cell_type": "code",
   "execution_count": null,
   "metadata": {},
   "outputs": [],
   "source": [
    "showall(seq_seahorse)"
   ]
  },
  {
   "cell_type": "markdown",
   "metadata": {},
   "source": [
    "## Mandelbrot com pthreads"
   ]
  },
  {
   "cell_type": "code",
   "execution_count": 8,
   "metadata": {
    "scrolled": false
   },
   "outputs": [
    {
     "name": "stdout",
     "output_type": "stream",
     "text": [
      "make: 'mandelbrot_pth' is up to date.\n"
     ]
    }
   ],
   "source": [
    "results_pth_full = run_experiments(size, 0, \"mandelbrot_pth\", repetitions,threads=thread)\n",
    "pth_full = parse_results(results_pth_full);"
   ]
  },
  {
   "cell_type": "code",
   "execution_count": 9,
   "metadata": {},
   "outputs": [
    {
     "data": {
      "text/html": [
       "<table class=\"data-frame\"><thead><tr><th></th><th>threads</th><th>size</th><th>mean_duration</th><th>mean_io_alocation</th><th>ci_duration</th><th>ci_io_alocation</th></tr><tr><th></th><th>Int64</th><th>Int64</th><th>Float64</th><th>Float64</th><th>Float64</th><th>Float64</th></tr></thead><tbody><p>16 rows × 6 columns</p><tr><th>1</th><td>1</td><td>16</td><td>0.0001455</td><td>0.0002125</td><td>4.01919e-5</td><td>4.15779e-6</td></tr><tr><th>2</th><td>1</td><td>32</td><td>0.001556</td><td>0.0016795</td><td>0.00261386</td><td>0.00260139</td></tr><tr><th>3</th><td>1</td><td>64</td><td>0.000974</td><td>0.0011925</td><td>0.000230064</td><td>0.000270256</td></tr><tr><th>4</th><td>1</td><td>128</td><td>0.004132</td><td>0.005111</td><td>0.00100064</td><td>0.00161599</td></tr><tr><th>5</th><td>2</td><td>16</td><td>0.000106</td><td>0.0001735</td><td>1.10874e-5</td><td>3.18764e-5</td></tr><tr><th>6</th><td>2</td><td>32</td><td>0.000171</td><td>0.0002615</td><td>4.71216e-5</td><td>1.38593e-6</td></tr><tr><th>7</th><td>2</td><td>64</td><td>0.0004185</td><td>0.0005895</td><td>1.38593e-6</td><td>9.70151e-6</td></tr><tr><th>8</th><td>2</td><td>128</td><td>0.0017055</td><td>0.0023655</td><td>0.000128891</td><td>0.000228678</td></tr><tr><th>9</th><td>4</td><td>16</td><td>0.0006685</td><td>0.000736</td><td>0.00154531</td><td>0.00155224</td></tr><tr><th>10</th><td>4</td><td>32</td><td>0.0001775</td><td>0.0002885</td><td>1.80171e-5</td><td>5.12794e-5</td></tr><tr><th>11</th><td>4</td><td>64</td><td>0.000414</td><td>0.0006405</td><td>1.9403e-5</td><td>6.79105e-5</td></tr><tr><th>12</th><td>4</td><td>128</td><td>0.001271</td><td>0.00198</td><td>6.37527e-5</td><td>8.03839e-5</td></tr><tr><th>13</th><td>8</td><td>16</td><td>0.0001995</td><td>0.000267</td><td>4.85075e-5</td><td>5.26653e-5</td></tr><tr><th>14</th><td>8</td><td>32</td><td>0.0002215</td><td>0.000324</td><td>7.8998e-5</td><td>7.20683e-5</td></tr><tr><th>15</th><td>8</td><td>64</td><td>0.000561</td><td>0.000886</td><td>0.000321536</td><td>0.000482303</td></tr><tr><th>16</th><td>8</td><td>128</td><td>0.0017995</td><td>0.002622</td><td>0.00119883</td><td>0.00098401</td></tr></tbody></table>"
      ],
      "text/latex": [
       "\\begin{tabular}{r|cccccc}\n",
       "\t& threads & size & mean\\_duration & mean\\_io\\_alocation & ci\\_duration & ci\\_io\\_alocation\\\\\n",
       "\t\\hline\n",
       "\t& Int64 & Int64 & Float64 & Float64 & Float64 & Float64\\\\\n",
       "\t\\hline\n",
       "\t1 & 1 & 16 & 0.0001455 & 0.0002125 & 4.01919e-5 & 4.15779e-6 \\\\\n",
       "\t2 & 1 & 32 & 0.001556 & 0.0016795 & 0.00261386 & 0.00260139 \\\\\n",
       "\t3 & 1 & 64 & 0.000974 & 0.0011925 & 0.000230064 & 0.000270256 \\\\\n",
       "\t4 & 1 & 128 & 0.004132 & 0.005111 & 0.00100064 & 0.00161599 \\\\\n",
       "\t5 & 2 & 16 & 0.000106 & 0.0001735 & 1.10874e-5 & 3.18764e-5 \\\\\n",
       "\t6 & 2 & 32 & 0.000171 & 0.0002615 & 4.71216e-5 & 1.38593e-6 \\\\\n",
       "\t7 & 2 & 64 & 0.0004185 & 0.0005895 & 1.38593e-6 & 9.70151e-6 \\\\\n",
       "\t8 & 2 & 128 & 0.0017055 & 0.0023655 & 0.000128891 & 0.000228678 \\\\\n",
       "\t9 & 4 & 16 & 0.0006685 & 0.000736 & 0.00154531 & 0.00155224 \\\\\n",
       "\t10 & 4 & 32 & 0.0001775 & 0.0002885 & 1.80171e-5 & 5.12794e-5 \\\\\n",
       "\t11 & 4 & 64 & 0.000414 & 0.0006405 & 1.9403e-5 & 6.79105e-5 \\\\\n",
       "\t12 & 4 & 128 & 0.001271 & 0.00198 & 6.37527e-5 & 8.03839e-5 \\\\\n",
       "\t13 & 8 & 16 & 0.0001995 & 0.000267 & 4.85075e-5 & 5.26653e-5 \\\\\n",
       "\t14 & 8 & 32 & 0.0002215 & 0.000324 & 7.8998e-5 & 7.20683e-5 \\\\\n",
       "\t15 & 8 & 64 & 0.000561 & 0.000886 & 0.000321536 & 0.000482303 \\\\\n",
       "\t16 & 8 & 128 & 0.0017995 & 0.002622 & 0.00119883 & 0.00098401 \\\\\n",
       "\\end{tabular}\n"
      ],
      "text/plain": [
       "16×6 DataFrame. Omitted printing of 1 columns\n",
       "│ Row │ threads │ size  │ mean_duration │ mean_io_alocation │ ci_duration │\n",
       "│     │ \u001b[90mInt64\u001b[39m   │ \u001b[90mInt64\u001b[39m │ \u001b[90mFloat64\u001b[39m       │ \u001b[90mFloat64\u001b[39m           │ \u001b[90mFloat64\u001b[39m     │\n",
       "├─────┼─────────┼───────┼───────────────┼───────────────────┼─────────────┤\n",
       "│ 1   │ 1       │ 16    │ 0.0001455     │ 0.0002125         │ 4.01919e-5  │\n",
       "│ 2   │ 1       │ 32    │ 0.001556      │ 0.0016795         │ 0.00261386  │\n",
       "│ 3   │ 1       │ 64    │ 0.000974      │ 0.0011925         │ 0.000230064 │\n",
       "│ 4   │ 1       │ 128   │ 0.004132      │ 0.005111          │ 0.00100064  │\n",
       "│ 5   │ 2       │ 16    │ 0.000106      │ 0.0001735         │ 1.10874e-5  │\n",
       "│ 6   │ 2       │ 32    │ 0.000171      │ 0.0002615         │ 4.71216e-5  │\n",
       "│ 7   │ 2       │ 64    │ 0.0004185     │ 0.0005895         │ 1.38593e-6  │\n",
       "│ 8   │ 2       │ 128   │ 0.0017055     │ 0.0023655         │ 0.000128891 │\n",
       "│ 9   │ 4       │ 16    │ 0.0006685     │ 0.000736          │ 0.00154531  │\n",
       "│ 10  │ 4       │ 32    │ 0.0001775     │ 0.0002885         │ 1.80171e-5  │\n",
       "│ 11  │ 4       │ 64    │ 0.000414      │ 0.0006405         │ 1.9403e-5   │\n",
       "│ 12  │ 4       │ 128   │ 0.001271      │ 0.00198           │ 6.37527e-5  │\n",
       "│ 13  │ 8       │ 16    │ 0.0001995     │ 0.000267          │ 4.85075e-5  │\n",
       "│ 14  │ 8       │ 32    │ 0.0002215     │ 0.000324          │ 7.8998e-5   │\n",
       "│ 15  │ 8       │ 64    │ 0.000561      │ 0.000886          │ 0.000321536 │\n",
       "│ 16  │ 8       │ 128   │ 0.0017995     │ 0.002622          │ 0.00119883  │"
      ]
     },
     "execution_count": 9,
     "metadata": {},
     "output_type": "execute_result"
    }
   ],
   "source": [
    "pth_full"
   ]
  },
  {
   "cell_type": "code",
   "execution_count": null,
   "metadata": {},
   "outputs": [],
   "source": [
    "results_pth_triplespiral = run_experiments(size, 1, \"mandelbrot_pth\", repetitions,threads=thread)\n",
    "pth_triplespiral = parse_results(results_pth_triplespiral);"
   ]
  },
  {
   "cell_type": "code",
   "execution_count": null,
   "metadata": {},
   "outputs": [],
   "source": [
    "results_pth_elephant = run_experiments(size, 2, \"mandelbrot_pth\", repetitions,threads=thread)\n",
    "pth_elephant = parse_results(results_pth_elephant);"
   ]
  },
  {
   "cell_type": "code",
   "execution_count": null,
   "metadata": {},
   "outputs": [],
   "source": [
    "results_pth_seahorse = run_experiments(size, 3, \"mandelbrot_pth\", repetitions,threads=thread)\n",
    "pth_seahorse = parse_results(results_pth_seahorse);"
   ]
  },
  {
   "cell_type": "markdown",
   "metadata": {},
   "source": [
    "## Mandelbrot com OpenMP"
   ]
  },
  {
   "cell_type": "code",
   "execution_count": null,
   "metadata": {
    "scrolled": true
   },
   "outputs": [],
   "source": [
    "results_omp_full = run_experiments(size, 0, \"mandelbrot_omp\", repetitions,threads=thread)\n",
    "omp_full = parse_results(results_omp_full);"
   ]
  },
  {
   "cell_type": "code",
   "execution_count": null,
   "metadata": {},
   "outputs": [],
   "source": [
    "results_omp_triplespiral = run_experiments(size, 1, \"mandelbrot_omp\", repetitions,threads=thread)\n",
    "omp_triplespiral = parse_results(results_omp_triplespiral);"
   ]
  },
  {
   "cell_type": "code",
   "execution_count": null,
   "metadata": {},
   "outputs": [],
   "source": [
    "results_omp_elephant = run_experiments(size, 2, \"mandelbrot_omp\", repetitions,threads=thread)\n",
    "omp_elephant = parse_results(results_omp_elephant);"
   ]
  },
  {
   "cell_type": "code",
   "execution_count": null,
   "metadata": {},
   "outputs": [],
   "source": [
    "results_omp_seahorse = run_experiments(size, 3, \"mandelbrot_omp\", repetitions,threads=thread)\n",
    "omp_seahorse = parse_results(results_omp_seahorse);"
   ]
  },
  {
   "cell_type": "code",
   "execution_count": null,
   "metadata": {
    "scrolled": false
   },
   "outputs": [],
   "source": [
    "showall(omp_seahorse)"
   ]
  },
  {
   "cell_type": "markdown",
   "metadata": {},
   "source": [
    "## Salvando dados"
   ]
  },
  {
   "cell_type": "code",
   "execution_count": null,
   "metadata": {},
   "outputs": [],
   "source": [
    "using CSV\n",
    "\n",
    "function save_csv_results(results,filename)\n",
    "    println(filename)\n",
    "    CSV.write(filename, results)\n",
    "end\n",
    "using CSV\n",
    "\n",
    "function read_csv_results(filename)\n",
    "    results=CSV.read(filename)\n",
    "    return results\n",
    "end\n"
   ]
  },
  {
   "cell_type": "code",
   "execution_count": null,
   "metadata": {},
   "outputs": [],
   "source": [
    "save_csv_results(results_seq_full,\"results_data/seq_full.csv\")\n",
    "save_csv_results(results_seq_triplespiral,\"data/results_seq_triplespiral.csv\")\n",
    "save_csv_results(results_seq_elephant,\"data/results_seq_elephant.csv\")\n",
    "save_csv_results(results_seq_seahorse,\"data/results_seq_seahorse.csv\");\n",
    "save_csv_results(seq_full,\"data/seq_full.csv\")\n",
    "save_csv_results(seq_triplespiral,\"data/seq_triplespiral.csv\")\n",
    "save_csv_results(seq_elephant,\"data/seq_elephant.csv\")\n",
    "save_csv_results(seq_seahorse,\"data/seq_seahorse.csv\");"
   ]
  },
  {
   "cell_type": "code",
   "execution_count": null,
   "metadata": {},
   "outputs": [],
   "source": [
    "save_csv_results(results_omp_full,\"data/results_omp_full.csv\")\n",
    "save_csv_results(results_omp_triplespiral,\"data/results_omp_triplespiral.csv\")\n",
    "save_csv_results(results_omp_elephant,\"data/results_omp_elephant.csv\")\n",
    "save_csv_results(results_omp_seahorse,\"data/results_omp_seahorse.csv\");\n",
    "save_csv_results(omp_full,\"data/omp_full.csv\")\n",
    "save_csv_results(omp_triplespiral,\"data/omp_triplespiral.csv\")\n",
    "save_csv_results(omp_elephant,\"data/omp_elephant.csv\")\n",
    "save_csv_results(omp_seahorse,\"data/omp_seahorse.csv\");"
   ]
  },
  {
   "cell_type": "code",
   "execution_count": null,
   "metadata": {},
   "outputs": [],
   "source": [
    "save_csv_results(results_pth_full,\"data/results_pth_full.csv\")\n",
    "save_csv_results(results_pth_triplespiral,\"data/results_pth_triplespiral.csv\")\n",
    "save_csv_results(results_pth_elephant,\"data/results_pth_elephant.csv\")\n",
    "save_csv_results(results_pth_seahorse,\"data/results_pth_seahorse.csv\")\n",
    "save_csv_results(pth_full,\"data/pth_full.csv\")\n",
    "save_csv_results(pth_triplespiral,\"data/pth_triplespiral.csv\")\n",
    "save_csv_results(pth_elephant,\"data/pth_elephant.csv\")\n",
    "save_csv_results(pth_seahorse,\"data/pth_seahorse.csv\");"
   ]
  },
  {
   "cell_type": "markdown",
   "metadata": {},
   "source": [
    "# Gráficos comparativos\n",
    "\n",
    "Ao final, teremos os dataframes:\n",
    "\n",
    "|Dataframe | Full | Triple Spiral | Seahorse |\n",
    "|----------|--------|--------|--------|\n",
    "|Sequencial|seq_full|seq_triplespiral|seq_seahorse|\n",
    "|PThreads|pth_full|pth_triplespiral|pth_seahorse|\n",
    "|OpenMP|omp_full|omp_triplespiral|omp_seahorse|"
   ]
  },
  {
   "cell_type": "markdown",
   "metadata": {},
   "source": [
    "Carregando os dataframes gerados, para testes futuros:"
   ]
  },
  {
   "cell_type": "code",
   "execution_count": null,
   "metadata": {},
   "outputs": [],
   "source": [
    "seq_full=read_csv_results(\"data/seq_full.csv\")\n",
    "seq_triplespiral=read_csv_results(\"data/seq_triplespiral.csv\")\n",
    "seq_elephant=read_csv_results(\"data/seq_elephant.csv\")\n",
    "seq_seahorse=read_csv_results(\"data/seq_seahorse.csv\")\n",
    "omp_full=read_csv_results(\"data/omp_full.csv\")\n",
    "omp_triplespiral=read_csv_results(\"data/omp_triplespiral.csv\")\n",
    "omp_elephant=read_csv_results(\"data/omp_elephant.csv\")\n",
    "omp_seahorse=read_csv_results(\"data/omp_seahorse.csv\")\n",
    "pth_full=read_csv_results(\"data/pth_full.csv\")\n",
    "pth_triplespiral=read_csv_results(\"data/pth_triplespiral.csv\")\n",
    "pth_elephant=read_csv_results(\"data/pth_elephant.csv\")\n",
    "pth_seahorse=read_csv_results(\"data/pth_seahorse.csv\");"
   ]
  },
  {
   "cell_type": "code",
   "execution_count": null,
   "metadata": {},
   "outputs": [],
   "source": [
    "results_seq_full=read_csv_results(\"data/results_seq_full.csv\")\n",
    "results_seq_triplespiral=read_csv_results(\"data/results_seq_triplespiral.csv\")\n",
    "results_seq_elephant=read_csv_results(\"data/results_seq_elephant.csv\")\n",
    "results_seq_seahorse=read_csv_results(\"data/results_seq_seahorse.csv\")\n",
    "results_omp_full=read_csv_results(\"data/results_omp_full.csv\")\n",
    "results_omp_triplespiral=read_csv_results(\"data/results_omp_triplespiral.csv\")\n",
    "results_omp_elephant=read_csv_results(\"data/results_omp_elephant.csv\")\n",
    "results_omp_seahorse=read_csv_results(\"data/results_omp_seahorse.csv\")\n",
    "results_pth_full=read_csv_results(\"data/results_pth_full.csv\")\n",
    "results_pth_triplespiral=read_csv_results(\"data/results_pth_triplespiral.csv\")\n",
    "results_pth_elephant=read_csv_results(\"data/results_pth_elephant.csv\")\n",
    "results_pth_seahorse=read_csv_results(\"data/results_pth_seahorse.csv\");"
   ]
  },
  {
   "cell_type": "markdown",
   "metadata": {},
   "source": [
    "Realizaremos os gráficos a partir de partições do dataframe, como mostrados abaixo:"
   ]
  },
  {
   "cell_type": "code",
   "execution_count": null,
   "metadata": {
    "scrolled": false
   },
   "outputs": [],
   "source": [
    "filter(row -> row[:threads] == 1, omp_full)"
   ]
  },
  {
   "cell_type": "code",
   "execution_count": null,
   "metadata": {
    "scrolled": true
   },
   "outputs": [],
   "source": [
    "filter(row -> row[:size] == 16, omp_full)"
   ]
  },
  {
   "cell_type": "code",
   "execution_count": null,
   "metadata": {},
   "outputs": [],
   "source": [
    "filter(row -> row[:size] == 16, omp_full).mean_duration"
   ]
  },
  {
   "cell_type": "markdown",
   "metadata": {},
   "source": [
    "Ideias para os gráficos: \n",
    "> Comparar desempenho por tamanho da imagem ( 5 grafos > para tamanhos das imagens. Cada serie no grafico deve ser uma forma gerar a imagem)\n",
    "\n",
    "> Comparar desempenho por tipo de gráfico produzido ( 3 x 4 gráficos, 4 áreas com 3 tipos de calculo cada / cruzar com tamanho da entrada também? daí seriam 4x 3 x 10)\n",
    "\n",
    "> estou confouzer, me ajudem a saber quais gráficos fazer"
   ]
  },
  {
   "cell_type": "markdown",
   "metadata": {},
   "source": [
    "### Comparando desempenho por região"
   ]
  },
  {
   "cell_type": "markdown",
   "metadata": {},
   "source": [
    "#### Sequencial"
   ]
  },
  {
   "cell_type": "code",
   "execution_count": null,
   "metadata": {},
   "outputs": [],
   "source": [
    "plot_results(seq_full.threads, seq_full.mean_duration, \"Full\", seq_full.ci_duration,\n",
    "    y2 = seq_seahorse.mean_duration, series_label2 = \"Seahorse\", yerror2 = seq_seahorse.ci_duration,\n",
    "    y3 = seq_elephant.mean_duration, series_label3 = \"Elephant\", yerror3 = seq_elephant.ci_duration,\n",
    "    y4 = seq_triplespiral.mean_duration, series_label4 = \"Triple Spiral\", yerror4 = seq_triplespiral.ci_duration)"
   ]
  },
  {
   "cell_type": "markdown",
   "metadata": {},
   "source": [
    "#### OpenMP"
   ]
  },
  {
   "cell_type": "code",
   "execution_count": null,
   "metadata": {
    "scrolled": false
   },
   "outputs": [],
   "source": [
    "plot_results( omp_full.threads, omp_full.mean_duration, \"Full\", omp_full.ci_duration,\n",
    "    y2 = omp_seahorse.mean_duration, series_label2 = \"Seahorse\", yerror2 = omp_seahorse.ci_duration,\n",
    "    y3 = omp_elephant.mean_duration, series_label3 = \"Elephant\", yerror3 = omp_elephant.ci_duration,\n",
    "    y4 = omp_triplespiral.mean_duration, series_label4 = \"Triple Spiral\", yerror4 = omp_triplespiral.ci_duration)"
   ]
  },
  {
   "cell_type": "markdown",
   "metadata": {},
   "source": [
    "#### PThreads"
   ]
  },
  {
   "cell_type": "code",
   "execution_count": null,
   "metadata": {},
   "outputs": [],
   "source": [
    "plot_results(pth_full.threads, pth_full.mean_duration, \"Full\", pth_full.ci_duration,\n",
    "    y2 = pth_seahorse.mean_duration, series_label2 = \"Seahorse\", yerror2 = pth_seahorse.ci_duration,\n",
    "    y3 = pth_elephant.mean_duration, series_label3 = \"Elephant\", yerror3 = pth_elephant.ci_duration,\n",
    "    y4 = pth_triplespiral.mean_duration, series_label4 = \"Triple Spiral\", yerror4 = pth_triplespiral.ci_duration)"
   ]
  },
  {
   "cell_type": "code",
   "execution_count": null,
   "metadata": {},
   "outputs": [],
   "source": [
    "plot_results(\n",
    "    filter(row -> row[:size] == 16, omp_ful0l).threads,\n",
    "    filter(row -> row[:size] == 16, omp_full).mean_duration, \"Full\", \n",
    "    filter(row -> row[:size] == 16, omp_full).ci_duration,\n",
    "    y2 = filter(row -> row[:size] == 32, omp_full).mean_duration,\n",
    "    series_label2 = \"32\", yerror2 = filter(row -> row[:size] == 32, omp_full).ci_duration)"
   ]
  },
  {
   "cell_type": "markdown",
   "metadata": {},
   "source": [
    "### Comparando desempenho por quantidade de threads"
   ]
  },
  {
   "cell_type": "code",
   "execution_count": null,
   "metadata": {},
   "outputs": [],
   "source": [
    "function fazgrafico(filename, label)\n",
    "    \n",
    "    plot_results(filename.threads, filename.mean_duration, label, filename.ci_duration)\n",
    "end   "
   ]
  },
  {
   "cell_type": "code",
   "execution_count": null,
   "metadata": {
    "scrolled": false
   },
   "outputs": [],
   "source": [
    "fazgrafico(pth_full, \"pth_full\")"
   ]
  },
  {
   "cell_type": "code",
   "execution_count": null,
   "metadata": {},
   "outputs": [],
   "source": [
    "fazgrafico(seq_full, \"seq_full\") #, filename2 = seq_seahorse, label2 = \"seq_seahorse\")"
   ]
  },
  {
   "cell_type": "code",
   "execution_count": null,
   "metadata": {},
   "outputs": [],
   "source": [
    "seq_seahorse"
   ]
  },
  {
   "cell_type": "code",
   "execution_count": null,
   "metadata": {},
   "outputs": [],
   "source": [
    "fazgrafico(omp_full, \"omp_full\")\n"
   ]
  },
  {
   "cell_type": "code",
   "execution_count": null,
   "metadata": {},
   "outputs": [],
   "source": [
    "fazgrafico(omp_triplespiral, \"omp_triplespiral\")\n"
   ]
  },
  {
   "cell_type": "code",
   "execution_count": null,
   "metadata": {},
   "outputs": [],
   "source": [
    "fazgrafico(omp_elephant, \"omp_elephant\")\n"
   ]
  },
  {
   "cell_type": "code",
   "execution_count": null,
   "metadata": {},
   "outputs": [],
   "source": [
    "fazgrafico(omp_seahorse, \"omp_seahorse\")"
   ]
  },
  {
   "cell_type": "code",
   "execution_count": null,
   "metadata": {},
   "outputs": [],
   "source": []
  }
 ],
 "metadata": {
  "kernelspec": {
   "display_name": "Julia 1.3.1",
   "language": "julia",
   "name": "julia-1.3"
  },
  "language_info": {
   "file_extension": ".jl",
   "mimetype": "application/julia",
   "name": "julia",
   "version": "1.3.1"
  }
 },
 "nbformat": 4,
 "nbformat_minor": 4
}
