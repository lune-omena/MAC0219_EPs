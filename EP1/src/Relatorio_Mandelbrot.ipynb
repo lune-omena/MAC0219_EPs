{
 "cells": [
  {
   "cell_type": "markdown",
   "metadata": {},
   "source": [
    "# EP1 - Conjunto de Maldelbrot e paralelização com pThreads e OpenMP\n",
    "\n",
    "| Nome | NUSP |\n",
    "|------|------|\n",
    "| Giulia C. de Nardi | 10692203 |\n",
    "| Vitor D. Tamae | 10705620 |\n",
    "| Lucy Anne de Omena Evangelista | 11221776 |\n",
    "| Leonardo Costa Santos | 10783142 |\n",
    "| Alexandre Muller Jones | 8038149 |\n"
   ]
  },
  {
   "cell_type": "markdown",
   "metadata": {},
   "source": [
    "INFORMAÇÔES SOBRE O DESENVOLVIMENTO DO RELATÓRIO:\n",
    "\n",
    "- **Para o caso dos mandelbrot paralelizados, podemos ter dois tempos como saída: o considerando o tempo de alocação de memória e I/O, e o tempo não considerando esses fatores. Ainda não implementado para a realização das funções, mas de fácil ajuste nas funções feitas neste notebook.**\n"
   ]
  },
  {
   "cell_type": "markdown",
   "metadata": {},
   "source": [
    "## Configuração do ambiente\n",
    "\n",
    "Atualizando os pacotes Julia"
   ]
  },
  {
   "cell_type": "code",
   "execution_count": 1,
   "metadata": {},
   "outputs": [
    {
     "name": "stdout",
     "output_type": "stream",
     "text": [
      "\u001b[32m\u001b[1m  Updating\u001b[22m\u001b[39m registry at `~/.julia/registries/General`\n",
      "\u001b[32m\u001b[1m  Updating\u001b[22m\u001b[39m git-repo `https://github.com/JuliaRegistries/General.git`\n",
      "\u001b[2K\u001b[?25h[1mFetching:\u001b[22m\u001b[39m [========================================>]  100.0 %.0 %\u001b[36m\u001b[1mFetching:\u001b[22m\u001b[39m [==================>                      ]  45.0 %\u001b[32m\u001b[1m Resolving\u001b[22m\u001b[39m package versions...\n",
      "\u001b[32m\u001b[1m Installed\u001b[22m\u001b[39m Zlib_jll ────────── v1.2.11+10\n",
      "\u001b[32m\u001b[1m Installed\u001b[22m\u001b[39m Plots ───────────── v1.3.0\n",
      "\u001b[32m\u001b[1m Installed\u001b[22m\u001b[39m CategoricalArrays ─ v0.8.1\n",
      "\u001b[32m\u001b[1m  Updating\u001b[22m\u001b[39m `~/.julia/environments/v1.3/Project.toml`\n",
      "\u001b[90m [no changes]\u001b[39m\n",
      "\u001b[32m\u001b[1m  Updating\u001b[22m\u001b[39m `~/.julia/environments/v1.3/Manifest.toml`\n",
      " \u001b[90m [324d7699]\u001b[39m\u001b[93m ↑ CategoricalArrays v0.8.0 ⇒ v0.8.1\u001b[39m\n",
      " \u001b[90m [91a5bcdd]\u001b[39m\u001b[93m ↑ Plots v1.2.6 ⇒ v1.3.0\u001b[39m\n",
      " \u001b[90m [83775a58]\u001b[39m\u001b[93m ↑ Zlib_jll v1.2.11+9 ⇒ v1.2.11+10\u001b[39m\n",
      "\u001b[32m\u001b[1m  Building\u001b[22m\u001b[39m Plots → `~/.julia/packages/Plots/yuTb4/deps/build.log`\n"
     ]
    }
   ],
   "source": [
    "] up"
   ]
  },
  {
   "cell_type": "markdown",
   "metadata": {},
   "source": [
    "Verificando o status dos pacotes, e se há algum problema, com o comando:"
   ]
  },
  {
   "cell_type": "code",
   "execution_count": 2,
   "metadata": {},
   "outputs": [
    {
     "name": "stdout",
     "output_type": "stream",
     "text": [
      "\u001b[32m\u001b[1m    Status\u001b[22m\u001b[39m `~/.julia/environments/v1.3/Project.toml`\n",
      " \u001b[90m [336ed68f]\u001b[39m\u001b[37m CSV v0.6.2\u001b[39m\n",
      " \u001b[90m [a93c6f00]\u001b[39m\u001b[37m DataFrames v0.21.0\u001b[39m\n",
      " \u001b[90m [31c24e10]\u001b[39m\u001b[37m Distributions v0.23.2\u001b[39m\n",
      " \u001b[90m [7073ff75]\u001b[39m\u001b[37m IJulia v1.21.2\u001b[39m\n",
      " \u001b[90m [b964fa9f]\u001b[39m\u001b[37m LaTeXStrings v1.1.0\u001b[39m\n",
      " \u001b[90m [8314cec4]\u001b[39m\u001b[37m PGFPlotsX v1.2.6\u001b[39m\n",
      " \u001b[90m [1a8c2f83]\u001b[39m\u001b[37m Query v0.12.2\u001b[39m\n",
      " \u001b[90m [f3b207a7]\u001b[39m\u001b[37m StatsPlots v0.14.6\u001b[39m\n"
     ]
    }
   ],
   "source": [
    "] st"
   ]
  },
  {
   "cell_type": "markdown",
   "metadata": {},
   "source": [
    "## Funções para realização dos experimentos"
   ]
  },
  {
   "cell_type": "code",
   "execution_count": 3,
   "metadata": {},
   "outputs": [
    {
     "name": "stdout",
     "output_type": "stream",
     "text": [
      "cc     mandelbrot_seq.c   -o mandelbrot_seq\n"
     ]
    }
   ],
   "source": [
    "; make mandelbrot_seq"
   ]
  },
  {
   "cell_type": "code",
   "execution_count": 4,
   "metadata": {
    "scrolled": false
   },
   "outputs": [
    {
     "name": "stdout",
     "output_type": "stream",
     "text": [
      "usage: ./mandelbrot_seq c_x_min c_x_max c_y_min c_y_max image_size\n",
      "examples with image_size = 11500:\n",
      "    Full Picture:         ./mandelbrot_seq -2.5 1.5 -2.0 2.0 11500\n",
      "    Seahorse Valley:      ./mandelbrot_seq -0.8 -0.7 0.05 0.15 11500\n",
      "    Elephant Valley:      ./mandelbrot_seq 0.175 0.375 -0.1 0.1 11500\n",
      "    Triple Spiral Valley: ./mandelbrot_seq -0.188 -0.012 0.554 0.754 11500\n"
     ]
    }
   ],
   "source": [
    "; ./mandelbrot_seq"
   ]
  },
  {
   "cell_type": "code",
   "execution_count": 5,
   "metadata": {},
   "outputs": [
    {
     "name": "stdout",
     "output_type": "stream",
     "text": [
      "0.041428\n"
     ]
    }
   ],
   "source": [
    "; ./mandelbrot_seq 0.175 0.375 -0.1 0.1 200 0"
   ]
  },
  {
   "cell_type": "markdown",
   "metadata": {},
   "source": [
    "A função abaixo recebe parâmetros `size`, com o tamanho da imagem, `f`, com a id do tupo de fractal a ser feito (0 - Full, 2 - Triple Spiral, 3 - Elephant, 4 - Seahorse), `mandel`, com o nome da função a ser executada (`./mandelbrot_seq`, `./mandelbrot_opm`, `./mandelbrot_pth`),e `threads`, com o número de threads do programa paralelo. A função executa o programa `mandelbrot` com os parâmetros dados e devolve um `DataFrame` com os resultados."
   ]
  },
  {
   "cell_type": "code",
   "execution_count": 6,
   "metadata": {},
   "outputs": [
    {
     "name": "stderr",
     "output_type": "stream",
     "text": [
      "┌ Info: Precompiling DataFrames [a93c6f00-e57d-5684-b7b6-d8193f3e46c0]\n",
      "└ @ Base loading.jl:1273\n",
      "┌ Info: Precompiling StatsPlots [f3b207a7-027a-5e70-b257-86293d7955fd]\n",
      "└ @ Base loading.jl:1273\n"
     ]
    },
    {
     "data": {
      "text/plain": [
       "measure_mandelbrot (generic function with 1 method)"
      ]
     },
     "execution_count": 6,
     "metadata": {},
     "output_type": "execute_result"
    }
   ],
   "source": [
    "using DataFrames, Query, StatsPlots, Statistics\n",
    "\n",
    "function measure_mandelbrot(size, f, mandel; thread = 0)    \n",
    "    if f == 0  mode = `-2.5 1.5 -2.0 2.0` #full\n",
    "    elseif f == 1  mode = `-0.188 -0.012 0.554 0.754` #triple spiral\n",
    "    elseif f == 2  mode = `0.175 0.375 -0.1 0.1` # elephant\n",
    "    elseif f == 3  mode = `-0.8 -0.7 0.05 0.15` #seahorse\n",
    "    end\n",
    "    \n",
    "    if thread != 0 \n",
    "    results = parse.(Float64,\n",
    "        read(`./$mandel $mode $size $thread`, String))\n",
    "    else\n",
    "    results = parse.(Float64,\n",
    "        read(`./$mandel $mode $size`, String))\n",
    "    end\n",
    "        \n",
    "    return DataFrame(size = size,\n",
    "        f = f,\n",
    "        threads = thread,\n",
    "        duration = results[1])\n",
    "end"
   ]
  },
  {
   "cell_type": "markdown",
   "metadata": {},
   "source": [
    "A função `run_experiments` recebe os mesmos parâmetros `size`, `f`,`mandel` e `threads`, e um parâmetro adicional `repetitions`, com o número de repetições de cada experimento com um dado número de `threads`. A função devolve um `DataFrame` com todos os experimentos."
   ]
  },
  {
   "cell_type": "code",
   "execution_count": 7,
   "metadata": {},
   "outputs": [
    {
     "data": {
      "text/plain": [
       "run_experiments (generic function with 1 method)"
      ]
     },
     "execution_count": 7,
     "metadata": {},
     "output_type": "execute_result"
    }
   ],
   "source": [
    "function run_experiments(size, f, mandel, repetitions; threads = [])\n",
    "    run(`make $mandel`)\n",
    "    \n",
    "    results = DataFrame(size = Int[],\n",
    "        f = Int[],\n",
    "        threads = Int[],\n",
    "        duration = Float64[]) \n",
    "    \n",
    "    if threads != []\n",
    "    for t in threads\n",
    "        for s in size\n",
    "        for r in 1:repetitions\n",
    "            append!(results,\n",
    "                measure_mandelbrot(s, f, mandel, thread = t))    \n",
    "        end\n",
    "        end\n",
    "    end\n",
    "    else\n",
    "        for r in 1:repetitions\n",
    "        for s in size\n",
    "            append!(results,\n",
    "                measure_mandelbrot(s, f, mandel))    \n",
    "        end\n",
    "        end\n",
    "    end \n",
    "    \n",
    "    return results\n",
    "end"
   ]
  },
  {
   "cell_type": "markdown",
   "metadata": {},
   "source": [
    "A função `parse_results` recebe um `DataFrame` de resultados, produzido pela função `run_experiments`. A função devolve um `DataFrame` com a média e o intervalo de confiança da média a 95% dos tempos de execução, agrupados por número de threads."
   ]
  },
  {
   "cell_type": "code",
   "execution_count": 8,
   "metadata": {},
   "outputs": [
    {
     "data": {
      "text/plain": [
       "parse_results (generic function with 1 method)"
      ]
     },
     "execution_count": 8,
     "metadata": {},
     "output_type": "execute_result"
    }
   ],
   "source": [
    "function parse_results(results)\n",
    "    parsed_results = results |>\n",
    "                    @groupby({_.threads,_.size}) |>\n",
    "                    @map({threads = key(_).threads,\n",
    "                          size = _.size[1],\n",
    "                          mean_duration = mean(_.duration),\n",
    "                          ci_duration = 1.96 * std(_.duration)}) |>\n",
    "                    DataFrame\n",
    "    \n",
    "    return parsed_results\n",
    "end"
   ]
  },
  {
   "cell_type": "markdown",
   "metadata": {},
   "source": [
    "## Funções para traçar gráficos"
   ]
  },
  {
   "cell_type": "markdown",
   "metadata": {},
   "source": [
    "A função abaixo permite que sejam traçadas até 5 séries de dados em um mesmo gráfico do tipo scatter."
   ]
  },
  {
   "cell_type": "code",
   "execution_count": 9,
   "metadata": {},
   "outputs": [
    {
     "name": "stderr",
     "output_type": "stream",
     "text": [
      "┌ Info: Precompiling PGFPlotsX [8314cec4-20b6-5062-9cdb-752b83310925]\n",
      "└ @ Base loading.jl:1273\n",
      "┌ Info: Precompiling Contour [d38c429a-6771-53c6-b99e-75d170b6e991]\n",
      "└ @ Base loading.jl:1273\n"
     ]
    },
    {
     "data": {
      "text/plain": [
       "plot_results (generic function with 1 method)"
      ]
     },
     "execution_count": 9,
     "metadata": {},
     "output_type": "execute_result"
    }
   ],
   "source": [
    "pgfplotsx()\n",
    "\n",
    "function plot_results(x, y, series_label, yerror; y2 = [], series_label2 = [], yerror2 = [], \n",
    "        y3 = [], series_label3 = [], yerror3 = [], y4 = [], series_label4 = [], yerror4 = [],\n",
    "        y5 = [], series_label5 = [], yerror5 = [])\n",
    "    max_thread_power = 5\n",
    "    \n",
    "    p = scatter(x, y, xaxis = :log2, xlabel = \"Threads\", xticks = [2 ^ x for x in 0:max_thread_power],\n",
    "        yerror = yerror, alpha = 0.6, \n",
    "        labels = series_label, legend = :bottomright)\n",
    "    \n",
    "    if y2 != []\n",
    "        p = scatter!(x, y2, xaxis = :log2, xticks = [2 ^ x for x in 0:max_thread_power],\n",
    "            yerror = yerror2, alpha = 0.6,\n",
    "            labels = series_label2, legend = :bottomright)\n",
    "    end\n",
    "    if y3 != []\n",
    "        p = scatter!(x, y3, xaxis = :log2, xticks = [2 ^ x for x in 0:max_thread_power],\n",
    "            yerror = yerror3, alpha = 0.6,\n",
    "            labels = series_label3, legend = :bottomright)\n",
    "    end\n",
    "    if y4 != []\n",
    "        p = scatter!(x, y4, xaxis = :log2, xticks = [2 ^ x for x in 0:max_thread_power],\n",
    "            yerror = yerror4, alpha = 0.6,\n",
    "            labels = series_label4, legend = :bottomright)\n",
    "    end\n",
    "    if y5 != []\n",
    "        p = scatter!(x, y5, xaxis = :log2, xticks = [2 ^ x for x in 0:max_thread_power],\n",
    "            yerror = yerror5, alpha = 0.6,\n",
    "            labels = series_label5, legend = :bottomright)\n",
    "    end\n",
    "    \n",
    "    return p\n",
    "end"
   ]
  },
  {
   "cell_type": "markdown",
   "metadata": {},
   "source": [
    "## Condições para os experimentos"
   ]
  },
  {
   "cell_type": "code",
   "execution_count": 10,
   "metadata": {},
   "outputs": [],
   "source": [
    "size = [2 ^ x for x in 4:13]\n",
    "thread = [2 ^ x for x in 0:5]\n",
    "repetitions = 10;"
   ]
  },
  {
   "cell_type": "markdown",
   "metadata": {},
   "source": [
    "## Mandelbrot sequencial"
   ]
  },
  {
   "cell_type": "markdown",
   "metadata": {},
   "source": [
    "Nesta parte, traremos a execução do maldelbrot em sua versão sequencial, junto com a análise de tempo de execução para os diferentes tipo de fractais (Triple Spiral, Elephant, Seahorse & Full) e em diferentes resoluções ($ 2^4 \\cdots 2^{13}$)"
   ]
  },
  {
   "cell_type": "markdown",
   "metadata": {},
   "source": [
    "Realizando as medições para o mandelbrot sequencial:"
   ]
  },
  {
   "cell_type": "code",
   "execution_count": 11,
   "metadata": {},
   "outputs": [
    {
     "name": "stdout",
     "output_type": "stream",
     "text": [
      "make: 'mandelbrot_seq' is up to date.\n"
     ]
    },
    {
     "data": {
      "text/html": [
       "<table class=\"data-frame\"><thead><tr><th></th><th>threads</th><th>size</th><th>mean_duration</th><th>ci_duration</th></tr><tr><th></th><th>Int64</th><th>Int64</th><th>Float64</th><th>Float64</th></tr></thead><tbody><p>10 rows × 4 columns</p><tr><th>1</th><td>0</td><td>16</td><td>8.81e-5</td><td>3.21457e-5</td></tr><tr><th>2</th><td>0</td><td>32</td><td>0.0003463</td><td>0.000308654</td></tr><tr><th>3</th><td>0</td><td>64</td><td>0.0011882</td><td>0.000462979</td></tr><tr><th>4</th><td>0</td><td>128</td><td>0.0045518</td><td>0.00183678</td></tr><tr><th>5</th><td>0</td><td>256</td><td>0.0179811</td><td>0.00800325</td></tr><tr><th>6</th><td>0</td><td>512</td><td>0.0663697</td><td>0.0391323</td></tr><tr><th>7</th><td>0</td><td>1024</td><td>0.265033</td><td>0.16082</td></tr><tr><th>8</th><td>0</td><td>2048</td><td>0.776764</td><td>0.411441</td></tr><tr><th>9</th><td>0</td><td>4096</td><td>3.04184</td><td>1.38216</td></tr><tr><th>10</th><td>0</td><td>8192</td><td>12.5016</td><td>2.24545</td></tr></tbody></table>"
      ],
      "text/latex": [
       "\\begin{tabular}{r|cccc}\n",
       "\t& threads & size & mean\\_duration & ci\\_duration\\\\\n",
       "\t\\hline\n",
       "\t& Int64 & Int64 & Float64 & Float64\\\\\n",
       "\t\\hline\n",
       "\t1 & 0 & 16 & 8.81e-5 & 3.21457e-5 \\\\\n",
       "\t2 & 0 & 32 & 0.0003463 & 0.000308654 \\\\\n",
       "\t3 & 0 & 64 & 0.0011882 & 0.000462979 \\\\\n",
       "\t4 & 0 & 128 & 0.0045518 & 0.00183678 \\\\\n",
       "\t5 & 0 & 256 & 0.0179811 & 0.00800325 \\\\\n",
       "\t6 & 0 & 512 & 0.0663697 & 0.0391323 \\\\\n",
       "\t7 & 0 & 1024 & 0.265033 & 0.16082 \\\\\n",
       "\t8 & 0 & 2048 & 0.776764 & 0.411441 \\\\\n",
       "\t9 & 0 & 4096 & 3.04184 & 1.38216 \\\\\n",
       "\t10 & 0 & 8192 & 12.5016 & 2.24545 \\\\\n",
       "\\end{tabular}\n"
      ],
      "text/plain": [
       "10×4 DataFrame\n",
       "│ Row │ threads │ size  │ mean_duration │ ci_duration │\n",
       "│     │ \u001b[90mInt64\u001b[39m   │ \u001b[90mInt64\u001b[39m │ \u001b[90mFloat64\u001b[39m       │ \u001b[90mFloat64\u001b[39m     │\n",
       "├─────┼─────────┼───────┼───────────────┼─────────────┤\n",
       "│ 1   │ 0       │ 16    │ 8.81e-5       │ 3.21457e-5  │\n",
       "│ 2   │ 0       │ 32    │ 0.0003463     │ 0.000308654 │\n",
       "│ 3   │ 0       │ 64    │ 0.0011882     │ 0.000462979 │\n",
       "│ 4   │ 0       │ 128   │ 0.0045518     │ 0.00183678  │\n",
       "│ 5   │ 0       │ 256   │ 0.0179811     │ 0.00800325  │\n",
       "│ 6   │ 0       │ 512   │ 0.0663697     │ 0.0391323   │\n",
       "│ 7   │ 0       │ 1024  │ 0.265033      │ 0.16082     │\n",
       "│ 8   │ 0       │ 2048  │ 0.776764      │ 0.411441    │\n",
       "│ 9   │ 0       │ 4096  │ 3.04184       │ 1.38216     │\n",
       "│ 10  │ 0       │ 8192  │ 12.5016       │ 2.24545     │"
      ]
     },
     "execution_count": 11,
     "metadata": {},
     "output_type": "execute_result"
    }
   ],
   "source": [
    "results = run_experiments(size, 0, \"mandelbrot_seq\", repetitions)\n",
    "seq_full = parse_results(results)"
   ]
  },
  {
   "cell_type": "code",
   "execution_count": 12,
   "metadata": {},
   "outputs": [
    {
     "name": "stdout",
     "output_type": "stream",
     "text": [
      "make: 'mandelbrot_seq' is up to date.\n"
     ]
    },
    {
     "ename": "ProcessFailedException",
     "evalue": "failed process: Process(`./mandelbrot_seq -0.188 -0.012 0.554 0.754 8192`, ProcessSignaled(2)) [0]\n",
     "output_type": "error",
     "traceback": [
      "failed process: Process(`./mandelbrot_seq -0.188 -0.012 0.554 0.754 8192`, ProcessSignaled(2)) [0]\n",
      "",
      "Stacktrace:",
      " [1] pipeline_error at ./process.jl:525 [inlined]",
      " [2] read(::Cmd) at ./process.jl:412",
      " [3] read(::Cmd, ::Type{String}) at ./process.jl:421",
      " [4] #measure_mandelbrot#3(::Int64, ::typeof(measure_mandelbrot), ::Int64, ::Int64, ::String) at ./In[6]:14",
      " [5] measure_mandelbrot at ./In[6]:4 [inlined]",
      " [6] #run_experiments#4(::Array{Any,1}, ::typeof(run_experiments), ::Array{Int64,1}, ::Int64, ::String, ::Int64) at ./In[7]:21",
      " [7] run_experiments(::Array{Int64,1}, ::Int64, ::String, ::Int64) at ./In[7]:2",
      " [8] top-level scope at In[12]:1"
     ]
    }
   ],
   "source": [
    "results = run_experiments(size, 1, \"mandelbrot_seq\", repetitions)\n",
    "seq_triplespiral = parse_results(results);"
   ]
  },
  {
   "cell_type": "code",
   "execution_count": 13,
   "metadata": {},
   "outputs": [
    {
     "name": "stdout",
     "output_type": "stream",
     "text": [
      "make: 'mandelbrot_seq' is up to date.\n"
     ]
    },
    {
     "ename": "ProcessFailedException",
     "evalue": "failed process: Process(`./mandelbrot_seq 0.175 0.375 -0.1 0.1 2048`, ProcessSignaled(2)) [0]\n",
     "output_type": "error",
     "traceback": [
      "failed process: Process(`./mandelbrot_seq 0.175 0.375 -0.1 0.1 2048`, ProcessSignaled(2)) [0]\n",
      "",
      "Stacktrace:",
      " [1] pipeline_error at ./process.jl:525 [inlined]",
      " [2] read(::Cmd) at ./process.jl:412",
      " [3] read(::Cmd, ::Type{String}) at ./process.jl:421",
      " [4] #measure_mandelbrot#3(::Int64, ::typeof(measure_mandelbrot), ::Int64, ::Int64, ::String) at ./In[6]:14",
      " [5] measure_mandelbrot at ./In[6]:4 [inlined]",
      " [6] #run_experiments#4(::Array{Any,1}, ::typeof(run_experiments), ::Array{Int64,1}, ::Int64, ::String, ::Int64) at ./In[7]:21",
      " [7] run_experiments(::Array{Int64,1}, ::Int64, ::String, ::Int64) at ./In[7]:2",
      " [8] top-level scope at In[13]:1"
     ]
    }
   ],
   "source": [
    "results = run_experiments(size, 2, \"mandelbrot_seq\", repetitions)\n",
    "seq_elephant = parse_results(results);"
   ]
  },
  {
   "cell_type": "code",
   "execution_count": 14,
   "metadata": {},
   "outputs": [
    {
     "name": "stdout",
     "output_type": "stream",
     "text": [
      "make: 'mandelbrot_seq' is up to date.\n"
     ]
    },
    {
     "ename": "ProcessFailedException",
     "evalue": "failed process: Process(`./mandelbrot_seq -0.8 -0.7 0.05 0.15 2048`, ProcessSignaled(2)) [0]\n",
     "output_type": "error",
     "traceback": [
      "failed process: Process(`./mandelbrot_seq -0.8 -0.7 0.05 0.15 2048`, ProcessSignaled(2)) [0]\n",
      "",
      "Stacktrace:",
      " [1] pipeline_error at ./process.jl:525 [inlined]",
      " [2] read(::Cmd) at ./process.jl:412",
      " [3] read(::Cmd, ::Type{String}) at ./process.jl:421",
      " [4] #measure_mandelbrot#3(::Int64, ::typeof(measure_mandelbrot), ::Int64, ::Int64, ::String) at ./In[6]:14",
      " [5] measure_mandelbrot at ./In[6]:4 [inlined]",
      " [6] #run_experiments#4(::Array{Any,1}, ::typeof(run_experiments), ::Array{Int64,1}, ::Int64, ::String, ::Int64) at ./In[7]:21",
      " [7] run_experiments(::Array{Int64,1}, ::Int64, ::String, ::Int64) at ./In[7]:2",
      " [8] top-level scope at In[14]:1"
     ]
    }
   ],
   "source": [
    "results = run_experiments(size, 3, \"mandelbrot_seq\", repetitions)\n",
    "seq_seahorse = parse_results(results);"
   ]
  },
  {
   "cell_type": "markdown",
   "metadata": {},
   "source": [
    "## Mandelbrot com pthreads"
   ]
  },
  {
   "cell_type": "code",
   "execution_count": 31,
   "metadata": {
    "scrolled": false
   },
   "outputs": [
    {
     "name": "stdout",
     "output_type": "stream",
     "text": [
      "make: 'mandelbrot_pth' is up to date.\n"
     ]
    },
    {
     "data": {
      "text/html": [
       "<table class=\"data-frame\"><thead><tr><th></th><th>threads</th><th>size</th><th>mean_duration</th><th>ci_duration</th></tr><tr><th></th><th>Int64</th><th>Int64</th><th>Float64</th><th>Float64</th></tr></thead><tbody><p>60 rows × 4 columns</p><tr><th>1</th><td>1</td><td>16</td><td>0.0001323</td><td>3.90587e-5</td></tr><tr><th>2</th><td>1</td><td>32</td><td>0.0002998</td><td>8.53234e-5</td></tr><tr><th>3</th><td>1</td><td>64</td><td>0.0008287</td><td>3.88945e-5</td></tr><tr><th>4</th><td>1</td><td>128</td><td>0.0028507</td><td>0.000102571</td></tr><tr><th>5</th><td>1</td><td>256</td><td>0.0098278</td><td>0.00131417</td></tr><tr><th>6</th><td>1</td><td>512</td><td>0.038357</td><td>0.00219532</td></tr><tr><th>7</th><td>1</td><td>1024</td><td>0.144756</td><td>0.00586807</td></tr><tr><th>8</th><td>1</td><td>2048</td><td>0.796659</td><td>0.531016</td></tr><tr><th>9</th><td>1</td><td>4096</td><td>3.51485</td><td>1.18519</td></tr><tr><th>10</th><td>1</td><td>8192</td><td>12.5226</td><td>1.90505</td></tr><tr><th>11</th><td>2</td><td>16</td><td>0.0001621</td><td>5.11227e-5</td></tr><tr><th>12</th><td>2</td><td>32</td><td>0.0002224</td><td>1.40185e-5</td></tr><tr><th>13</th><td>2</td><td>64</td><td>0.0004902</td><td>2.68551e-5</td></tr><tr><th>14</th><td>2</td><td>128</td><td>0.0015714</td><td>1.73644e-5</td></tr><tr><th>15</th><td>2</td><td>256</td><td>0.0057481</td><td>5.15219e-5</td></tr><tr><th>16</th><td>2</td><td>512</td><td>0.0191319</td><td>0.000976096</td></tr><tr><th>17</th><td>2</td><td>1024</td><td>0.0731807</td><td>0.0018271</td></tr><tr><th>18</th><td>2</td><td>2048</td><td>0.418545</td><td>0.336499</td></tr><tr><th>19</th><td>2</td><td>4096</td><td>1.65032</td><td>0.555727</td></tr><tr><th>20</th><td>2</td><td>8192</td><td>8.02584</td><td>2.91939</td></tr><tr><th>21</th><td>4</td><td>16</td><td>0.0006306</td><td>0.00170331</td></tr><tr><th>22</th><td>4</td><td>32</td><td>0.0003444</td><td>0.000263743</td></tr><tr><th>23</th><td>4</td><td>64</td><td>0.0007383</td><td>0.000792135</td></tr><tr><th>24</th><td>4</td><td>128</td><td>0.0018598</td><td>0.000317396</td></tr><tr><th>25</th><td>4</td><td>256</td><td>0.0061971</td><td>0.00149711</td></tr><tr><th>26</th><td>4</td><td>512</td><td>0.0245312</td><td>0.00154823</td></tr><tr><th>27</th><td>4</td><td>1024</td><td>0.0926898</td><td>0.0125393</td></tr><tr><th>28</th><td>4</td><td>2048</td><td>0.35615</td><td>0.0270402</td></tr><tr><th>29</th><td>4</td><td>4096</td><td>1.40263</td><td>0.0670771</td></tr><tr><th>30</th><td>4</td><td>8192</td><td>5.5198</td><td>0.35195</td></tr><tr><th>&vellip;</th><td>&vellip;</td><td>&vellip;</td><td>&vellip;</td><td>&vellip;</td></tr></tbody></table>"
      ],
      "text/latex": [
       "\\begin{tabular}{r|cccc}\n",
       "\t& threads & size & mean\\_duration & ci\\_duration\\\\\n",
       "\t\\hline\n",
       "\t& Int64 & Int64 & Float64 & Float64\\\\\n",
       "\t\\hline\n",
       "\t1 & 1 & 16 & 0.0001323 & 3.90587e-5 \\\\\n",
       "\t2 & 1 & 32 & 0.0002998 & 8.53234e-5 \\\\\n",
       "\t3 & 1 & 64 & 0.0008287 & 3.88945e-5 \\\\\n",
       "\t4 & 1 & 128 & 0.0028507 & 0.000102571 \\\\\n",
       "\t5 & 1 & 256 & 0.0098278 & 0.00131417 \\\\\n",
       "\t6 & 1 & 512 & 0.038357 & 0.00219532 \\\\\n",
       "\t7 & 1 & 1024 & 0.144756 & 0.00586807 \\\\\n",
       "\t8 & 1 & 2048 & 0.796659 & 0.531016 \\\\\n",
       "\t9 & 1 & 4096 & 3.51485 & 1.18519 \\\\\n",
       "\t10 & 1 & 8192 & 12.5226 & 1.90505 \\\\\n",
       "\t11 & 2 & 16 & 0.0001621 & 5.11227e-5 \\\\\n",
       "\t12 & 2 & 32 & 0.0002224 & 1.40185e-5 \\\\\n",
       "\t13 & 2 & 64 & 0.0004902 & 2.68551e-5 \\\\\n",
       "\t14 & 2 & 128 & 0.0015714 & 1.73644e-5 \\\\\n",
       "\t15 & 2 & 256 & 0.0057481 & 5.15219e-5 \\\\\n",
       "\t16 & 2 & 512 & 0.0191319 & 0.000976096 \\\\\n",
       "\t17 & 2 & 1024 & 0.0731807 & 0.0018271 \\\\\n",
       "\t18 & 2 & 2048 & 0.418545 & 0.336499 \\\\\n",
       "\t19 & 2 & 4096 & 1.65032 & 0.555727 \\\\\n",
       "\t20 & 2 & 8192 & 8.02584 & 2.91939 \\\\\n",
       "\t21 & 4 & 16 & 0.0006306 & 0.00170331 \\\\\n",
       "\t22 & 4 & 32 & 0.0003444 & 0.000263743 \\\\\n",
       "\t23 & 4 & 64 & 0.0007383 & 0.000792135 \\\\\n",
       "\t24 & 4 & 128 & 0.0018598 & 0.000317396 \\\\\n",
       "\t25 & 4 & 256 & 0.0061971 & 0.00149711 \\\\\n",
       "\t26 & 4 & 512 & 0.0245312 & 0.00154823 \\\\\n",
       "\t27 & 4 & 1024 & 0.0926898 & 0.0125393 \\\\\n",
       "\t28 & 4 & 2048 & 0.35615 & 0.0270402 \\\\\n",
       "\t29 & 4 & 4096 & 1.40263 & 0.0670771 \\\\\n",
       "\t30 & 4 & 8192 & 5.5198 & 0.35195 \\\\\n",
       "\t$\\dots$ & $\\dots$ & $\\dots$ & $\\dots$ & $\\dots$ \\\\\n",
       "\\end{tabular}\n"
      ],
      "text/plain": [
       "60×4 DataFrame\n",
       "│ Row │ threads │ size  │ mean_duration │ ci_duration │\n",
       "│     │ \u001b[90mInt64\u001b[39m   │ \u001b[90mInt64\u001b[39m │ \u001b[90mFloat64\u001b[39m       │ \u001b[90mFloat64\u001b[39m     │\n",
       "├─────┼─────────┼───────┼───────────────┼─────────────┤\n",
       "│ 1   │ 1       │ 16    │ 0.0001323     │ 3.90587e-5  │\n",
       "│ 2   │ 1       │ 32    │ 0.0002998     │ 8.53234e-5  │\n",
       "│ 3   │ 1       │ 64    │ 0.0008287     │ 3.88945e-5  │\n",
       "│ 4   │ 1       │ 128   │ 0.0028507     │ 0.000102571 │\n",
       "│ 5   │ 1       │ 256   │ 0.0098278     │ 0.00131417  │\n",
       "│ 6   │ 1       │ 512   │ 0.038357      │ 0.00219532  │\n",
       "│ 7   │ 1       │ 1024  │ 0.144756      │ 0.00586807  │\n",
       "│ 8   │ 1       │ 2048  │ 0.796659      │ 0.531016    │\n",
       "│ 9   │ 1       │ 4096  │ 3.51485       │ 1.18519     │\n",
       "│ 10  │ 1       │ 8192  │ 12.5226       │ 1.90505     │\n",
       "⋮\n",
       "│ 50  │ 16      │ 8192  │ 4.06328       │ 0.496504    │\n",
       "│ 51  │ 32      │ 16    │ 0.0006459     │ 0.000283297 │\n",
       "│ 52  │ 32      │ 32    │ 0.0006288     │ 0.00024813  │\n",
       "│ 53  │ 32      │ 64    │ 0.000614      │ 8.14652e-5  │\n",
       "│ 54  │ 32      │ 128   │ 0.0010529     │ 0.000311152 │\n",
       "│ 55  │ 32      │ 256   │ 0.0029215     │ 0.00250953  │\n",
       "│ 56  │ 32      │ 512   │ 0.007751      │ 0.000594137 │\n",
       "│ 57  │ 32      │ 1024  │ 0.0424939     │ 0.0289685   │\n",
       "│ 58  │ 32      │ 2048  │ 0.225961      │ 0.00169376  │\n",
       "│ 59  │ 32      │ 4096  │ 0.666075      │ 0.447116    │\n",
       "│ 60  │ 32      │ 8192  │ 2.766         │ 1.17819     │"
      ]
     },
     "execution_count": 31,
     "metadata": {},
     "output_type": "execute_result"
    }
   ],
   "source": [
    "results = run_experiments(size, 0, \"mandelbrot_pth\", repetitions,threads=thread)\n",
    "pth_full = parse_results(results)"
   ]
  },
  {
   "cell_type": "code",
   "execution_count": 32,
   "metadata": {},
   "outputs": [
    {
     "name": "stdout",
     "output_type": "stream",
     "text": [
      "60×4 DataFrame\n",
      "│ Row │ threads │ size  │ mean_duration │ ci_duration │\n",
      "│     │ \u001b[90mInt64\u001b[39m   │ \u001b[90mInt64\u001b[39m │ \u001b[90mFloat64\u001b[39m       │ \u001b[90mFloat64\u001b[39m     │\n",
      "├─────┼─────────┼───────┼───────────────┼─────────────┤\n",
      "│ 1   │ 1       │ 16    │ 0.0001323     │ 3.90587e-5  │\n",
      "│ 2   │ 1       │ 32    │ 0.0002998     │ 8.53234e-5  │\n",
      "│ 3   │ 1       │ 64    │ 0.0008287     │ 3.88945e-5  │\n",
      "│ 4   │ 1       │ 128   │ 0.0028507     │ 0.000102571 │\n",
      "│ 5   │ 1       │ 256   │ 0.0098278     │ 0.00131417  │\n",
      "│ 6   │ 1       │ 512   │ 0.038357      │ 0.00219532  │\n",
      "│ 7   │ 1       │ 1024  │ 0.144756      │ 0.00586807  │\n",
      "│ 8   │ 1       │ 2048  │ 0.796659      │ 0.531016    │\n",
      "│ 9   │ 1       │ 4096  │ 3.51485       │ 1.18519     │\n",
      "│ 10  │ 1       │ 8192  │ 12.5226       │ 1.90505     │\n",
      "│ 11  │ 2       │ 16    │ 0.0001621     │ 5.11227e-5  │\n",
      "│ 12  │ 2       │ 32    │ 0.0002224     │ 1.40185e-5  │\n",
      "│ 13  │ 2       │ 64    │ 0.0004902     │ 2.68551e-5  │\n",
      "│ 14  │ 2       │ 128   │ 0.0015714     │ 1.73644e-5  │\n",
      "│ 15  │ 2       │ 256   │ 0.0057481     │ 5.15219e-5  │\n",
      "│ 16  │ 2       │ 512   │ 0.0191319     │ 0.000976096 │\n",
      "│ 17  │ 2       │ 1024  │ 0.0731807     │ 0.0018271   │\n",
      "│ 18  │ 2       │ 2048  │ 0.418545      │ 0.336499    │\n",
      "│ 19  │ 2       │ 4096  │ 1.65032       │ 0.555727    │\n",
      "│ 20  │ 2       │ 8192  │ 8.02584       │ 2.91939     │\n",
      "│ 21  │ 4       │ 16    │ 0.0006306     │ 0.00170331  │\n",
      "│ 22  │ 4       │ 32    │ 0.0003444     │ 0.000263743 │\n",
      "│ 23  │ 4       │ 64    │ 0.0007383     │ 0.000792135 │\n",
      "│ 24  │ 4       │ 128   │ 0.0018598     │ 0.000317396 │\n",
      "│ 25  │ 4       │ 256   │ 0.0061971     │ 0.00149711  │\n",
      "│ 26  │ 4       │ 512   │ 0.0245312     │ 0.00154823  │\n",
      "│ 27  │ 4       │ 1024  │ 0.0926898     │ 0.0125393   │\n",
      "│ 28  │ 4       │ 2048  │ 0.35615       │ 0.0270402   │\n",
      "│ 29  │ 4       │ 4096  │ 1.40263       │ 0.0670771   │\n",
      "│ 30  │ 4       │ 8192  │ 5.5198        │ 0.35195     │\n",
      "│ 31  │ 8       │ 16    │ 0.0011844     │ 0.00331955  │\n",
      "│ 32  │ 8       │ 32    │ 0.0016488     │ 0.00361737  │\n",
      "│ 33  │ 8       │ 64    │ 0.0012858     │ 0.00326273  │\n",
      "│ 34  │ 8       │ 128   │ 0.001564      │ 0.000302422 │\n",
      "│ 35  │ 8       │ 256   │ 0.0050229     │ 0.00265515  │\n",
      "│ 36  │ 8       │ 512   │ 0.0171704     │ 0.00174843  │\n",
      "│ 37  │ 8       │ 1024  │ 0.0676021     │ 0.00518769  │\n",
      "│ 38  │ 8       │ 2048  │ 0.261819      │ 0.0121259   │\n",
      "│ 39  │ 8       │ 4096  │ 1.01191       │ 0.0800766   │\n",
      "│ 40  │ 8       │ 8192  │ 3.95552       │ 0.268227    │\n",
      "│ 41  │ 16      │ 16    │ 0.0013356     │ 0.00277701  │\n",
      "│ 42  │ 16      │ 32    │ 0.0007526     │ 0.000422891 │\n",
      "│ 43  │ 16      │ 64    │ 0.0010271     │ 0.00190164  │\n",
      "│ 44  │ 16      │ 128   │ 0.0018498     │ 0.000754268 │\n",
      "│ 45  │ 16      │ 256   │ 0.0049932     │ 0.00215774  │\n",
      "│ 46  │ 16      │ 512   │ 0.0169707     │ 0.0039069   │\n",
      "│ 47  │ 16      │ 1024  │ 0.0667673     │ 0.0106168   │\n",
      "│ 48  │ 16      │ 2048  │ 0.260086      │ 0.0213092   │\n",
      "│ 49  │ 16      │ 4096  │ 1.05227       │ 0.0191588   │\n",
      "│ 50  │ 16      │ 8192  │ 4.06328       │ 0.496504    │\n",
      "│ 51  │ 32      │ 16    │ 0.0006459     │ 0.000283297 │\n",
      "│ 52  │ 32      │ 32    │ 0.0006288     │ 0.00024813  │\n",
      "│ 53  │ 32      │ 64    │ 0.000614      │ 8.14652e-5  │\n",
      "│ 54  │ 32      │ 128   │ 0.0010529     │ 0.000311152 │\n",
      "│ 55  │ 32      │ 256   │ 0.0029215     │ 0.00250953  │\n",
      "│ 56  │ 32      │ 512   │ 0.007751      │ 0.000594137 │\n",
      "│ 57  │ 32      │ 1024  │ 0.0424939     │ 0.0289685   │\n",
      "│ 58  │ 32      │ 2048  │ 0.225961      │ 0.00169376  │\n",
      "│ 59  │ 32      │ 4096  │ 0.666075      │ 0.447116    │\n",
      "│ 60  │ 32      │ 8192  │ 2.766         │ 1.17819     │"
     ]
    }
   ],
   "source": [
    "showall(pth_full)"
   ]
  },
  {
   "cell_type": "code",
   "execution_count": 16,
   "metadata": {},
   "outputs": [
    {
     "name": "stdout",
     "output_type": "stream",
     "text": [
      "make: 'mandelbrot_pth' is up to date.\n"
     ]
    },
    {
     "ename": "InterruptException",
     "evalue": "InterruptException:",
     "output_type": "error",
     "traceback": [
      "InterruptException:",
      "",
      "Stacktrace:",
      " [1] poptaskref(::Base.InvasiveLinkedListSynchronized{Task}) at ./task.jl:660",
      " [2] wait() at ./task.jl:667",
      " [3] wait(::Base.GenericCondition{Base.Threads.SpinLock}) at ./condition.jl:106",
      " [4] wait_readnb(::Base.PipeEndpoint, ::Int64) at ./stream.jl:355",
      " [5] read(::Base.PipeEndpoint) at ./stream.jl:819",
      " [6] read(::Cmd) at ./process.jl:411",
      " [7] read(::Cmd, ::Type{String}) at ./process.jl:421",
      " [8] #measure_mandelbrot#3(::Int64, ::typeof(measure_mandelbrot), ::Int64, ::Int64, ::String) at ./In[6]:11",
      " [9] #measure_mandelbrot at ./none:0 [inlined]",
      " [10] #run_experiments#4(::Array{Int64,1}, ::typeof(run_experiments), ::Array{Int64,1}, ::Int64, ::String, ::Int64) at ./In[7]:13",
      " [11] (::var\"#kw##run_experiments\")(::NamedTuple{(:threads,),Tuple{Array{Int64,1}}}, ::typeof(run_experiments), ::Array{Int64,1}, ::Int64, ::String, ::Int64) at ./none:0",
      " [12] top-level scope at In[16]:1"
     ]
    }
   ],
   "source": [
    "results = run_experiments(size, 1, \"mandelbrot_pth\", repetitions,threads=thread)\n",
    "pth_triplespiral = parse_results(results);"
   ]
  },
  {
   "cell_type": "code",
   "execution_count": 17,
   "metadata": {},
   "outputs": [
    {
     "name": "stdout",
     "output_type": "stream",
     "text": [
      "make: 'mandelbrot_pth' is up to date.\n"
     ]
    },
    {
     "ename": "InterruptException",
     "evalue": "InterruptException:",
     "output_type": "error",
     "traceback": [
      "InterruptException:",
      "",
      "Stacktrace:",
      " [1] poptaskref(::Base.InvasiveLinkedListSynchronized{Task}) at ./task.jl:660",
      " [2] wait() at ./task.jl:667",
      " [3] wait(::Base.GenericCondition{Base.Threads.SpinLock}) at ./condition.jl:106",
      " [4] wait_readnb(::Base.PipeEndpoint, ::Int64) at ./stream.jl:355",
      " [5] read(::Base.PipeEndpoint) at ./stream.jl:819",
      " [6] read(::Cmd) at ./process.jl:411",
      " [7] read(::Cmd, ::Type{String}) at ./process.jl:421",
      " [8] #measure_mandelbrot#3(::Int64, ::typeof(measure_mandelbrot), ::Int64, ::Int64, ::String) at ./In[6]:11",
      " [9] #measure_mandelbrot at ./none:0 [inlined]",
      " [10] #run_experiments#4(::Array{Int64,1}, ::typeof(run_experiments), ::Array{Int64,1}, ::Int64, ::String, ::Int64) at ./In[7]:13",
      " [11] (::var\"#kw##run_experiments\")(::NamedTuple{(:threads,),Tuple{Array{Int64,1}}}, ::typeof(run_experiments), ::Array{Int64,1}, ::Int64, ::String, ::Int64) at ./none:0",
      " [12] top-level scope at In[17]:1"
     ]
    }
   ],
   "source": [
    "results = run_experiments(size, 2, \"mandelbrot_pth\", repetitions,threads=thread)\n",
    "pth_elephant = parse_results(results);"
   ]
  },
  {
   "cell_type": "code",
   "execution_count": 18,
   "metadata": {},
   "outputs": [
    {
     "name": "stdout",
     "output_type": "stream",
     "text": [
      "make: 'mandelbrot_pth' is up to date.\n"
     ]
    },
    {
     "ename": "InterruptException",
     "evalue": "InterruptException:",
     "output_type": "error",
     "traceback": [
      "InterruptException:",
      "",
      "Stacktrace:",
      " [1] poptaskref(::Base.InvasiveLinkedListSynchronized{Task}) at ./task.jl:660",
      " [2] wait() at ./task.jl:667",
      " [3] wait(::Base.GenericCondition{Base.Threads.SpinLock}) at ./condition.jl:106",
      " [4] wait_readnb(::Base.PipeEndpoint, ::Int64) at ./stream.jl:355",
      " [5] read(::Base.PipeEndpoint) at ./stream.jl:819",
      " [6] read(::Cmd) at ./process.jl:411",
      " [7] read(::Cmd, ::Type{String}) at ./process.jl:421",
      " [8] #measure_mandelbrot#3(::Int64, ::typeof(measure_mandelbrot), ::Int64, ::Int64, ::String) at ./In[6]:11",
      " [9] #measure_mandelbrot at ./none:0 [inlined]",
      " [10] #run_experiments#4(::Array{Int64,1}, ::typeof(run_experiments), ::Array{Int64,1}, ::Int64, ::String, ::Int64) at ./In[7]:13",
      " [11] (::var\"#kw##run_experiments\")(::NamedTuple{(:threads,),Tuple{Array{Int64,1}}}, ::typeof(run_experiments), ::Array{Int64,1}, ::Int64, ::String, ::Int64) at ./none:0",
      " [12] top-level scope at In[18]:1"
     ]
    }
   ],
   "source": [
    "results = run_experiments(size, 3, \"mandelbrot_pth\", repetitions,threads=thread)\n",
    "pth_seahorse = parse_results(results);"
   ]
  },
  {
   "cell_type": "markdown",
   "metadata": {},
   "source": [
    "## Mandelbrot com OpenMP"
   ]
  },
  {
   "cell_type": "code",
   "execution_count": 30,
   "metadata": {
    "scrolled": true
   },
   "outputs": [
    {
     "name": "stdout",
     "output_type": "stream",
     "text": [
      "make: 'mandelbrot_omp' is up to date.\n"
     ]
    },
    {
     "data": {
      "text/html": [
       "<table class=\"data-frame\"><thead><tr><th></th><th>threads</th><th>size</th><th>mean_duration</th><th>ci_duration</th></tr><tr><th></th><th>Int64</th><th>Int64</th><th>Float64</th><th>Float64</th></tr></thead><tbody><p>60 rows × 4 columns</p><tr><th>1</th><td>1</td><td>16</td><td>8.34e-5</td><td>1.51032e-5</td></tr><tr><th>2</th><td>1</td><td>32</td><td>0.0002593</td><td>5.25034e-5</td></tr><tr><th>3</th><td>1</td><td>64</td><td>0.0007741</td><td>8.20991e-5</td></tr><tr><th>4</th><td>1</td><td>128</td><td>0.0027196</td><td>0.000378152</td></tr><tr><th>5</th><td>1</td><td>256</td><td>0.0098522</td><td>0.00121178</td></tr><tr><th>6</th><td>1</td><td>512</td><td>0.0364775</td><td>0.00131803</td></tr><tr><th>7</th><td>1</td><td>1024</td><td>0.208259</td><td>0.161465</td></tr><tr><th>8</th><td>1</td><td>2048</td><td>0.839414</td><td>0.696352</td></tr><tr><th>9</th><td>1</td><td>4096</td><td>3.54475</td><td>1.25549</td></tr><tr><th>10</th><td>1</td><td>8192</td><td>11.9378</td><td>2.33806</td></tr><tr><th>11</th><td>2</td><td>16</td><td>0.0001573</td><td>2.04536e-5</td></tr><tr><th>12</th><td>2</td><td>32</td><td>0.0002894</td><td>2.05192e-5</td></tr><tr><th>13</th><td>2</td><td>64</td><td>0.0007862</td><td>3.17899e-5</td></tr><tr><th>14</th><td>2</td><td>128</td><td>0.0026973</td><td>3.28497e-5</td></tr><tr><th>15</th><td>2</td><td>256</td><td>0.0102101</td><td>4.44118e-5</td></tr><tr><th>16</th><td>2</td><td>512</td><td>0.0399304</td><td>0.000188042</td></tr><tr><th>17</th><td>2</td><td>1024</td><td>0.11943</td><td>0.0827137</td></tr><tr><th>18</th><td>2</td><td>2048</td><td>0.35298</td><td>0.266514</td></tr><tr><th>19</th><td>2</td><td>4096</td><td>1.56348</td><td>0.929069</td></tr><tr><th>20</th><td>2</td><td>8192</td><td>6.85125</td><td>1.23962</td></tr><tr><th>21</th><td>4</td><td>16</td><td>0.0001212</td><td>3.2004e-5</td></tr><tr><th>22</th><td>4</td><td>32</td><td>0.0001969</td><td>1.06335e-5</td></tr><tr><th>23</th><td>4</td><td>64</td><td>0.0004227</td><td>3.51351e-5</td></tr><tr><th>24</th><td>4</td><td>128</td><td>0.0013222</td><td>0.000105439</td></tr><tr><th>25</th><td>4</td><td>256</td><td>0.0048251</td><td>0.000351607</td></tr><tr><th>26</th><td>4</td><td>512</td><td>0.0184796</td><td>0.000722703</td></tr><tr><th>27</th><td>4</td><td>1024</td><td>0.0708771</td><td>0.00151363</td></tr><tr><th>28</th><td>4</td><td>2048</td><td>0.38377</td><td>0.268907</td></tr><tr><th>29</th><td>4</td><td>4096</td><td>1.61799</td><td>1.13703</td></tr><tr><th>30</th><td>4</td><td>8192</td><td>6.02934</td><td>0.696863</td></tr><tr><th>&vellip;</th><td>&vellip;</td><td>&vellip;</td><td>&vellip;</td><td>&vellip;</td></tr></tbody></table>"
      ],
      "text/latex": [
       "\\begin{tabular}{r|cccc}\n",
       "\t& threads & size & mean\\_duration & ci\\_duration\\\\\n",
       "\t\\hline\n",
       "\t& Int64 & Int64 & Float64 & Float64\\\\\n",
       "\t\\hline\n",
       "\t1 & 1 & 16 & 8.34e-5 & 1.51032e-5 \\\\\n",
       "\t2 & 1 & 32 & 0.0002593 & 5.25034e-5 \\\\\n",
       "\t3 & 1 & 64 & 0.0007741 & 8.20991e-5 \\\\\n",
       "\t4 & 1 & 128 & 0.0027196 & 0.000378152 \\\\\n",
       "\t5 & 1 & 256 & 0.0098522 & 0.00121178 \\\\\n",
       "\t6 & 1 & 512 & 0.0364775 & 0.00131803 \\\\\n",
       "\t7 & 1 & 1024 & 0.208259 & 0.161465 \\\\\n",
       "\t8 & 1 & 2048 & 0.839414 & 0.696352 \\\\\n",
       "\t9 & 1 & 4096 & 3.54475 & 1.25549 \\\\\n",
       "\t10 & 1 & 8192 & 11.9378 & 2.33806 \\\\\n",
       "\t11 & 2 & 16 & 0.0001573 & 2.04536e-5 \\\\\n",
       "\t12 & 2 & 32 & 0.0002894 & 2.05192e-5 \\\\\n",
       "\t13 & 2 & 64 & 0.0007862 & 3.17899e-5 \\\\\n",
       "\t14 & 2 & 128 & 0.0026973 & 3.28497e-5 \\\\\n",
       "\t15 & 2 & 256 & 0.0102101 & 4.44118e-5 \\\\\n",
       "\t16 & 2 & 512 & 0.0399304 & 0.000188042 \\\\\n",
       "\t17 & 2 & 1024 & 0.11943 & 0.0827137 \\\\\n",
       "\t18 & 2 & 2048 & 0.35298 & 0.266514 \\\\\n",
       "\t19 & 2 & 4096 & 1.56348 & 0.929069 \\\\\n",
       "\t20 & 2 & 8192 & 6.85125 & 1.23962 \\\\\n",
       "\t21 & 4 & 16 & 0.0001212 & 3.2004e-5 \\\\\n",
       "\t22 & 4 & 32 & 0.0001969 & 1.06335e-5 \\\\\n",
       "\t23 & 4 & 64 & 0.0004227 & 3.51351e-5 \\\\\n",
       "\t24 & 4 & 128 & 0.0013222 & 0.000105439 \\\\\n",
       "\t25 & 4 & 256 & 0.0048251 & 0.000351607 \\\\\n",
       "\t26 & 4 & 512 & 0.0184796 & 0.000722703 \\\\\n",
       "\t27 & 4 & 1024 & 0.0708771 & 0.00151363 \\\\\n",
       "\t28 & 4 & 2048 & 0.38377 & 0.268907 \\\\\n",
       "\t29 & 4 & 4096 & 1.61799 & 1.13703 \\\\\n",
       "\t30 & 4 & 8192 & 6.02934 & 0.696863 \\\\\n",
       "\t$\\dots$ & $\\dots$ & $\\dots$ & $\\dots$ & $\\dots$ \\\\\n",
       "\\end{tabular}\n"
      ],
      "text/plain": [
       "60×4 DataFrame\n",
       "│ Row │ threads │ size  │ mean_duration │ ci_duration │\n",
       "│     │ \u001b[90mInt64\u001b[39m   │ \u001b[90mInt64\u001b[39m │ \u001b[90mFloat64\u001b[39m       │ \u001b[90mFloat64\u001b[39m     │\n",
       "├─────┼─────────┼───────┼───────────────┼─────────────┤\n",
       "│ 1   │ 1       │ 16    │ 8.34e-5       │ 1.51032e-5  │\n",
       "│ 2   │ 1       │ 32    │ 0.0002593     │ 5.25034e-5  │\n",
       "│ 3   │ 1       │ 64    │ 0.0007741     │ 8.20991e-5  │\n",
       "│ 4   │ 1       │ 128   │ 0.0027196     │ 0.000378152 │\n",
       "│ 5   │ 1       │ 256   │ 0.0098522     │ 0.00121178  │\n",
       "│ 6   │ 1       │ 512   │ 0.0364775     │ 0.00131803  │\n",
       "│ 7   │ 1       │ 1024  │ 0.208259      │ 0.161465    │\n",
       "│ 8   │ 1       │ 2048  │ 0.839414      │ 0.696352    │\n",
       "│ 9   │ 1       │ 4096  │ 3.54475       │ 1.25549     │\n",
       "│ 10  │ 1       │ 8192  │ 11.9378       │ 2.33806     │\n",
       "⋮\n",
       "│ 50  │ 16      │ 8192  │ 3.70796       │ 0.912882    │\n",
       "│ 51  │ 32      │ 16    │ 0.0005376     │ 0.000157688 │\n",
       "│ 52  │ 32      │ 32    │ 0.000534      │ 0.000114779 │\n",
       "│ 53  │ 32      │ 64    │ 0.0007158     │ 9.15497e-5  │\n",
       "│ 54  │ 32      │ 128   │ 0.0014886     │ 0.000315401 │\n",
       "│ 55  │ 32      │ 256   │ 0.0038319     │ 0.00269951  │\n",
       "│ 56  │ 32      │ 512   │ 0.0154316     │ 0.00905189  │\n",
       "│ 57  │ 32      │ 1024  │ 0.045434      │ 0.0320725   │\n",
       "│ 58  │ 32      │ 2048  │ 0.181027      │ 0.131116    │\n",
       "│ 59  │ 32      │ 4096  │ 0.667524      │ 0.455826    │\n",
       "│ 60  │ 32      │ 8192  │ 2.7418        │ 1.03799     │"
      ]
     },
     "execution_count": 30,
     "metadata": {},
     "output_type": "execute_result"
    }
   ],
   "source": [
    "results = run_experiments(size, 0, \"mandelbrot_omp\", repetitions,threads=thread)\n",
    "omp_full = parse_results(results)"
   ]
  },
  {
   "cell_type": "code",
   "execution_count": 20,
   "metadata": {},
   "outputs": [
    {
     "name": "stdout",
     "output_type": "stream",
     "text": [
      "make: 'mandelbrot_omp' is up to date.\n"
     ]
    },
    {
     "ename": "InterruptException",
     "evalue": "InterruptException:",
     "output_type": "error",
     "traceback": [
      "InterruptException:",
      "",
      "Stacktrace:",
      " [1] poptaskref(::Base.InvasiveLinkedListSynchronized{Task}) at ./task.jl:660",
      " [2] wait() at ./task.jl:667",
      " [3] wait(::Base.GenericCondition{Base.Threads.SpinLock}) at ./condition.jl:106",
      " [4] wait_readnb(::Base.PipeEndpoint, ::Int64) at ./stream.jl:355",
      " [5] read(::Base.PipeEndpoint) at ./stream.jl:819",
      " [6] read(::Cmd) at ./process.jl:411",
      " [7] read(::Cmd, ::Type{String}) at ./process.jl:421",
      " [8] #measure_mandelbrot#3(::Int64, ::typeof(measure_mandelbrot), ::Int64, ::Int64, ::String) at ./In[6]:11",
      " [9] #measure_mandelbrot at ./none:0 [inlined]",
      " [10] #run_experiments#4(::Array{Int64,1}, ::typeof(run_experiments), ::Array{Int64,1}, ::Int64, ::String, ::Int64) at ./In[7]:13",
      " [11] (::var\"#kw##run_experiments\")(::NamedTuple{(:threads,),Tuple{Array{Int64,1}}}, ::typeof(run_experiments), ::Array{Int64,1}, ::Int64, ::String, ::Int64) at ./none:0",
      " [12] top-level scope at In[20]:1"
     ]
    }
   ],
   "source": [
    "results = run_experiments(size, 1, \"mandelbrot_omp\", repetitions,threads=thread)\n",
    "omp_triplespiral = parse_results(results);"
   ]
  },
  {
   "cell_type": "code",
   "execution_count": 21,
   "metadata": {},
   "outputs": [
    {
     "name": "stdout",
     "output_type": "stream",
     "text": [
      "make: 'mandelbrot_omp' is up to date.\n"
     ]
    },
    {
     "ename": "InterruptException",
     "evalue": "InterruptException:",
     "output_type": "error",
     "traceback": [
      "InterruptException:",
      "",
      "Stacktrace:",
      " [1] poptaskref(::Base.InvasiveLinkedListSynchronized{Task}) at ./task.jl:660",
      " [2] wait() at ./task.jl:667",
      " [3] wait(::Base.GenericCondition{Base.Threads.SpinLock}) at ./condition.jl:106",
      " [4] wait_readnb(::Base.PipeEndpoint, ::Int64) at ./stream.jl:355",
      " [5] read(::Base.PipeEndpoint) at ./stream.jl:819",
      " [6] read(::Cmd) at ./process.jl:411",
      " [7] read(::Cmd, ::Type{String}) at ./process.jl:421",
      " [8] #measure_mandelbrot#3(::Int64, ::typeof(measure_mandelbrot), ::Int64, ::Int64, ::String) at ./In[6]:11",
      " [9] #measure_mandelbrot at ./none:0 [inlined]",
      " [10] #run_experiments#4(::Array{Int64,1}, ::typeof(run_experiments), ::Array{Int64,1}, ::Int64, ::String, ::Int64) at ./In[7]:13",
      " [11] (::var\"#kw##run_experiments\")(::NamedTuple{(:threads,),Tuple{Array{Int64,1}}}, ::typeof(run_experiments), ::Array{Int64,1}, ::Int64, ::String, ::Int64) at ./none:0",
      " [12] top-level scope at In[21]:1"
     ]
    }
   ],
   "source": [
    "results = run_experiments(size, 2, \"mandelbrot_omp\", repetitions,threads=thread)\n",
    "omp_elephant = parse_results(results);"
   ]
  },
  {
   "cell_type": "code",
   "execution_count": 22,
   "metadata": {},
   "outputs": [
    {
     "name": "stdout",
     "output_type": "stream",
     "text": [
      "make: 'mandelbrot_omp' is up to date.\n"
     ]
    },
    {
     "ename": "InterruptException",
     "evalue": "InterruptException:",
     "output_type": "error",
     "traceback": [
      "InterruptException:",
      "",
      "Stacktrace:",
      " [1] poptaskref(::Base.InvasiveLinkedListSynchronized{Task}) at ./task.jl:660",
      " [2] wait() at ./task.jl:667",
      " [3] wait(::Base.GenericCondition{Base.Threads.SpinLock}) at ./condition.jl:106",
      " [4] wait_readnb(::Base.PipeEndpoint, ::Int64) at ./stream.jl:355",
      " [5] read(::Base.PipeEndpoint) at ./stream.jl:819",
      " [6] read(::Cmd) at ./process.jl:411",
      " [7] read(::Cmd, ::Type{String}) at ./process.jl:421",
      " [8] #measure_mandelbrot#3(::Int64, ::typeof(measure_mandelbrot), ::Int64, ::Int64, ::String) at ./In[6]:11",
      " [9] #measure_mandelbrot at ./none:0 [inlined]",
      " [10] #run_experiments#4(::Array{Int64,1}, ::typeof(run_experiments), ::Array{Int64,1}, ::Int64, ::String, ::Int64) at ./In[7]:13",
      " [11] (::var\"#kw##run_experiments\")(::NamedTuple{(:threads,),Tuple{Array{Int64,1}}}, ::typeof(run_experiments), ::Array{Int64,1}, ::Int64, ::String, ::Int64) at ./none:0",
      " [12] top-level scope at In[22]:1"
     ]
    }
   ],
   "source": [
    "results = run_experiments(size, 3, \"mandelbrot_omp\", repetitions,threads=thread)\n",
    "omp_seahorse = parse_results(results);"
   ]
  },
  {
   "cell_type": "markdown",
   "metadata": {},
   "source": [
    "## Gráficos comparativos\n",
    "\n",
    "Ao final, teremos os dataframes:\n",
    "\n",
    "|Dataframe | Full | Triple Spiral | Seahorse |\n",
    "|----------|--------|--------|--------|\n",
    "|Sequencial|seq_full|seq_triplespiral|seq_seahorse|\n",
    "|PThreads|pth_full|pth_triplespiral|pth_seahorse|\n",
    "|OpenMP|omp_full|omp_triplespiral|omp_seahorse|"
   ]
  },
  {
   "cell_type": "markdown",
   "metadata": {},
   "source": [
    "Realizaremos os gráficos a partir de partições do dataframe, como mostrados abaixo:"
   ]
  },
  {
   "cell_type": "code",
   "execution_count": 23,
   "metadata": {
    "scrolled": false
   },
   "outputs": [
    {
     "ename": "UndefVarError",
     "evalue": "UndefVarError: parsed_results not defined",
     "output_type": "error",
     "traceback": [
      "UndefVarError: parsed_results not defined",
      "",
      "Stacktrace:",
      " [1] top-level scope at In[23]:1"
     ]
    }
   ],
   "source": [
    "filter(row -> row[:threads] == 1, parsed_results)"
   ]
  },
  {
   "cell_type": "code",
   "execution_count": 24,
   "metadata": {
    "scrolled": true
   },
   "outputs": [
    {
     "ename": "UndefVarError",
     "evalue": "UndefVarError: parsed_results not defined",
     "output_type": "error",
     "traceback": [
      "UndefVarError: parsed_results not defined",
      "",
      "Stacktrace:",
      " [1] top-level scope at In[24]:1"
     ]
    }
   ],
   "source": [
    "filter(row -> row[:size] == 16, parsed_results)"
   ]
  },
  {
   "cell_type": "code",
   "execution_count": 25,
   "metadata": {},
   "outputs": [
    {
     "ename": "UndefVarError",
     "evalue": "UndefVarError: parsed_results not defined",
     "output_type": "error",
     "traceback": [
      "UndefVarError: parsed_results not defined",
      "",
      "Stacktrace:",
      " [1] top-level scope at In[25]:1"
     ]
    }
   ],
   "source": [
    "filter(row -> row[:size] == 16, parsed_results).mean_duration"
   ]
  },
  {
   "cell_type": "markdown",
   "metadata": {},
   "source": [
    "### Comparando desempenho por tamanho da imagem"
   ]
  },
  {
   "cell_type": "markdown",
   "metadata": {},
   "source": [
    "Ideias para os gráficos: \n",
    "> Comparar desempenho por tamanho da imagem ( 5 grafos > para tamanhos das imagens. Cada serie no grafico deve ser uma forma gerar a imagem)\n",
    "\n",
    "> Comparar desempenho por tipo de gráfico produzido ( 3 x 4 gráficos, 4 áreas com 3 tipos de calculo cada / cruzar com tamanho da entrada também? daí seriam 4x 3 x 10)\n",
    "\n",
    "> estou confouzer, me ajudem a saber quais gráficos fazer"
   ]
  },
  {
   "cell_type": "code",
   "execution_count": 26,
   "metadata": {},
   "outputs": [
    {
     "ename": "UndefVarError",
     "evalue": "UndefVarError: parsed_results not defined",
     "output_type": "error",
     "traceback": [
      "UndefVarError: parsed_results not defined",
      "",
      "Stacktrace:",
      " [1] top-level scope at In[26]:1"
     ]
    }
   ],
   "source": [
    "plot_results(\n",
    "    filter(row -> row[:size] == 16, parsed_results).threads,\n",
    "    filter(row -> row[:size] == 16, parsed_results).mean_duration,    \n",
    "    \"16\", filter(row -> row[:size] == 16, parsed_results).ci_duration,\n",
    "    y2 = filter(row -> row[:size] == 32, parsed_results).mean_duration,\n",
    "    series_label2 = \"32\", yerror2 = filter(row -> row[:size] == 32, parsed_results).ci_duration)"
   ]
  },
  {
   "cell_type": "markdown",
   "metadata": {},
   "source": [
    "### Comparando desempenho por quantidade de threads"
   ]
  },
  {
   "cell_type": "code",
   "execution_count": null,
   "metadata": {},
   "outputs": [],
   "source": []
  }
 ],
 "metadata": {
  "kernelspec": {
   "display_name": "Julia 1.3.1",
   "language": "julia",
   "name": "julia-1.3"
  },
  "language_info": {
   "file_extension": ".jl",
   "mimetype": "application/julia",
   "name": "julia",
   "version": "1.3.1"
  }
 },
 "nbformat": 4,
 "nbformat_minor": 4
}
