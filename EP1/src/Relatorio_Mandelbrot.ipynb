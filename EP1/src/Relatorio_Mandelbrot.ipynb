{
 "cells": [
  {
   "cell_type": "markdown",
   "metadata": {},
   "source": [
    "# EP1 - Conjunto de Maldelbrot e paralelização com pThreads e OpenMP\n",
    "\n",
    "| Nome | NUSP |\n",
    "|------|------|\n",
    "| Giulia C. de Nardi | 10692203 |\n",
    "| Vitor D. Tamae | 10705620 |\n",
    "| Lucy Anne de Omena Evangelista | 11221776 |\n",
    "| Leonardo Costa Santos | 10783142 |\n",
    "| Alexandre Muller Jones | 8038149 |\n"
   ]
  },
  {
   "cell_type": "markdown",
   "metadata": {},
   "source": [
    "INFORMAÇÔES SOBRE O DESENVOLVIMENTO DO RELATÓRIO:\n",
    "\n",
    "- **Para o caso dos mandelbrot paralelizados, podemos ter dois tempos como saída: o considerando o tempo de alocação de memória e I/O, e o tempo não considerando esses fatores. Ainda não implementado para a realização das funções, mas de fácil ajuste nas funções feitas neste notebook.**\n"
   ]
  },
  {
   "cell_type": "markdown",
   "metadata": {},
   "source": [
    "## Configuração do ambiente\n",
    "\n",
    "Atualizando os pacotes Julia"
   ]
  },
  {
   "cell_type": "code",
   "execution_count": null,
   "metadata": {},
   "outputs": [],
   "source": [
    "] up"
   ]
  },
  {
   "cell_type": "markdown",
   "metadata": {},
   "source": [
    "Verificando o status dos pacotes, e se há algum problema, com o comando:"
   ]
  },
  {
   "cell_type": "code",
   "execution_count": null,
   "metadata": {},
   "outputs": [],
   "source": [
    "] st"
   ]
  },
  {
   "cell_type": "markdown",
   "metadata": {},
   "source": [
    "## Funções para realização dos experimentos"
   ]
  },
  {
   "cell_type": "code",
   "execution_count": null,
   "metadata": {},
   "outputs": [],
   "source": [
    "; make mandelbrot_seq"
   ]
  },
  {
   "cell_type": "code",
   "execution_count": 4,
   "metadata": {
    "scrolled": false
   },
   "outputs": [
    {
     "name": "stdout",
     "output_type": "stream",
     "text": [
      "usage: ./mandelbrot_seq c_x_min c_x_max c_y_min c_y_max image_size\n",
      "examples with image_size = 11500:\n",
      "    Full Picture:         ./mandelbrot_seq -2.5 1.5 -2.0 2.0 11500\n",
      "    Seahorse Valley:      ./mandelbrot_seq -0.8 -0.7 0.05 0.15 11500\n",
      "    Elephant Valley:      ./mandelbrot_seq 0.175 0.375 -0.1 0.1 11500\n",
      "    Triple Spiral Valley: ./mandelbrot_seq -0.188 -0.012 0.554 0.754 11500\n"
     ]
    }
   ],
   "source": [
    "; ./mandelbrot_seq"
   ]
  },
  {
   "cell_type": "code",
   "execution_count": 5,
   "metadata": {},
   "outputs": [
    {
     "name": "stdout",
     "output_type": "stream",
     "text": [
      "0.040757\n"
     ]
    }
   ],
   "source": [
    "; ./mandelbrot_seq 0.175 0.375 -0.1 0.1 200 0"
   ]
  },
  {
   "cell_type": "markdown",
   "metadata": {},
   "source": [
    "A função abaixo recebe parâmetros `size`, com o tamanho da imagem, `f`, com a id do tupo de fractal a ser feito (0 - Full, 2 - Triple Spiral, 3 - Elephant, 4 - Seahorse), `mandel`, com o nome da função a ser executada (`./mandelbrot_seq`, `./mandelbrot_opm`, `./mandelbrot_pth`),e `threads`, com o número de threads do programa paralelo. A função executa o programa `mandelbrot` com os parâmetros dados e devolve um `DataFrame` com os resultados."
   ]
  },
  {
   "cell_type": "code",
   "execution_count": 18,
   "metadata": {},
   "outputs": [
    {
     "name": "stderr",
     "output_type": "stream",
     "text": [
      "┌ Info: Precompiling StatsPlots [f3b207a7-027a-5e70-b257-86293d7955fd]\n",
      "└ @ Base loading.jl:1273\n"
     ]
    },
    {
     "data": {
      "text/plain": [
       "measure_mandelbrot (generic function with 1 method)"
      ]
     },
     "execution_count": 18,
     "metadata": {},
     "output_type": "execute_result"
    }
   ],
   "source": [
    "using DataFrames, Query, StatsPlots, Statistics\n",
    "\n",
    "function measure_mandelbrot(size, f, mandel; thread = 0)    \n",
    "    if f == 0  mode = `-2.5 1.5 -2.0 2.0` #full\n",
    "    elseif f == 1  mode = `-0.188 -0.012 0.554 0.754` #triple spiral\n",
    "    elseif f == 2  mode = `0.175 0.375 -0.1 0.1` # elephant\n",
    "    elseif f == 3  mode = `-0.8 -0.7 0.05 0.15` #seahorse\n",
    "    end\n",
    "    \n",
    "    if thread != 0 \n",
    "    results = parse.(Float64,\n",
    "        read(`./$mandel $mode $size $thread`, String))\n",
    "    else\n",
    "    results = parse.(Float64,\n",
    "        read(`./$mandel $mode $size`, String))\n",
    "    end\n",
    "        \n",
    "    return DataFrame(size = size,\n",
    "        f = f,\n",
    "        threads = thread,\n",
    "        duration = results[1])\n",
    "end"
   ]
  },
  {
   "cell_type": "markdown",
   "metadata": {},
   "source": [
    "A função `run_experiments` recebe os mesmos parâmetros `size`, `f`,`mandel` e `threads`, e um parâmetro adicional `repetitions`, com o número de repetições de cada experimento com um dado número de `threads`. A função devolve um `DataFrame` com todos os experimentos."
   ]
  },
  {
   "cell_type": "code",
   "execution_count": 19,
   "metadata": {},
   "outputs": [
    {
     "data": {
      "text/plain": [
       "run_experiments (generic function with 1 method)"
      ]
     },
     "execution_count": 19,
     "metadata": {},
     "output_type": "execute_result"
    }
   ],
   "source": [
    "function run_experiments(size, f, mandel, repetitions; threads = [])\n",
    "    run(`make $mandel`)\n",
    "    \n",
    "    results = DataFrame(size = Int[],\n",
    "        f = Int[],\n",
    "        threads = Int[],\n",
    "        duration = Float64[]) \n",
    "    \n",
    "    if threads != []\n",
    "    for t in threads\n",
    "        for s in size\n",
    "        for r in 1:repetitions\n",
    "            append!(results,\n",
    "                measure_mandelbrot(s, f, mandel, thread = t))    \n",
    "        end\n",
    "        end\n",
    "    end\n",
    "    else\n",
    "        for r in 1:repetitions\n",
    "        for s in size\n",
    "            append!(results,\n",
    "                measure_mandelbrot(s, f, mandel))    \n",
    "        end\n",
    "        end\n",
    "    end \n",
    "    \n",
    "    return results\n",
    "end"
   ]
  },
  {
   "cell_type": "markdown",
   "metadata": {},
   "source": [
    "A função `parse_results` recebe um `DataFrame` de resultados, produzido pela função `run_experiments`. A função devolve um `DataFrame` com a média e o intervalo de confiança da média a 95% dos tempos de execução, agrupados por número de threads."
   ]
  },
  {
   "cell_type": "code",
   "execution_count": 20,
   "metadata": {},
   "outputs": [
    {
     "data": {
      "text/plain": [
       "parse_results (generic function with 1 method)"
      ]
     },
     "execution_count": 20,
     "metadata": {},
     "output_type": "execute_result"
    }
   ],
   "source": [
    "function parse_results(results)\n",
    "    parsed_results = results |>\n",
    "                    @groupby({_.threads,_.size}) |>\n",
    "                    @map({threads = key(_).threads,\n",
    "                          size = _.size[1],\n",
    "                          mean_duration = mean(_.duration),\n",
    "                          ci_duration = 1.96 * std(_.duration)}) |>\n",
    "                    DataFrame\n",
    "    \n",
    "    return parsed_results\n",
    "end"
   ]
  },
  {
   "cell_type": "markdown",
   "metadata": {},
   "source": [
    "## Funções para traçar gráficos"
   ]
  },
  {
   "cell_type": "markdown",
   "metadata": {},
   "source": [
    "A função abaixo permite que sejam traçadas até 5 séries de dados em um mesmo gráfico do tipo scatter."
   ]
  },
  {
   "cell_type": "code",
   "execution_count": 21,
   "metadata": {},
   "outputs": [
    {
     "name": "stderr",
     "output_type": "stream",
     "text": [
      "┌ Info: Precompiling PGFPlotsX [8314cec4-20b6-5062-9cdb-752b83310925]\n",
      "└ @ Base loading.jl:1273\n"
     ]
    },
    {
     "data": {
      "text/plain": [
       "plot_results (generic function with 1 method)"
      ]
     },
     "execution_count": 21,
     "metadata": {},
     "output_type": "execute_result"
    }
   ],
   "source": [
    "pgfplotsx()\n",
    "\n",
    "function plot_results(x, y, series_label, yerror; y2 = [], series_label2 = [], yerror2 = [], \n",
    "        y3 = [], series_label3 = [], yerror3 = [], y4 = [], series_label4 = [], yerror4 = [],\n",
    "        y5 = [], series_label5 = [], yerror5 = [])\n",
    "    max_thread_power = 5\n",
    "    \n",
    "    p = scatter(x, y, xaxis = :log2, xlabel = \"Threads\", xticks = [2 ^ x for x in 0:max_thread_power],\n",
    "        yerror = yerror, alpha = 0.6, \n",
    "        labels = series_label, legend = :bottomright)\n",
    "    \n",
    "    if y2 != []\n",
    "        p = scatter!(x, y2, xaxis = :log2, xticks = [2 ^ x for x in 0:max_thread_power],\n",
    "            yerror = yerror2, alpha = 0.6,\n",
    "            labels = series_label2, legend = :bottomright)\n",
    "    end\n",
    "    if y3 != []\n",
    "        p = scatter!(x, y3, xaxis = :log2, xticks = [2 ^ x for x in 0:max_thread_power],\n",
    "            yerror = yerror3, alpha = 0.6,\n",
    "            labels = series_label3, legend = :bottomright)\n",
    "    end\n",
    "    if y4 != []\n",
    "        p = scatter!(x, y4, xaxis = :log2, xticks = [2 ^ x for x in 0:max_thread_power],\n",
    "            yerror = yerror4, alpha = 0.6,\n",
    "            labels = series_label4, legend = :bottomright)\n",
    "    end\n",
    "    if y5 != []\n",
    "        p = scatter!(x, y5, xaxis = :log2, xticks = [2 ^ x for x in 0:max_thread_power],\n",
    "            yerror = yerror5, alpha = 0.6,\n",
    "            labels = series_label5, legend = :bottomright)\n",
    "    end\n",
    "    \n",
    "    return p\n",
    "end"
   ]
  },
  {
   "cell_type": "markdown",
   "metadata": {},
   "source": [
    "## Condições para os experimentos"
   ]
  },
  {
   "cell_type": "code",
   "execution_count": 22,
   "metadata": {},
   "outputs": [],
   "source": [
    "size = [2 ^ x for x in 4:13]\n",
    "thread = [2 ^ x for x in 0:5]\n",
    "repetitions = 10;"
   ]
  },
  {
   "cell_type": "markdown",
   "metadata": {},
   "source": [
    "## Mandelbrot sequencial"
   ]
  },
  {
   "cell_type": "markdown",
   "metadata": {},
   "source": [
    "Nesta parte, traremos a execução do maldelbrot em sua versão sequencial, junto com a análise de tempo de execução para os diferentes tipo de fractais (Triple Spiral, Elephant, Seahorse & Full) e em diferentes resoluções ($ 2^4 \\cdots 2^{13}$)"
   ]
  },
  {
   "cell_type": "markdown",
   "metadata": {},
   "source": [
    "Realizando as medições para o mandelbrot sequencial:"
   ]
  },
  {
   "cell_type": "code",
   "execution_count": 23,
   "metadata": {},
   "outputs": [
    {
     "name": "stdout",
     "output_type": "stream",
     "text": [
      "make: 'mandelbrot_seq' is up to date.\n"
     ]
    },
    {
     "data": {
      "text/html": [
       "<table class=\"data-frame\"><thead><tr><th></th><th>threads</th><th>size</th><th>mean_duration</th><th>ci_duration</th></tr><tr><th></th><th>Int64</th><th>Int64</th><th>Float64</th><th>Float64</th></tr></thead><tbody><p>10 rows × 4 columns</p><tr><th>1</th><td>0</td><td>16</td><td>5.36e-5</td><td>1.62993e-5</td></tr><tr><th>2</th><td>0</td><td>32</td><td>0.0001936</td><td>5.58911e-5</td></tr><tr><th>3</th><td>0</td><td>64</td><td>0.0007408</td><td>0.000162279</td></tr><tr><th>4</th><td>0</td><td>128</td><td>0.0031887</td><td>0.00227842</td></tr><tr><th>5</th><td>0</td><td>256</td><td>0.0116996</td><td>0.00322845</td></tr><tr><th>6</th><td>0</td><td>512</td><td>0.0446544</td><td>0.0125451</td></tr><tr><th>7</th><td>0</td><td>1024</td><td>0.174277</td><td>0.0377931</td></tr><tr><th>8</th><td>0</td><td>2048</td><td>0.682131</td><td>0.121173</td></tr><tr><th>9</th><td>0</td><td>4096</td><td>2.67757</td><td>0.420568</td></tr><tr><th>10</th><td>0</td><td>8192</td><td>10.6873</td><td>1.61849</td></tr></tbody></table>"
      ],
      "text/latex": [
       "\\begin{tabular}{r|cccc}\n",
       "\t& threads & size & mean\\_duration & ci\\_duration\\\\\n",
       "\t\\hline\n",
       "\t& Int64 & Int64 & Float64 & Float64\\\\\n",
       "\t\\hline\n",
       "\t1 & 0 & 16 & 5.36e-5 & 1.62993e-5 \\\\\n",
       "\t2 & 0 & 32 & 0.0001936 & 5.58911e-5 \\\\\n",
       "\t3 & 0 & 64 & 0.0007408 & 0.000162279 \\\\\n",
       "\t4 & 0 & 128 & 0.0031887 & 0.00227842 \\\\\n",
       "\t5 & 0 & 256 & 0.0116996 & 0.00322845 \\\\\n",
       "\t6 & 0 & 512 & 0.0446544 & 0.0125451 \\\\\n",
       "\t7 & 0 & 1024 & 0.174277 & 0.0377931 \\\\\n",
       "\t8 & 0 & 2048 & 0.682131 & 0.121173 \\\\\n",
       "\t9 & 0 & 4096 & 2.67757 & 0.420568 \\\\\n",
       "\t10 & 0 & 8192 & 10.6873 & 1.61849 \\\\\n",
       "\\end{tabular}\n"
      ],
      "text/plain": [
       "10×4 DataFrame\n",
       "│ Row │ threads │ size  │ mean_duration │ ci_duration │\n",
       "│     │ \u001b[90mInt64\u001b[39m   │ \u001b[90mInt64\u001b[39m │ \u001b[90mFloat64\u001b[39m       │ \u001b[90mFloat64\u001b[39m     │\n",
       "├─────┼─────────┼───────┼───────────────┼─────────────┤\n",
       "│ 1   │ 0       │ 16    │ 5.36e-5       │ 1.62993e-5  │\n",
       "│ 2   │ 0       │ 32    │ 0.0001936     │ 5.58911e-5  │\n",
       "│ 3   │ 0       │ 64    │ 0.0007408     │ 0.000162279 │\n",
       "│ 4   │ 0       │ 128   │ 0.0031887     │ 0.00227842  │\n",
       "│ 5   │ 0       │ 256   │ 0.0116996     │ 0.00322845  │\n",
       "│ 6   │ 0       │ 512   │ 0.0446544     │ 0.0125451   │\n",
       "│ 7   │ 0       │ 1024  │ 0.174277      │ 0.0377931   │\n",
       "│ 8   │ 0       │ 2048  │ 0.682131      │ 0.121173    │\n",
       "│ 9   │ 0       │ 4096  │ 2.67757       │ 0.420568    │\n",
       "│ 10  │ 0       │ 8192  │ 10.6873       │ 1.61849     │"
      ]
     },
     "execution_count": 23,
     "metadata": {},
     "output_type": "execute_result"
    }
   ],
   "source": [
    "results = run_experiments(size, 0, \"mandelbrot_seq\", repetitions)\n",
    "seq_full = parse_results(results)"
   ]
  },
  {
   "cell_type": "code",
   "execution_count": null,
   "metadata": {},
   "outputs": [],
   "source": [
    "results = run_experiments(size, 1, \"mandelbrot_seq\", repetitions)\n",
    "seq_triplespiral = parse_results(results);"
   ]
  },
  {
   "cell_type": "code",
   "execution_count": null,
   "metadata": {},
   "outputs": [],
   "source": [
    "results = run_experiments(size, 2, \"mandelbrot_seq\", repetitions)\n",
    "seq_elephant = parse_results(results);"
   ]
  },
  {
   "cell_type": "code",
   "execution_count": null,
   "metadata": {},
   "outputs": [],
   "source": [
    "results = run_experiments(size, 3, \"mandelbrot_seq\", repetitions)\n",
    "seq_seahorse = parse_results(results);"
   ]
  },
  {
   "cell_type": "markdown",
   "metadata": {},
   "source": [
    "## Mandelbrot com pthreads"
   ]
  },
  {
   "cell_type": "code",
   "execution_count": null,
   "metadata": {
    "scrolled": false
   },
   "outputs": [
    {
     "name": "stdout",
     "output_type": "stream",
     "text": [
      "make: 'mandelbrot_pth' is up to date.\n"
     ]
    }
   ],
   "source": [
    "results = run_experiments(size, 0, \"mandelbrot_pth\", repetitions,threads=thread)\n",
    "pth_full = parse_results(results)"
   ]
  },
  {
   "cell_type": "code",
   "execution_count": null,
   "metadata": {},
   "outputs": [],
   "source": [
    "results = run_experiments(size, 1, \"mandelbrot_pth\", repetitions,threads=thread)\n",
    "pth_triplespiral = parse_results(results);"
   ]
  },
  {
   "cell_type": "code",
   "execution_count": null,
   "metadata": {},
   "outputs": [],
   "source": [
    "results = run_experiments(size, 2, \"mandelbrot_pth\", repetitions,threads=thread)\n",
    "pth_elephant = parse_results(results);"
   ]
  },
  {
   "cell_type": "code",
   "execution_count": null,
   "metadata": {},
   "outputs": [],
   "source": [
    "results = run_experiments(size, 3, \"mandelbrot_pth\", repetitions,threads=thread)\n",
    "pth_seahorse = parse_results(results);"
   ]
  },
  {
   "cell_type": "markdown",
   "metadata": {},
   "source": [
    "## Mandelbrot com OpenMP"
   ]
  },
  {
   "cell_type": "code",
   "execution_count": null,
   "metadata": {
    "scrolled": true
   },
   "outputs": [],
   "source": [
    "results = run_experiments(size, 0, \"mandelbrot_omp\", repetitions,threads=thread)\n",
    "omp_full = parse_results(results)"
   ]
  },
  {
   "cell_type": "code",
   "execution_count": null,
   "metadata": {},
   "outputs": [],
   "source": [
    "results = run_experiments(size, 1, \"mandelbrot_omp\", repetitions,threads=thread)\n",
    "omp_triplespiral = parse_results(results);"
   ]
  },
  {
   "cell_type": "code",
   "execution_count": null,
   "metadata": {},
   "outputs": [],
   "source": [
    "results = run_experiments(size, 2, \"mandelbrot_omp\", repetitions,threads=thread)\n",
    "omp_elephant = parse_results(results);"
   ]
  },
  {
   "cell_type": "code",
   "execution_count": null,
   "metadata": {},
   "outputs": [],
   "source": [
    "results = run_experiments(size, 3, \"mandelbrot_omp\", repetitions,threads=thread)\n",
    "omp_seahorse = parse_results(results);"
   ]
  },
  {
   "cell_type": "markdown",
   "metadata": {},
   "source": [
    "## Gráficos comparativos\n",
    "\n",
    "Ao final, teremos os dataframes:\n",
    "\n",
    "|Dataframe | Full | Triple Spiral | Seahorse |\n",
    "|----------|--------|--------|--------|\n",
    "|Sequencial|seq_full|seq_triplespiral|seq_seahorse|\n",
    "|PThreads|pth_full|pth_triplespiral|pth_seahorse|\n",
    "|OpenMP|omp_full|omp_triplespiral|omp_seahorse|"
   ]
  },
  {
   "cell_type": "markdown",
   "metadata": {},
   "source": [
    "Realizaremos os gráficos a partir de partições do dataframe, como mostrados abaixo:"
   ]
  },
  {
   "cell_type": "code",
   "execution_count": null,
   "metadata": {
    "scrolled": false
   },
   "outputs": [],
   "source": [
    "filter(row -> row[:threads] == 1, parsed_results)"
   ]
  },
  {
   "cell_type": "code",
   "execution_count": null,
   "metadata": {
    "scrolled": true
   },
   "outputs": [],
   "source": [
    "filter(row -> row[:size] == 16, parsed_results)"
   ]
  },
  {
   "cell_type": "code",
   "execution_count": null,
   "metadata": {},
   "outputs": [],
   "source": [
    "filter(row -> row[:size] == 16, parsed_results).mean_duration"
   ]
  },
  {
   "cell_type": "markdown",
   "metadata": {},
   "source": [
    "### Comparando desempenho por tamanho da imagem"
   ]
  },
  {
   "cell_type": "markdown",
   "metadata": {},
   "source": [
    "Ideias para os gráficos: \n",
    "> Comparar desempenho por tamanho da imagem ( 5 grafos > para tamanhos das imagens. Cada serie no grafico deve ser uma forma gerar a imagem)\n",
    "\n",
    "> Comparar desempenho por tipo de gráfico produzido ( 3 x 4 gráficos, 4 áreas com 3 tipos de calculo cada / cruzar com tamanho da entrada também? daí seriam 4x 3 x 10)\n",
    "\n",
    "> estou confouzer, me ajudem a saber quais gráficos fazer"
   ]
  },
  {
   "cell_type": "code",
   "execution_count": null,
   "metadata": {},
   "outputs": [],
   "source": [
    "plot_results(\n",
    "    filter(row -> row[:size] == 16, parsed_results).threads,\n",
    "    filter(row -> row[:size] == 16, parsed_results).mean_duration,    \n",
    "    \"16\", filter(row -> row[:size] == 16, parsed_results).ci_duration,\n",
    "    y2 = filter(row -> row[:size] == 32, parsed_results).mean_duration,\n",
    "    series_label2 = \"32\", yerror2 = filter(row -> row[:size] == 32, parsed_results).ci_duration)"
   ]
  },
  {
   "cell_type": "markdown",
   "metadata": {},
   "source": [
    "### Comparando desempenho por quantidade de threads"
   ]
  },
  {
   "cell_type": "code",
   "execution_count": null,
   "metadata": {},
   "outputs": [],
   "source": []
  }
 ],
 "metadata": {
  "kernelspec": {
   "display_name": "Julia 1.3.1",
   "language": "julia",
   "name": "julia-1.3"
  },
  "language_info": {
   "file_extension": ".jl",
   "mimetype": "application/julia",
   "name": "julia",
   "version": "1.3.1"
  }
 },
 "nbformat": 4,
 "nbformat_minor": 4
}
